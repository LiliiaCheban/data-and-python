{
  "nbformat": 4,
  "nbformat_minor": 0,
  "metadata": {
    "colab": {
      "provenance": [],
      "include_colab_link": true
    },
    "kernelspec": {
      "name": "python3",
      "display_name": "Python 3"
    },
    "language_info": {
      "name": "python"
    }
  },
  "cells": [
    {
      "cell_type": "markdown",
      "metadata": {
        "id": "view-in-github",
        "colab_type": "text"
      },
      "source": [
        "<a href=\"https://colab.research.google.com/github/LiliiaCheban/data-and-python/blob/main/%D0%9A%D0%BE%D0%BF%D0%B8%D1%8F_%D0%B1%D0%BB%D0%BE%D0%BA%D0%BD%D0%BE%D1%82%D0%B0_%2200_Skill_assessment_ipynb%22.ipynb\" target=\"_parent\"><img src=\"https://colab.research.google.com/assets/colab-badge.svg\" alt=\"Open In Colab\"/></a>"
      ]
    },
    {
      "cell_type": "markdown",
      "source": [
        "# How much do you already know, or can work out?\n",
        "\n",
        "The following 10 exercises and challenge are designed to help you, and us to get an idea of how much you already know.  \n",
        "\n",
        "If you can do the exercise without help or need to look anything up, you can type the code into the code cell, click the play button (top left) and run the code to get the expected output.  \n",
        "\n",
        "If you think you can work it out without too much help, you could use [w3schools](https://www.w3schools.com/python/default.asp) as a reference tool and look things up (if you have never come across Python but have done some coding before, in another language, this will be very possible).  \n",
        "\n",
        "If you have never done any coding, in any language, and are nervous about having a go, then you could do one of our introductory worksheets.  \n",
        "\n",
        "### See how far you can get here"
      ],
      "metadata": {
        "id": "zDFqeDzGfxX4"
      }
    },
    {
      "cell_type": "markdown",
      "metadata": {
        "id": "-vVXrDTXbDzp"
      },
      "source": [
        "### Exercise 1 - printing\n",
        "---\n",
        "Print \"hello world\"\n",
        "\n",
        "**Expected Output**  \n",
        "hello world"
      ]
    },
    {
      "cell_type": "code",
      "metadata": {
        "id": "Z_Jc0SncbEkM",
        "outputId": "c9a7e2d3-57e5-446a-cfd3-24f7f5c5dc39",
        "colab": {
          "base_uri": "https://localhost:8080/"
        }
      },
      "source": [
        "print(\"hello world\")\n"
      ],
      "execution_count": null,
      "outputs": [
        {
          "output_type": "stream",
          "name": "stdout",
          "text": [
            "hello world\n"
          ]
        }
      ]
    },
    {
      "cell_type": "markdown",
      "metadata": {
        "id": "n-u42LuZbPc2"
      },
      "source": [
        "### Exercise 2 - using input\n",
        "---\n",
        "Create an input that asks for the user's name, stores it in a variable called name, then will `print` it\n",
        "\n",
        "**Test Input**  \n",
        "Marianne\n",
        "\n",
        "**Expected Output**  \n",
        "Marianne"
      ]
    },
    {
      "cell_type": "code",
      "metadata": {
        "id": "02KvhKPdbZW-",
        "outputId": "527faa5a-c8fb-41a4-e5e1-3aef9dfbac5a",
        "colab": {
          "base_uri": "https://localhost:8080/"
        }
      },
      "source": [
        "name=input(\"your name\")\n",
        "print(name)"
      ],
      "execution_count": null,
      "outputs": [
        {
          "output_type": "stream",
          "name": "stdout",
          "text": [
            "your nameMarianne\n",
            "Marianne\n"
          ]
        }
      ]
    },
    {
      "cell_type": "markdown",
      "metadata": {
        "id": "oXpvEknHbZvz"
      },
      "source": [
        "### Exercise 3 - operators, datatypes and input\n",
        "---\n",
        "\n",
        "Create 2 variables called **num1** and **num2** which each get their values from an input function which asks for a whole number and stores it as an integer\n",
        "\n",
        "Create a third variable called **num3** which adds **num1** and **num2** together\n",
        "\n",
        "**Test Input**  \n",
        "11  \n",
        "22  \n",
        "\n",
        "**Expected Output**  \n",
        "33\n"
      ]
    },
    {
      "cell_type": "code",
      "metadata": {
        "id": "WVnfbWjdcJPD",
        "colab": {
          "base_uri": "https://localhost:8080/"
        },
        "outputId": "13401a9b-be0c-48ae-f8fc-92f35e6e7cf4"
      },
      "source": [
        "num1=int(input(\"your number1\"))\n",
        "num2=int(input(\"your number2\"))\n",
        "num3=num1+num2\n",
        "print(num3)"
      ],
      "execution_count": null,
      "outputs": [
        {
          "output_type": "stream",
          "name": "stdout",
          "text": [
            "your number111\n",
            "your number222\n",
            "33\n"
          ]
        }
      ]
    },
    {
      "cell_type": "markdown",
      "metadata": {
        "id": "EDPftM6dcJzK"
      },
      "source": [
        "### Exercise 4 - using if/else\n",
        "---\n",
        "\n",
        "Create variables to hold two inputed integers (you did this in the previous exercise). Create a third variable to hold the sum of the two integers. Then, if the answer is between 15 to 20 print 20, else return the correct answer\n",
        "\n",
        "**Test Input**  \n",
        "3  \n",
        "15  \n",
        "\n",
        "**Expected Output**  \n",
        "20"
      ]
    },
    {
      "cell_type": "code",
      "metadata": {
        "outputId": "e7353da6-e570-41fc-9996-9f5723362db3",
        "colab": {
          "base_uri": "https://localhost:8080/"
        },
        "id": "zEZf3qc5gDsI"
      },
      "source": [
        "num1=int(input(\"your number1\"))\n",
        "num2=int(input(\"your number2\"))\n",
        "num3=num1+num2\n",
        "if 15<num3<20:\n",
        "\n",
        "  print(20)\n",
        "else:\n",
        "      print( num3)\n"
      ],
      "execution_count": null,
      "outputs": [
        {
          "output_type": "stream",
          "name": "stdout",
          "text": [
            "your number110\n",
            "your number26\n",
            "20\n"
          ]
        }
      ]
    },
    {
      "cell_type": "markdown",
      "metadata": {
        "id": "c7hKrWgIdPrr"
      },
      "source": [
        "### Exercise 5 - using for loops\n",
        "---\n",
        "`Print` each letter of the string \"supercalifragilistic\" using a `for` loop\n",
        "\n",
        "**Expected Output**   \n",
        "s  \n",
        "u  \n",
        "p  \n",
        "e  \n",
        "r  \n",
        "c  \n",
        "a  \n",
        "l  \n",
        "i  \n",
        "f  \n",
        "r  \n",
        "a  \n",
        "g  \n",
        "i  \n",
        "l  \n",
        "i  \n",
        "s  \n",
        "t  \n",
        "i  \n",
        "c  "
      ]
    },
    {
      "cell_type": "code",
      "metadata": {
        "id": "bxE5C2jYdg2w",
        "colab": {
          "base_uri": "https://localhost:8080/"
        },
        "outputId": "115b7705-a514-4199-eb3f-99cdc717e08e"
      },
      "source": [
        "string = \"supercalifragilistic\"\n",
        "for letter in string:\n",
        "         print(letter)"
      ],
      "execution_count": null,
      "outputs": [
        {
          "output_type": "stream",
          "name": "stdout",
          "text": [
            "s\n",
            "u\n",
            "p\n",
            "e\n",
            "r\n",
            "c\n",
            "a\n",
            "l\n",
            "i\n",
            "f\n",
            "r\n",
            "a\n",
            "g\n",
            "i\n",
            "l\n",
            "i\n",
            "s\n",
            "t\n",
            "i\n",
            "c\n"
          ]
        }
      ]
    },
    {
      "cell_type": "code",
      "source": [],
      "metadata": {
        "id": "EDYNV-fPivaZ"
      },
      "execution_count": null,
      "outputs": []
    },
    {
      "cell_type": "markdown",
      "metadata": {
        "id": "Bf_wev6UdhPH"
      },
      "source": [
        "### Exercise 6 - using while loops\n",
        "---\n",
        "Write a program that asks the user to enter a positive number.\n",
        "`if` the number entered is not positive (ie it is less than 0) the user will be shown an error message and asked to enter the number again. `if` a positive number is entered, the program should print \"Thankyou, goodbye\"\n",
        "\n",
        "**Test Input**   \n",
        "-1   \n",
        "4\n",
        "\n",
        "\n",
        "**Expected Output**  \n",
        "Error   \n",
        "Thankyou, goodbye"
      ]
    },
    {
      "cell_type": "code",
      "metadata": {
        "id": "muSpMY4vdtfD",
        "colab": {
          "base_uri": "https://localhost:8080/"
        },
        "outputId": "7894097e-4fa1-4184-e57c-720f2efc50b7"
      },
      "source": [
        "num = int(input(\"Please enter a positive number:\"))\n",
        "while num <= 0:\n",
        "\n",
        "    print(\"Error\")\n",
        "\n",
        "    break\n",
        "num = int(input(\"Please enter a positive number ones again:\"))\n",
        "if num>0:\n",
        "        print(\"Thank you, Good bye\")"
      ],
      "execution_count": null,
      "outputs": [
        {
          "output_type": "stream",
          "name": "stdout",
          "text": [
            "Please enter a positive number:-1\n",
            "Error\n",
            "Please enter a positive number ones again:2\n",
            "Thank you, Good bye\n"
          ]
        }
      ]
    },
    {
      "cell_type": "markdown",
      "metadata": {
        "id": "Q-drRJ2kdt4g"
      },
      "source": [
        "### Exercise 7 - lists and using list functions\n",
        "---\n",
        "The `list.sort()` function will sort a list.\n",
        "Create a list of 5 numbers and use the sorted function to sort them, storing the sorted list in a variabled called **sorted_list**\n",
        "\n",
        "**Test Input**  \n",
        "[1, 87, -1, 8, 21]\n",
        "\n",
        "**Expected Output**  \n",
        "[-1, 1, 8, 21, 87]"
      ]
    },
    {
      "cell_type": "code",
      "metadata": {
        "id": "W4MxMJ1ieGqe",
        "outputId": "41b91343-ac38-414a-95e0-6ae31befe86e",
        "colab": {
          "base_uri": "https://localhost:8080/"
        }
      },
      "source": [
        "my_list=[1,87,-1,8,21]\n",
        "my_list.sort()\n",
        "\n",
        "print(my_list)\n",
        "sorted_list=my_list\n",
        "print(sorted_list)\n"
      ],
      "execution_count": null,
      "outputs": [
        {
          "output_type": "stream",
          "name": "stdout",
          "text": [
            "[-1, 1, 8, 21, 87]\n",
            "[-1, 1, 8, 21, 87]\n"
          ]
        }
      ]
    },
    {
      "cell_type": "markdown",
      "metadata": {
        "id": "ZL0wbkQPeG6j"
      },
      "source": [
        "### Exercise 8 - dictionaries\n",
        "---\n",
        "Create an empty **dictionary** for a person (name, age and postcode). Read a person's details using the `input()` function and store them in your dictionary.\n",
        "\n",
        "Make sure that the entered age is a number (you could write a while loop to do this)\n",
        "\n",
        "Print the dictionary.  \n",
        "\n",
        "**Test Input**  \n",
        "Dave  \n",
        "24  \n",
        "SE11AB  \n",
        "\n",
        "**Expected Output**  \n",
        "{'name': 'Dave', 'age': 24, 'postcode': 'SE11AB'}"
      ]
    },
    {
      "cell_type": "code",
      "source": [
        "\n",
        "person = {}\n",
        "\n",
        "\n",
        "\n",
        "name = input('What is your name? ')\n",
        "# Reads user input for name\n",
        "age = 0\n",
        "# Initializes age at 0\n",
        "while not (type(age) == int):\n",
        "\n",
        "    try:\n",
        "    # Tries to convert string to int\n",
        "age = int(input('What is your age? '))\n",
        "# Reads user input for age except ValueError:\n",
        "# If conversion fails due to wrong data type\n",
        "    except ValueError:\n",
        "print(\"Please enter a valid number\")\n",
        "# Print error message\n",
        "postcode = input('What is your postcode? ')\n",
        "# Reads user input for postcode\n",
        "person['name']=name\n",
        "# Stores name in dictionary\n",
        "person['age']=age # Stores age in dictionary\n",
        "person['postcode']=postcode\n",
        "## Stores postcode in dictionary\n",
        "# Prints out the entire contents of the dictioanry\n",
        "print(person)"
      ],
      "metadata": {
        "colab": {
          "base_uri": "https://localhost:8080/",
          "height": 141
        },
        "id": "f7a61KB23BAY",
        "outputId": "75979b44-7bf9-415c-8aec-9e2e0b8d5572"
      },
      "execution_count": null,
      "outputs": [
        {
          "output_type": "error",
          "ename": "IndentationError",
          "evalue": "ignored",
          "traceback": [
            "\u001b[0;36m  File \u001b[0;32m\"<ipython-input-2-4a63078dc076>\"\u001b[0;36m, line \u001b[0;32m13\u001b[0m\n\u001b[0;31m    age = int(input('What is your age? '))\u001b[0m\n\u001b[0m                                          ^\u001b[0m\n\u001b[0;31mIndentationError\u001b[0m\u001b[0;31m:\u001b[0m expected an indented block after 'try' statement on line 11\n"
          ]
        }
      ]
    },
    {
      "cell_type": "markdown",
      "metadata": {
        "id": "lpT0N5HqehHK"
      },
      "source": [
        "### Exercise 9 - functions, lists and loops\n",
        "---\n",
        "Write a function to create and `print` a list where the values are squares of numbers between 1 and 30 (both included).\n",
        "\n",
        "**Expected Output**  \n",
        "[0, 1, 4, 9, 16, 25, 36, 49, 64, 81, 100, 121, 144, 169, 196, 225, 256, 289, 324, 361, 400, 441, 484, 529, 576, 625, 676, 729, 784, 841, 900]\n"
      ]
    },
    {
      "cell_type": "code",
      "metadata": {
        "id": "_h6r0hAce7ro"
      },
      "source": [
        "def squares():\n",
        "    sq_list = []\n",
        "    for num in range(1,31):\n",
        "      sq_list.append(num**2)\n",
        "      print(sq_list)\n"
      ],
      "execution_count": null,
      "outputs": []
    },
    {
      "cell_type": "markdown",
      "metadata": {
        "id": "GPoXDPh2e8LB"
      },
      "source": [
        "### Exercise 10 - functions\n",
        "---\n",
        "Create one function called **show_mood** that will take a current mood as a **parameter** of the function and will `return` a sentence in the following format: \"Today, I am feeling {mood}\". However, `if` an empty string is passed, it will `return` \"Today, I am feeling neutral\".\n",
        "\n",
        "**Test input**  \n",
        "show_mood(\"happy\")    \n",
        "show_mood(\"sad\")  \n",
        "show_mood(\"\")   \n",
        "\n",
        "**Expected output**  \n",
        "\"Today, I am feeling happy\"  \n",
        "\"Today, I am feeling sad\"  \n",
        "\"Today, I am feeling neutral\"   \n",
        "\n"
      ]
    },
    {
      "cell_type": "code",
      "metadata": {
        "id": "SvF1CessfoqC",
        "colab": {
          "base_uri": "https://localhost:8080/",
          "height": 35
        },
        "outputId": "ce85e65a-9ced-4ddf-f095-03571b65bad3"
      },
      "source": [
        "def show_mood(mood): # Function to\n",
        "\n",
        "    if mood == \"\":\n",
        "  # If empty string is passed\n",
        "         return \"Today, I am feeling neutral\"\n",
        "# Return statement for empty string\n",
        "    else:\n",
        "  # Otherwise\n",
        "            return f\"Today, I am feeling {mood}\"\n",
        "  # Return statement with current mood\n",
        "show_mood('sad')\n"
      ],
      "execution_count": null,
      "outputs": [
        {
          "output_type": "execute_result",
          "data": {
            "text/plain": [
              "'Today, I am feeling sad'"
            ],
            "application/vnd.google.colaboratory.intrinsic+json": {
              "type": "string"
            }
          },
          "metadata": {},
          "execution_count": 14
        }
      ]
    },
    {
      "cell_type": "markdown",
      "metadata": {
        "id": "9U9rREgKumh1"
      },
      "source": [
        "### OPTIONAL Challenge\n",
        "---\n",
        "Copy and modify the function called **show_mood** so that it will take a current mood as a **parameter** of the function and will `return` a sentence in the following format: \"Today, I am feeling {mood}\". **However, if *no argument* is passed, it will assume that the mood is neutral**.\n",
        "\n",
        "**Test input**  \n",
        "show_mood(\"happy\")    \n",
        "show_mood(\"sad\")  \n",
        "show_mood()   \n",
        "\n",
        "**Expected output**  \n",
        "\"Today, I am feeling happy\"  \n",
        "\"Today, I am feeling sad\"  \n",
        "\"Today, I am feeling neutral\"   "
      ]
    },
    {
      "cell_type": "code",
      "metadata": {
        "id": "B2fYBD0Ouw2E"
      },
      "source": [],
      "execution_count": null,
      "outputs": []
    }
  ]
}