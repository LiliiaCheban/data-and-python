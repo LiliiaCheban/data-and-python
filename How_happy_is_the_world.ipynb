{
  "nbformat": 4,
  "nbformat_minor": 0,
  "metadata": {
    "colab": {
      "provenance": [],
      "authorship_tag": "ABX9TyP1UNFarmUbNirGD9Ny7ASL",
      "include_colab_link": true
    },
    "kernelspec": {
      "name": "python3",
      "display_name": "Python 3"
    },
    "language_info": {
      "name": "python"
    }
  },
  "cells": [
    {
      "cell_type": "markdown",
      "metadata": {
        "id": "view-in-github",
        "colab_type": "text"
      },
      "source": [
        "<a href=\"https://colab.research.google.com/github/LiliiaCheban/data-and-python/blob/main/How_happy_is_the_world.ipynb\" target=\"_parent\"><img src=\"https://colab.research.google.com/assets/colab-badge.svg\" alt=\"Open In Colab\"/></a>"
      ]
    },
    {
      "cell_type": "markdown",
      "source": [
        "Open a data set\n",
        "Open the data set, an Excel file with only one sheet (so sheet_name is not necessary) from here: https://github.com/futureCodersSE/working-with-data/blob/main/Happiness-Data/2015.xlsx?raw=true\n",
        "\n",
        "Interrogate the data (head, tail, iloc) to get to know what it contains."
      ],
      "metadata": {
        "id": "VEOxFTKCNGDs"
      }
    },
    {
      "cell_type": "markdown",
      "source": [
        "Открыть набор данных\n",
        "Откройте набор данных, файл Excel, содержащий только один лист (поэтому имя_листа не обязательно) отсюда: https://github.com/futureCodersSE/working-with-data/blob/main/Happiness-Data/2015.xlsx? сырой = правда\n",
        "\n",
        "Опросите данные (head, Tail, iloc), чтобы узнать, что они содержат."
      ],
      "metadata": {
        "id": "A4kAlLRENXXk"
      }
    },
    {
      "cell_type": "code",
      "source": [
        "def happiness():\n",
        "  import pandas as pd\n",
        "  url ='https://github.com/futureCodersSE/working-with-data/blob/main/Happiness-Data/2019.xlsx?raw=true'\n",
        "  df=pd.read_excel(url)\n",
        "  print(df.head(3))\n",
        "  print(df.tail(3))\n",
        "  print('rows and column',df.shape)\n",
        "\n",
        "\n",
        "\n",
        "happiness()"
      ],
      "metadata": {
        "colab": {
          "base_uri": "https://localhost:8080/"
        },
        "id": "6aqOTltRNZAQ",
        "outputId": "421ec7b6-1756-434d-e82a-a56de80ecf2b"
      },
      "execution_count": 34,
      "outputs": [
        {
          "output_type": "stream",
          "name": "stdout",
          "text": [
            "   Overall rank Country or region  Score  GDP per capita  Social support  \\\n",
            "0             1           Finland  7.769           1.340           1.587   \n",
            "1             2           Denmark  7.600           1.383           1.573   \n",
            "2             3            Norway  7.554           1.488           1.582   \n",
            "\n",
            "   Healthy life expectancy  Freedom to make life choices  Generosity  \\\n",
            "0                    0.986                         0.596       0.153   \n",
            "1                    0.996                         0.592       0.252   \n",
            "2                    1.028                         0.603       0.271   \n",
            "\n",
            "   Perceptions of corruption  \n",
            "0                      0.393  \n",
            "1                      0.410  \n",
            "2                      0.341  \n",
            "     Overall rank         Country or region  Score  GDP per capita  \\\n",
            "153           154               Afghanistan  3.203           0.350   \n",
            "154           155  Central African Republic  3.083           0.026   \n",
            "155           156               South Sudan  2.853           0.306   \n",
            "\n",
            "     Social support  Healthy life expectancy  Freedom to make life choices  \\\n",
            "153           0.517                    0.361                         0.000   \n",
            "154           0.000                    0.105                         0.225   \n",
            "155           0.575                    0.295                         0.010   \n",
            "\n",
            "     Generosity  Perceptions of corruption  \n",
            "153       0.158                      0.025  \n",
            "154       0.235                      0.035  \n",
            "155       0.202                      0.091  \n",
            "rows and column (156, 9)\n"
          ]
        }
      ]
    },
    {
      "cell_type": "markdown",
      "source": [
        "Sort the data in different ways\n",
        "The data is currently sorted in order of rank. To sort the data in the table, run the code below, which identifies the column on which to sort in the brackets.\n",
        "\n",
        "Then, try sorting on other columns Note: you must type the column heading in the quotes and exactly as it appears in the table (including capitalisation). To sort on multiple columns, enter a list of column headings in the brackets (e.g. .sort_values(['Region','Freedom'])\n",
        "\n"
      ],
      "metadata": {
        "id": "SwB-qlfeRZP1"
      }
    },
    {
      "cell_type": "markdown",
      "source": [
        "Сортируйте данные разными способами\n",
        "В настоящее время данные отсортированы по рангу. Чтобы отсортировать данные в таблице, запустите приведенный ниже код, который определяет столбец для сортировки в скобках.\n",
        "\n",
        "Затем попробуйте выполнить сортировку по другим столбцам. Примечание. Заголовок столбца необходимо вводить в кавычках и точно так, как он отображается в таблице (включая заглавные буквы). Чтобы отсортировать несколько столбцов, введите в скобках список заголовков столбцов (например, .sort_values(['Region','Freedom'])"
      ],
      "metadata": {
        "id": "q8lrbyWTRkcM"
      }
    },
    {
      "cell_type": "code",
      "source": [
        "def happiness_sort():\n",
        "  import pandas as pd\n",
        "  url ='https://github.com/futureCodersSE/working-with-data/blob/main/Happiness-Data/2019.xlsx?raw=true'\n",
        "  df=pd.read_excel(url)\n",
        "\n",
        "  gener_sort=df.sort_values(by='Generosity',ascending=True).head()\n",
        "  print('sorting  Generosity','\\n', gener_sort)\n",
        "  supp_generosity_sort=df.sort_values(by=['Social support','Generosity'], ascending=True).head()\n",
        "\n",
        "\n",
        "\n",
        "  print('sorting Social support and Generosity','\\n',supp_generosity_sort)\n",
        "happiness_sort()\n",
        "\n",
        "\n"
      ],
      "metadata": {
        "colab": {
          "base_uri": "https://localhost:8080/"
        },
        "id": "BIfSP3YsduWm",
        "outputId": "691fc39f-327c-420a-d7c8-3ed1bcaea2ec"
      },
      "execution_count": 35,
      "outputs": [
        {
          "output_type": "stream",
          "name": "stdout",
          "text": [
            "sorting  Generosity \n",
            "      Overall rank Country or region  Score  GDP per capita  Social support  \\\n",
            "81             82            Greece  5.287           1.181           1.156   \n",
            "147           148          Botswana  3.488           1.041           1.145   \n",
            "89             90        Azerbaijan  5.208           1.043           1.147   \n",
            "88             89           Morocco  5.208           0.801           0.782   \n",
            "41             42         Lithuania  6.149           1.238           1.515   \n",
            "\n",
            "     Healthy life expectancy  Freedom to make life choices  Generosity  \\\n",
            "81                     0.999                         0.067       0.000   \n",
            "147                    0.538                         0.455       0.025   \n",
            "89                     0.769                         0.351       0.035   \n",
            "88                     0.782                         0.418       0.036   \n",
            "41                     0.818                         0.291       0.043   \n",
            "\n",
            "     Perceptions of corruption  \n",
            "81                       0.034  \n",
            "147                      0.100  \n",
            "89                       0.182  \n",
            "88                       0.076  \n",
            "41                       0.042  \n",
            "sorting Social support and Generosity \n",
            "      Overall rank         Country or region  Score  GDP per capita  \\\n",
            "154           155  Central African Republic  3.083           0.026   \n",
            "148           149                     Syria  3.462           0.619   \n",
            "101           102                     Benin  4.883           0.393   \n",
            "144           145                   Burundi  3.775           0.046   \n",
            "153           154               Afghanistan  3.203           0.350   \n",
            "\n",
            "     Social support  Healthy life expectancy  Freedom to make life choices  \\\n",
            "154           0.000                    0.105                         0.225   \n",
            "148           0.378                    0.440                         0.013   \n",
            "101           0.437                    0.397                         0.349   \n",
            "144           0.447                    0.380                         0.220   \n",
            "153           0.517                    0.361                         0.000   \n",
            "\n",
            "     Generosity  Perceptions of corruption  \n",
            "154       0.235                      0.035  \n",
            "148       0.331                      0.141  \n",
            "101       0.175                      0.082  \n",
            "144       0.176                      0.180  \n",
            "153       0.158                      0.025  \n"
          ]
        }
      ]
    },
    {
      "cell_type": "markdown",
      "source": [],
      "metadata": {
        "id": "vsCfWjtHmhQ-"
      }
    },
    {
      "cell_type": "markdown",
      "source": [
        "Summarising the data\n",
        "Look at the happiness dataframe. Create new dataframes from a range of rows, columns, statistical information, etc.\n",
        "\n",
        "For each dataframe, add a text cell to explain what it is showing"
      ],
      "metadata": {
        "id": "Emv8Le3btSCH"
      }
    },
    {
      "cell_type": "markdown",
      "source": [
        "Обобщение данных\n",
        "Посмотрите на фрейм данных счастья. Создавайте новые кадры данных из ряда строк, столбцов, статистической информации и т. д.\n",
        "\n",
        "Для каждого кадра данных добавьте текстовую ячейку, чтобы объяснить, что она показывает."
      ],
      "metadata": {
        "id": "T9YjKEumtWSd"
      }
    },
    {
      "cell_type": "code",
      "source": [
        "def happiness_add():\n",
        "  import pandas as pd\n",
        "  url ='https://github.com/futureCodersSE/working-with-data/blob/main/Happiness-Data/2019.xlsx?raw=true'\n",
        "  df=pd.read_excel(url)\n",
        "\n",
        "\n",
        "  df_new=df.copy()\n",
        "  df_new =df_new[['Social support','Generosity']].head()\n",
        "  print('adding new column','\\n')\n",
        "  df_new['Name']=(df_new['Social support']/df_new['Generosity'])\n",
        "  print(df_new)\n",
        "  print('adding column from rows','\\n')\n",
        "  df_new['name_rows']=df_new.iloc[0]\n",
        "  print(df_new)\n",
        "  df_new['statistics_Support']=df_new['Social support'].mean()\n",
        "  print(' adding mean column Social support','\\n', df_new)\n",
        "\n",
        "\n",
        "\n",
        "happiness_add()\n",
        "\n",
        "\n",
        "\n",
        "\n"
      ],
      "metadata": {
        "colab": {
          "base_uri": "https://localhost:8080/"
        },
        "id": "cKbTxGtjNP2r",
        "outputId": "621bf099-e3e2-409d-ceff-03bdb5abdbdf"
      },
      "execution_count": 87,
      "outputs": [
        {
          "output_type": "stream",
          "name": "stdout",
          "text": [
            "adding new column \n",
            "\n",
            "   Social support  Generosity       Name\n",
            "0           1.587       0.153  10.372549\n",
            "1           1.573       0.252   6.242063\n",
            "2           1.582       0.271   5.837638\n",
            "3           1.624       0.354   4.587571\n",
            "4           1.522       0.322   4.726708\n",
            "adding column from rows \n",
            "\n",
            "   Social support  Generosity       Name  name_rows\n",
            "0           1.587       0.153  10.372549        NaN\n",
            "1           1.573       0.252   6.242063        NaN\n",
            "2           1.582       0.271   5.837638        NaN\n",
            "3           1.624       0.354   4.587571        NaN\n",
            "4           1.522       0.322   4.726708        NaN\n",
            " adding mean column Social support \n",
            "    Social support  Generosity       Name  name_rows  statistics_Support\n",
            "0           1.587       0.153  10.372549        NaN              1.5776\n",
            "1           1.573       0.252   6.242063        NaN              1.5776\n",
            "2           1.582       0.271   5.837638        NaN              1.5776\n",
            "3           1.624       0.354   4.587571        NaN              1.5776\n",
            "4           1.522       0.322   4.726708        NaN              1.5776\n"
          ]
        }
      ]
    },
    {
      "cell_type": "markdown",
      "source": [
        "Next steps\n",
        "There are data sets for the years 2015 to 2019 available. To access and try out other years, change 2015 to the required year in the URL in the first code cell. Leave the rest exactly as it is.\n",
        "\n",
        "Other years may have different column headings and so there will be different data to play with."
      ],
      "metadata": {
        "id": "FkHpQzMvJ4nZ"
      }
    },
    {
      "cell_type": "markdown",
      "source": [
        "Следующие шаги\n",
        "Доступны наборы данных за 2015-2019 годы. Чтобы получить доступ к другим годам и опробовать их, измените 2015 на нужный год в URL-адресе в первой ячейке кода. Остальное оставьте как есть.\n",
        "\n",
        "В другие годы заголовки столбцов могут быть другими, поэтому вам придется экспериментировать с другими данными."
      ],
      "metadata": {
        "id": "9WkonQLtJ6E5"
      }
    },
    {
      "cell_type": "code",
      "source": [
        "def other_years ():\n",
        "  import pandas as pd\n",
        "  url ='https://github.com/futureCodersSE/working-with-data/blob/main/Happiness-Data/2016.xlsx?raw=true'\n",
        "  df=pd.read_excel(url)\n",
        "  print(df.columns)\n",
        "  print(df.head(1))\n",
        "  df_new =df.copy()\n",
        "\n",
        "  df_new =df_new[['Happiness Score','Lower Confidence Interval']].head()\n",
        "  print('adding new column','\\n')\n",
        "  df_new['Name']=(df_new['Happiness Score']/df_new['Lower Confidence Interval'])\n",
        "\n",
        "\n",
        "  print(df_new)\n",
        "\n",
        "\n",
        "  print('adding column from rows','\\n')\n",
        "  df_new['name_rows']=df_new.iloc[0]\n",
        "  print(df_new)\n",
        "  df_new['mean Happiness Score']=df_new['Happiness Score'].mean()\n",
        "  print(' adding mean column Happiness Score','\\n', df_new)\n",
        "\n",
        "\n",
        "\n",
        "\n",
        "other_years ()"
      ],
      "metadata": {
        "colab": {
          "base_uri": "https://localhost:8080/"
        },
        "id": "rOoCUJzhKDva",
        "outputId": "712c3cfc-f62d-44d4-e465-8ce9b4819790"
      },
      "execution_count": 92,
      "outputs": [
        {
          "output_type": "stream",
          "name": "stdout",
          "text": [
            "Index(['Country', 'Region', 'Happiness Rank', 'Happiness Score',\n",
            "       'Lower Confidence Interval', 'Upper Confidence Interval',\n",
            "       'Economy (GDP per Capita)', 'Family', 'Health (Life Expectancy)',\n",
            "       'Freedom', 'Trust (Government Corruption)', 'Generosity',\n",
            "       'Dystopia Residual'],\n",
            "      dtype='object')\n",
            "   Country          Region  Happiness Rank  Happiness Score  \\\n",
            "0  Denmark  Western Europe               1            7.526   \n",
            "\n",
            "   Lower Confidence Interval  Upper Confidence Interval  \\\n",
            "0                       7.46                      7.592   \n",
            "\n",
            "   Economy (GDP per Capita)   Family  Health (Life Expectancy)  Freedom  \\\n",
            "0                   1.44178  1.16374                   0.79504  0.57941   \n",
            "\n",
            "   Trust (Government Corruption)  Generosity  Dystopia Residual  \n",
            "0                        0.44453     0.36171            2.73939  \n",
            "adding new column \n",
            "\n",
            "   Happiness Score  Lower Confidence Interval      Name\n",
            "0            7.526                      7.460  1.008847\n",
            "1            7.509                      7.428  1.010905\n",
            "2            7.501                      7.333  1.022910\n",
            "3            7.498                      7.421  1.010376\n",
            "4            7.413                      7.351  1.008434\n",
            "adding column from rows \n",
            "\n",
            "   Happiness Score  Lower Confidence Interval      Name  name_rows\n",
            "0            7.526                      7.460  1.008847        NaN\n",
            "1            7.509                      7.428  1.010905        NaN\n",
            "2            7.501                      7.333  1.022910        NaN\n",
            "3            7.498                      7.421  1.010376        NaN\n",
            "4            7.413                      7.351  1.008434        NaN\n",
            " adding mean column Happiness Score \n",
            "    Happiness Score  Lower Confidence Interval      Name  name_rows  \\\n",
            "0            7.526                      7.460  1.008847        NaN   \n",
            "1            7.509                      7.428  1.010905        NaN   \n",
            "2            7.501                      7.333  1.022910        NaN   \n",
            "3            7.498                      7.421  1.010376        NaN   \n",
            "4            7.413                      7.351  1.008434        NaN   \n",
            "\n",
            "   mean Happiness Score  \n",
            "0                7.4894  \n",
            "1                7.4894  \n",
            "2                7.4894  \n",
            "3                7.4894  \n",
            "4                7.4894  \n"
          ]
        }
      ]
    }
  ]
}