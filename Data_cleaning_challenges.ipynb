{
  "nbformat": 4,
  "nbformat_minor": 0,
  "metadata": {
    "colab": {
      "provenance": [],
      "authorship_tag": "ABX9TyOvvgXyq350YcuiBbQl6P8v",
      "include_colab_link": true
    },
    "kernelspec": {
      "name": "python3",
      "display_name": "Python 3"
    },
    "language_info": {
      "name": "python"
    }
  },
  "cells": [
    {
      "cell_type": "markdown",
      "metadata": {
        "id": "view-in-github",
        "colab_type": "text"
      },
      "source": [
        "<a href=\"https://colab.research.google.com/github/LiliiaCheban/data-and-python/blob/main/Data_cleaning_challenges.ipynb\" target=\"_parent\"><img src=\"https://colab.research.google.com/assets/colab-badge.svg\" alt=\"Open In Colab\"/></a>"
      ]
    },
    {
      "cell_type": "markdown",
      "source": [
        "Normalisation challenges\n",
        "Challenge 1 - prepare dataset for normalisation"
      ],
      "metadata": {
        "id": "OXZrDujsZR6F"
      }
    },
    {
      "cell_type": "markdown",
      "source": [
        "Проблемы нормализации\n",
        "Задача 1 – подготовить набор данных для нормализации"
      ],
      "metadata": {
        "id": "JQXI8jAvZUS9"
      }
    },
    {
      "cell_type": "markdown",
      "source": [
        "Read Covid vaccination data from the by_country sheet in the Excel file at this link : https://github.com/lilaceri/Working-with-data-/blob/342abab10d93c4bf23b5c55a50f189f12a137c5f/Data%20Sets%20for%20code%20divisio/Covid%20Vaccination%20Data.xlsx?raw=true\n",
        "Use .info() to find out which columns have missing values\n",
        "Remove all rows with missing data in the total_vaccination column\n",
        "Find the median vaccinations per hundred\n",
        "display the mean people vaccinated per hundred for each country in descending order\n",
        "find the range of total_vaccinations across the dataframe"
      ],
      "metadata": {
        "id": "SPXyk7nDZiqk"
      }
    },
    {
      "cell_type": "markdown",
      "source": [
        "Прочтите данные о вакцинации против Covid из таблицы by_country в файле Excel по этой ссылке: https://github.com/lilaceri/Working-with-data-/blob/342abab10d93c4bf23b5c55a50f189f12a137c5f/Data%20Sets%20for%20code%20divisio/Covid%20Vaccination %20Data.xlsx?raw=истина\n",
        "Используйте .info(), чтобы узнать, в каких столбцах отсутствуют значения.\n",
        "Удалите все строки с отсутствующими данными в столбце total_vaccination.\n",
        "Найдите медиану прививок на сотню\n",
        "отобразить среднее количество привитых на сто человек для каждой страны в порядке убывания\n",
        "найти диапазон total_vaccinations в кадре данных"
      ],
      "metadata": {
        "id": "DPb9AhnfZuWl"
      }
    },
    {
      "cell_type": "code",
      "source": [
        "import pandas as pd\n",
        "\n",
        "# Загрузка данных из Excel файла\n",
        "url = \"https://github.com/lilaceri/Working-with-data-/blob/342abab10d93c4bf23b5c55a50f189f12a137c5f/Data%20Sets%20for%20code%20divisio/Covid%20Vaccination%20Data.xlsx?raw=true\"\n",
        "covid_data = pd.read_excel(url, sheet_name=\"by_country\")\n",
        "\n",
        "# Проверка отсутствующих значений в столбцах\n",
        "print(\"2.  Информация о данных до удаления:\")\n",
        "print(covid_data.info())\n",
        "\n",
        "# Удаление строк с отсутствующими данными в столбце total_vaccination\n",
        "covid_data = covid_data.dropna(subset=[\"total_vaccinations\"])\n",
        "\n",
        "# Проверка отсутствующих значений после удаления\n",
        "print(\"3.  \\nИнформация о данных после удаления:\")\n",
        "print(covid_data.info())\n",
        "\n",
        "# Нахождение медианы прививок на сотню\n",
        "print('4.  Нахождение медианы прививок на сотню')\n",
        "print(covid_data[\"total_vaccinations_per_hundred\"].median())\n",
        "\n",
        "\n",
        "#covid_data[\"vaccinations_per_hundred\"] = covid_data[\"total_vaccinations\"] / covid_data[\"population\"] * 100\n",
        "\n",
        "# Отображение среднего количества привитых на сто человек для каждой страны в порядке убывания\n",
        "average_vaccinations_per_hundred = covid_data.groupby(\"country\")[\"people_fully_vaccinated_per_hundred\"].mean().sort_values(ascending=False)\n",
        "print(\"5.   \\nСреднее количество привитых на сто человек для каждой страны (по убыванию):\")\n",
        "print(average_vaccinations_per_hundred)\n",
        "\n",
        "\n",
        "\n",
        "# Нахождение диапазона total_vaccinations в кадре данных\n",
        "vaccination_range = covid_data[\"total_vaccinations\"].min(), covid_data[\"total_vaccinations\"].max()\n",
        "print(\"6.   \\nДиапазон total_vaccinations в кадре данных:\", vaccination_range)"
      ],
      "metadata": {
        "colab": {
          "base_uri": "https://localhost:8080/"
        },
        "id": "VYhW5LXsZv6T",
        "outputId": "724a8322-7913-40b9-e8bd-6bda9d5c4293"
      },
      "execution_count": null,
      "outputs": [
        {
          "output_type": "stream",
          "name": "stdout",
          "text": [
            "2.  Информация о данных до удаления:\n",
            "<class 'pandas.core.frame.DataFrame'>\n",
            "RangeIndex: 14994 entries, 0 to 14993\n",
            "Data columns (total 15 columns):\n",
            " #   Column                               Non-Null Count  Dtype         \n",
            "---  ------                               --------------  -----         \n",
            " 0   country                              14994 non-null  object        \n",
            " 1   iso_code                             14994 non-null  object        \n",
            " 2   date                                 14994 non-null  datetime64[ns]\n",
            " 3   total_vaccinations                   9011 non-null   float64       \n",
            " 4   people_vaccinated                    8370 non-null   float64       \n",
            " 5   people_fully_vaccinated              6158 non-null   float64       \n",
            " 6   daily_vaccinations_raw               7575 non-null   float64       \n",
            " 7   daily_vaccinations                   14796 non-null  float64       \n",
            " 8   total_vaccinations_per_hundred       9011 non-null   float64       \n",
            " 9   people_vaccinated_per_hundred        8370 non-null   float64       \n",
            " 10  people_fully_vaccinated_per_hundred  6158 non-null   float64       \n",
            " 11  daily_vaccinations_per_million       14796 non-null  float64       \n",
            " 12  vaccines                             14994 non-null  object        \n",
            " 13  source_name                          14994 non-null  object        \n",
            " 14  source_website                       14994 non-null  object        \n",
            "dtypes: datetime64[ns](1), float64(9), object(5)\n",
            "memory usage: 1.7+ MB\n",
            "None\n",
            "3.  \n",
            "Информация о данных после удаления:\n",
            "<class 'pandas.core.frame.DataFrame'>\n",
            "Int64Index: 9011 entries, 0 to 14993\n",
            "Data columns (total 15 columns):\n",
            " #   Column                               Non-Null Count  Dtype         \n",
            "---  ------                               --------------  -----         \n",
            " 0   country                              9011 non-null   object        \n",
            " 1   iso_code                             9011 non-null   object        \n",
            " 2   date                                 9011 non-null   datetime64[ns]\n",
            " 3   total_vaccinations                   9011 non-null   float64       \n",
            " 4   people_vaccinated                    8294 non-null   float64       \n",
            " 5   people_fully_vaccinated              6157 non-null   float64       \n",
            " 6   daily_vaccinations_raw               7575 non-null   float64       \n",
            " 7   daily_vaccinations                   8816 non-null   float64       \n",
            " 8   total_vaccinations_per_hundred       9011 non-null   float64       \n",
            " 9   people_vaccinated_per_hundred        8294 non-null   float64       \n",
            " 10  people_fully_vaccinated_per_hundred  6157 non-null   float64       \n",
            " 11  daily_vaccinations_per_million       8816 non-null   float64       \n",
            " 12  vaccines                             9011 non-null   object        \n",
            " 13  source_name                          9011 non-null   object        \n",
            " 14  source_website                       9011 non-null   object        \n",
            "dtypes: datetime64[ns](1), float64(9), object(5)\n",
            "memory usage: 1.1+ MB\n",
            "None\n",
            "4.  Нахождение медианы прививок на сотню\n",
            "6.3\n",
            "5.   \n",
            "Среднее количество привитых на сто человек для каждой страны (по убыванию):\n",
            "country\n",
            "Gibraltar                   53.110405\n",
            "Falkland Islands            50.130000\n",
            "Israel                      37.157479\n",
            "Seychelles                  28.148611\n",
            "Turks and Caicos Islands    25.830000\n",
            "                              ...    \n",
            "Uganda                            NaN\n",
            "Uzbekistan                        NaN\n",
            "Venezuela                         NaN\n",
            "Vietnam                           NaN\n",
            "Zambia                            NaN\n",
            "Name: people_fully_vaccinated_per_hundred, Length: 195, dtype: float64\n",
            "6.   \n",
            "Диапазон total_vaccinations в кадре данных: (0.0, 275338000.0)\n"
          ]
        }
      ]
    },
    {
      "cell_type": "markdown",
      "source": [
        "Challenge 2 - normalise daily vaccinations\n",
        "Find the median daily vaccinations per million\n",
        "Write a function to normalise daily vaccinations per million, where values greater than or equal to median = 1 and values less than median = 0"
      ],
      "metadata": {
        "id": "A9e6FqX2kc-U"
      }
    },
    {
      "cell_type": "markdown",
      "source": [
        "Задача 2 – нормализовать ежедневные прививки\n",
        "Найдите медиану ежедневных прививок на миллион\n",
        "Напишите функцию для нормализации ежедневных прививок на миллион, где значения больше или равны медиане = 1, а значения меньше медианы = 0."
      ],
      "metadata": {
        "id": "YLpHk2JNkhBs"
      }
    },
    {
      "cell_type": "code",
      "source": [
        "import pandas as pd\n",
        "\n",
        "\n",
        "url = \"https://github.com/lilaceri/Working-with-data-/blob/342abab10d93c4bf23b5c55a50f189f12a137c5f/Data%20Sets%20for%20code%20divisio/Covid%20Vaccination%20Data.xlsx?raw=true\"\n",
        "covid_data = pd.read_excel(url, sheet_name=\"by_country\")\n",
        "median_daily_vaccinations_per_million = covid_data[\"daily_vaccinations_per_million\"].median()\n",
        "print(\"Median daily vaccinations per million:\", median_daily_vaccinations_per_million)\n",
        "\n",
        "def normalize_daily_vaccinations(value, median_value):\n",
        "    return 1 if value >= median_value else 0\n",
        "\n",
        "# Apply the normalization function to create a new column\n",
        "covid_data[\"normalized_daily_vaccinations\"] = covid_data[\"daily_vaccinations_per_million\"].apply(\n",
        "    normalize_daily_vaccinations,\n",
        "    median_value=median_daily_vaccinations_per_million\n",
        ")\n",
        "#Display the results using describe()\n",
        "print(\"\\nSummary statistics for normalized daily vaccinations per million:\")\n",
        "print(covid_data[\"normalized_daily_vaccinations\"].describe())"
      ],
      "metadata": {
        "colab": {
          "base_uri": "https://localhost:8080/"
        },
        "id": "y6SSKQBxkrM9",
        "outputId": "af1ae38e-8500-499c-a64d-31bb011f7651"
      },
      "execution_count": 3,
      "outputs": [
        {
          "output_type": "stream",
          "name": "stdout",
          "text": [
            "Median daily vaccinations per million: 1475.0\n",
            "\n",
            "Summary statistics for normalized daily vaccinations per million:\n",
            "count    14994.000000\n",
            "mean         0.493464\n",
            "std          0.499974\n",
            "min          0.000000\n",
            "25%          0.000000\n",
            "50%          0.000000\n",
            "75%          1.000000\n",
            "max          1.000000\n",
            "Name: normalized_daily_vaccinations, dtype: float64\n"
          ]
        }
      ]
    },
    {
      "cell_type": "markdown",
      "source": [
        "Challenge 3 - Normalising total vaccinations\n",
        "The United Kingdom has been praised for its fast vaccine rollout.\n",
        "\n",
        "Find the minimum total vaccinations for the United Kingdom\n",
        "Save this value in a variable rounded down to an integer\n",
        "Write a function to normalise total_vaccinations column so that all values less than the UK's min are 0 and all values greater than or equal to the UK's min are coded as 1\n",
        "Display the countries for which total vaccinated is at the same rate or more than the UK"
      ],
      "metadata": {
        "id": "xKUzHBUgol8Q"
      }
    },
    {
      "cell_type": "markdown",
      "source": [
        "Задача 3 – Нормализация общего объема вакцинации\n",
        "Великобританию хвалили за быстрое внедрение вакцины.\n",
        "\n",
        "Найдите минимальное общее количество прививок для Соединенного Королевства.\n",
        "Сохраните это значение в переменной, округлив до целого числа.\n",
        "Напишите функцию для нормализации столбца total_vaccinations, чтобы все значения меньше минимального значения для Великобритании были равны 0, а все значения, превышающие или равные минимальному значению для Великобритании, кодировались как 1.\n",
        "Отобразите страны, в которых общее количество привитых такое же или больше, чем в Великобритании."
      ],
      "metadata": {
        "id": "mXYFZMhEonev"
      }
    },
    {
      "cell_type": "code",
      "source": [
        "import pandas as pd\n",
        "import numpy as np\n",
        "\n",
        "url = \"https://github.com/lilaceri/Working-with-data-/blob/342abab10d93c4bf23b5c55a50f189f12a137c5f/Data%20Sets%20for%20code%20divisio/Covid%20Vaccination%20Data.xlsx?raw=true\"\n",
        "covid_data = pd.read_excel(url, sheet_name=\"by_country\")\n",
        "# Find the minimum total vaccinations for the United Kingdom\n",
        "uk_min_total_vaccinations = covid_data.loc[covid_data['country'] == 'United Kingdom', 'total_vaccinations'].min()\n",
        "uk_min_total_vaccinations = int(np.floor(uk_min_total_vaccinations))  # Round down to an integer\n",
        "print(\"Minimum total vaccinations for the United Kingdom:\", uk_min_total_vaccinations)\n",
        "\n",
        "# Function to normalize total vaccinations\n",
        "def normalize_total_vaccinations(value, min_value):\n",
        "    return 1 if value >= min_value else 0\n",
        "\n",
        "# Apply the normalization function to create a new column\n",
        "covid_data[\"total_vaccinations\"] = covid_data[\"total_vaccinations\"].apply(\n",
        "    normalize_total_vaccinations,\n",
        "    min_value=uk_min_total_vaccinations\n",
        ")\n",
        "\n",
        "# Display the first few rows of the modified DataFrame\n",
        "print(covid_data['total_vaccinations'].head())\n",
        "\n",
        "# Display the countries with total vaccinations at the same rate or more than the UK\n",
        "countries_same_rate_or_more = covid_data[covid_data['total_vaccinations'] == 1]['country'].values\n",
        "print(\"\\nCountries with total vaccinations at the same rate or more than the UK:\")\n",
        "print(countries_same_rate_or_more)\n",
        "\n"
      ],
      "metadata": {
        "colab": {
          "base_uri": "https://localhost:8080/"
        },
        "id": "uTMWaOBhotF_",
        "outputId": "a84ce197-65fc-4f69-bc9a-4503adda9a6e"
      },
      "execution_count": 9,
      "outputs": [
        {
          "output_type": "stream",
          "name": "stdout",
          "text": [
            "Minimum total vaccinations for the United Kingdom: 1402432\n",
            "0    0\n",
            "1    0\n",
            "2    0\n",
            "3    0\n",
            "4    0\n",
            "Name: total_vaccinations, dtype: int64\n",
            "\n",
            "Countries with total vaccinations at the same rate or more than the UK:\n",
            "['Argentina' 'Argentina' 'Argentina' ... 'Wales' 'Wales' 'Wales']\n"
          ]
        }
      ]
    },
    {
      "cell_type": "markdown",
      "source": [
        "Challenge 4 - create new series of total vaccinations for each manufacturer"
      ],
      "metadata": {
        "id": "7StoWj3jrvZz"
      }
    },
    {
      "cell_type": "markdown",
      "source": [
        "read data from 'by_manufacturer' sheet from Covid data\n",
        "find the sum of total vaccinations for each manufacturer\n",
        "create a new column that has the total vaccinations as a percentage of the overall sum of total vaccinations\n",
        "find the median percentage\n",
        "create a new column called 'normalised_percentages' which duplicates the percentages column\n",
        "normalise the normalised_percentages column so that any values greater than or equal to the median percentage = 1 and any lesser than = 0"
      ],
      "metadata": {
        "id": "yUMBnZw0rz30"
      }
    },
    {
      "cell_type": "code",
      "source": [
        "import pandas as pd\n",
        "url = \"https://github.com/lilaceri/Working-with-data-/blob/342abab10d93c4bf23b5c55a50f189f12a137c5f/Data%20Sets%20for%20code%20divisio/Covid%20Vaccination%20Data.xlsx?raw=true\"\n",
        "df = pd.read_excel(url, sheet_name=\"by_manufacturer\")\n",
        "\n",
        "# Find the sum of total vaccinations for each manufacturer\n",
        "total_vaccinations_by_manufacturer = df.groupby('vaccine')['total_vaccinations'].sum()\n",
        "print(total_vaccinations_by_manufacturer)\n",
        "\n",
        "# Create a new column for percentages\n",
        "df['percentages'] = df['total_vaccinations'] / df['total_vaccinations'].sum()\n",
        "\n",
        "# Find the median percentage\n",
        "median_percentage = df['percentages'].median()\n",
        "print(median_percentage)\n",
        "\n",
        "# Create a new column 'normalised_percentages'\n",
        "df['normalised_percentages'] = df['percentages']\n",
        "\n",
        "# Normalize the 'normalised_percentages' column\n",
        "df['normalised_percentages'] = df['normalised_percentages'].apply(lambda x: 1 if x >= median_percentage else 0)\n",
        "\n",
        "# Display the resulting DataFrame\n",
        "print(df)"
      ],
      "metadata": {
        "colab": {
          "base_uri": "https://localhost:8080/"
        },
        "id": "s5q9XuwBr573",
        "outputId": "41a097fe-2174-49d3-de2d-9ebd900b2bb1"
      },
      "execution_count": 10,
      "outputs": [
        {
          "output_type": "stream",
          "name": "stdout",
          "text": [
            "vaccine\n",
            "Johnson&Johnson        264839828\n",
            "Moderna               5548036383\n",
            "Oxford/AstraZeneca     539433203\n",
            "Pfizer/BioNTech       8690461304\n",
            "Sinovac                604660293\n",
            "Name: total_vaccinations, dtype: int64\n",
            "1.1110194374896931e-05\n",
            "           location       date          vaccine  total_vaccinations  \\\n",
            "0             Chile 2020-12-24  Pfizer/BioNTech                 420   \n",
            "1             Chile 2020-12-25  Pfizer/BioNTech                5198   \n",
            "2             Chile 2020-12-26  Pfizer/BioNTech                8338   \n",
            "3             Chile 2020-12-27  Pfizer/BioNTech                8649   \n",
            "4             Chile 2020-12-28  Pfizer/BioNTech                8649   \n",
            "...             ...        ...              ...                 ...   \n",
            "3291  United States 2021-05-01          Moderna           105947940   \n",
            "3292  United States 2021-05-01  Pfizer/BioNTech           129013657   \n",
            "3293  United States 2021-05-02  Johnson&Johnson             8374395   \n",
            "3294  United States 2021-05-02          Moderna           106780082   \n",
            "3295  United States 2021-05-02  Pfizer/BioNTech           130252779   \n",
            "\n",
            "       percentages  normalised_percentages  \n",
            "0     2.684147e-08                       0  \n",
            "1     3.321951e-07                       0  \n",
            "2     5.328670e-07                       0  \n",
            "3     5.527425e-07                       0  \n",
            "4     5.527425e-07                       0  \n",
            "...            ...                     ...  \n",
            "3291  6.770948e-03                       1  \n",
            "3292  8.245038e-03                       1  \n",
            "3293  5.351930e-04                       1  \n",
            "3294  6.824129e-03                       1  \n",
            "3295  8.324228e-03                       1  \n",
            "\n",
            "[3296 rows x 6 columns]\n"
          ]
        }
      ]
    },
    {
      "cell_type": "markdown",
      "source": [],
      "metadata": {
        "id": "n5KqBKdUsnc-"
      }
    }
  ]
}