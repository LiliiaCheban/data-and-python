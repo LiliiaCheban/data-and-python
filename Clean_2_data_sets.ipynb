{
  "nbformat": 4,
  "nbformat_minor": 0,
  "metadata": {
    "colab": {
      "provenance": [],
      "authorship_tag": "ABX9TyOSj6u6NlUBbtq92/tCTAyR",
      "include_colab_link": true
    },
    "kernelspec": {
      "name": "python3",
      "display_name": "Python 3"
    },
    "language_info": {
      "name": "python"
    }
  },
  "cells": [
    {
      "cell_type": "markdown",
      "metadata": {
        "id": "view-in-github",
        "colab_type": "text"
      },
      "source": [
        "<a href=\"https://colab.research.google.com/github/LiliiaCheban/data-and-python/blob/main/Clean_2_data_sets.ipynb\" target=\"_parent\"><img src=\"https://colab.research.google.com/assets/colab-badge.svg\" alt=\"Open In Colab\"/></a>"
      ]
    },
    {
      "cell_type": "markdown",
      "source": [
        "Data set 1 - Calorie burning"
      ],
      "metadata": {
        "id": "Q3rWwengtRFl"
      }
    },
    {
      "cell_type": "markdown",
      "source": [],
      "metadata": {
        "id": "dgX_oOyUusMc"
      }
    },
    {
      "cell_type": "markdown",
      "source": [
        "There will often be missing values, duplicate records and values that are incorrectly formatted. These can affect summary statistics and graphs plotted from the data"
      ],
      "metadata": {
        "id": "TynIy3RS4IoW"
      }
    },
    {
      "cell_type": "markdown",
      "source": [
        "Invalid, missing, or incorrectly formatted values can affect summary statistics and graphs generated from the data.\n",
        "In Data Calorie burning you can visually see incorrect and missing values. In the Duration set there is clearly a mechanical error that can be intuitively replaced by the cell with index 7 (df.loc[7, 'Duration'] ) with the expected value, since there are only three values found in this set.\n",
        "It is necessary to bring the Date set into standard format and fill in the missing date with index 22 (df.loc[22, 'Date'] = '2020-12-22 00:00:00').\n",
        "We check the dataframe for the presence of zero values, two values in the Calories set. For further analysis of the dependence of average Calories on Duration, it is necessary to remove them. Perhaps the overall result of calorie loss over a monthly period, the absence of two values is not significant.\n",
        "(df.dropna(subset=['Calories'])). Perhaps the average of Maxpulse versus Duration has a more significant meaning for the person measuring these indicators."
      ],
      "metadata": {
        "id": "DfNIFkvjEnYu"
      }
    },
    {
      "cell_type": "markdown",
      "source": [
        "Часто встречаются отсутствующие значения, повторяющиеся записи и значения, которые имеют неправильный формат. Это может повлиять на сводную статистику и графики, построенные на основе данных."
      ],
      "metadata": {
        "id": "d10QOKgG4KTa"
      }
    },
    {
      "cell_type": "code",
      "source": [
        "import pandas as pd\n",
        "import matplotlib.pyplot as plt\n",
        "\n",
        "url = \"https://raw.githubusercontent.com/futureCodersSE/working-with-data/main/Data%20sets/Data%20Cleaning%20Data%20Sets/dirtydata.csv\"\n",
        "df = pd.read_csv(url)\n",
        " #inspect the dataset\n",
        "print(df.head(31))\n",
        "\n",
        "#replacing the value in the row with index 7 in the Duration dataset\n",
        "df.loc[7, 'Duration'] = 45\n",
        "#bringing Date dataset values into standard format\n",
        "df['Date'] = pd.to_datetime(df['Date'], errors='coerce')\n",
        "#replacing the value in the row with index 22 in the Date dataset\n",
        "df.loc[22, 'Date'] = '2020-12-22 00:00:00'\n",
        "print(df.head(31))\n",
        "#checking for null values in each dataset\n",
        "print('checking for null values in each dataset')\n",
        "print(df.isnull().sum())\n",
        "#deleting null values in the Calories dataset\n",
        "df = df.dropna(subset=['Calories'])\n",
        "#checking for null values in each dataset\n",
        "print(df.info())\n",
        "print('mean dependence of Calories on Duration')\n",
        "print(df.groupby(['Duration']) ['Calories'].mean()) # mean dependence of Calories on Duration\n",
        "print('mean dependence of Maxpulse on Duration')\n",
        "print(df.groupby(['Duration']) [['Maxpulse','Calories']].mean()) # mean dependence of Maxpulse on Duration and Calories\n",
        "grouped_data = df.groupby(['Duration'])[['Maxpulse', 'Calories']].mean().reset_index()\n",
        "plt.plot(grouped_data['Duration'], grouped_data['Maxpulse'], label='Maxpulse')\n",
        "plt.plot(grouped_data['Duration'], grouped_data['Calories'], label='Calories')\n",
        "\n",
        "\n",
        "plt.xlabel('Duration')\n",
        "plt.ylabel('Values')\n",
        "plt.legend()\n",
        "plt.show()"
      ],
      "metadata": {
        "id": "XOeH6Gcetjv7",
        "colab": {
          "base_uri": "https://localhost:8080/",
          "height": 1000
        },
        "outputId": "509cf8e5-4857-4e95-94d7-b4722120c8df"
      },
      "execution_count": 7,
      "outputs": [
        {
          "output_type": "stream",
          "name": "stdout",
          "text": [
            "    Duration          Date  Pulse  Maxpulse  Calories\n",
            "0         60  '2020/12/01'    110       130     409.1\n",
            "1         60  '2020/12/02'    117       145     479.0\n",
            "2         60  '2020/12/03'    103       135     340.0\n",
            "3         45  '2020/12/04'    109       175     282.4\n",
            "4         45  '2020/12/05'    117       148     406.0\n",
            "5         60  '2020/12/06'    102       127     300.0\n",
            "6         60  '2020/12/07'    110       136     374.0\n",
            "7        450  '2020/12/08'    104       134     253.3\n",
            "8         30  '2020/12/09'    109       133     195.1\n",
            "9         60  '2020/12/10'     98       124     269.0\n",
            "10        60  '2020/12/11'    103       147     329.3\n",
            "11        60  '2020/12/12'    100       120     250.7\n",
            "12        60  '2020/12/12'    100       120     250.7\n",
            "13        60  '2020/12/13'    106       128     345.3\n",
            "14        60  '2020/12/14'    104       132     379.3\n",
            "15        60  '2020/12/15'     98       123     275.0\n",
            "16        60  '2020/12/16'     98       120     215.2\n",
            "17        60  '2020/12/17'    100       120     300.0\n",
            "18        45  '2020/12/18'     90       112       NaN\n",
            "19        60  '2020/12/19'    103       123     323.0\n",
            "20        45  '2020/12/20'     97       125     243.0\n",
            "21        60  '2020/12/21'    108       131     364.2\n",
            "22        45           NaN    100       119     282.0\n",
            "23        60  '2020/12/23'    130       101     300.0\n",
            "24        45  '2020/12/24'    105       132     246.0\n",
            "25        60  '2020/12/25'    102       126     334.5\n",
            "26        60      20201226    100       120     250.0\n",
            "27        60  '2020/12/27'     92       118     241.0\n",
            "28        60  '2020/12/28'    103       132       NaN\n",
            "29        60  '2020/12/29'    100       132     280.0\n",
            "30        60  '2020/12/30'    102       129     380.3\n",
            "    Duration       Date  Pulse  Maxpulse  Calories\n",
            "0         60 2020-12-01    110       130     409.1\n",
            "1         60 2020-12-02    117       145     479.0\n",
            "2         60 2020-12-03    103       135     340.0\n",
            "3         45 2020-12-04    109       175     282.4\n",
            "4         45 2020-12-05    117       148     406.0\n",
            "5         60 2020-12-06    102       127     300.0\n",
            "6         60 2020-12-07    110       136     374.0\n",
            "7         45 2020-12-08    104       134     253.3\n",
            "8         30 2020-12-09    109       133     195.1\n",
            "9         60 2020-12-10     98       124     269.0\n",
            "10        60 2020-12-11    103       147     329.3\n",
            "11        60 2020-12-12    100       120     250.7\n",
            "12        60 2020-12-12    100       120     250.7\n",
            "13        60 2020-12-13    106       128     345.3\n",
            "14        60 2020-12-14    104       132     379.3\n",
            "15        60 2020-12-15     98       123     275.0\n",
            "16        60 2020-12-16     98       120     215.2\n",
            "17        60 2020-12-17    100       120     300.0\n",
            "18        45 2020-12-18     90       112       NaN\n",
            "19        60 2020-12-19    103       123     323.0\n",
            "20        45 2020-12-20     97       125     243.0\n",
            "21        60 2020-12-21    108       131     364.2\n",
            "22        45 2020-12-22    100       119     282.0\n",
            "23        60 2020-12-23    130       101     300.0\n",
            "24        45 2020-12-24    105       132     246.0\n",
            "25        60 2020-12-25    102       126     334.5\n",
            "26        60 2020-12-26    100       120     250.0\n",
            "27        60 2020-12-27     92       118     241.0\n",
            "28        60 2020-12-28    103       132       NaN\n",
            "29        60 2020-12-29    100       132     280.0\n",
            "30        60 2020-12-30    102       129     380.3\n",
            "checking for null values in each dataset\n",
            "Duration    0\n",
            "Date        0\n",
            "Pulse       0\n",
            "Maxpulse    0\n",
            "Calories    2\n",
            "dtype: int64\n",
            "<class 'pandas.core.frame.DataFrame'>\n",
            "Int64Index: 30 entries, 0 to 31\n",
            "Data columns (total 5 columns):\n",
            " #   Column    Non-Null Count  Dtype         \n",
            "---  ------    --------------  -----         \n",
            " 0   Duration  30 non-null     int64         \n",
            " 1   Date      30 non-null     datetime64[ns]\n",
            " 2   Pulse     30 non-null     int64         \n",
            " 3   Maxpulse  30 non-null     int64         \n",
            " 4   Calories  30 non-null     float64       \n",
            "dtypes: datetime64[ns](1), float64(1), int64(3)\n",
            "memory usage: 1.4 KB\n",
            "None\n",
            "mean dependence of Calories on Duration\n",
            "Duration\n",
            "30    195.10000\n",
            "45    285.45000\n",
            "60    314.46087\n",
            "Name: Calories, dtype: float64\n",
            "mean dependence of Maxpulse on Duration\n",
            "            Maxpulse   Calories\n",
            "Duration                       \n",
            "30        133.000000  195.10000\n",
            "45        138.833333  285.45000\n",
            "60        126.173913  314.46087\n"
          ]
        },
        {
          "output_type": "display_data",
          "data": {
            "text/plain": [
              "<Figure size 640x480 with 1 Axes>"
            ],
            "image/png": "[encoded data removed]"
          },
          "metadata": {}
        }
      ]
    },
    {
      "cell_type": "markdown",
      "source": [],
      "metadata": {
        "id": "lRe5LdRkxw2F"
      }
    },
    {
      "cell_type": "markdown",
      "source": [
        "Data set 2 - Presidential election voting\n",
        "[ ]\n"
      ],
      "metadata": {
        "id": "185lGcnGKU0I"
      }
    },
    {
      "cell_type": "markdown",
      "source": [
        "In the Presidential election voting dataframe, after checking for null values, a completely empty national_voteshare_3rd_lo set was detected, which can be deleted. (df.drop('national_voteshare_3rd_lo', axis=1)\n",
        "There are also 97 NaN values in each national turnout. It is advisable to replace the NaN value with the number 0 for further calculations; perhaps national turnout sets will be important for further research.\n",
        "df['national_turnout'].fillna(0, inplace=True)\n",
        "df['national_turnout_hi'].fillna(0, inplace=True)\n",
        "df['national_turnout_lo'].fillna(0, inplace=True)\n",
        "Convert modeldate and timestamp to datetime format."
      ],
      "metadata": {
        "id": "0Av5d3fqTPuT"
      }
    },
    {
      "cell_type": "code",
      "source": [
        "import pandas as pd\n",
        "\n",
        "\n",
        "url = \"https://raw.githubusercontent.com/futureCodersSE/working-with-data/main/Data%20sets/Data%20Cleaning%20Data%20Sets/presDirty.csv\"\n",
        "df = pd.read_csv(url)\n",
        "\n",
        "#print(df.tail())\n",
        "# Print information about the DataFrame, including the number of non-blank values in each column\n",
        "print(df.info())\n",
        "# Count the number of null values in each column\n",
        "df.isnull().values.any()\n",
        "# Count the number of null values in each column\n",
        "print(df.isnull().sum())\n",
        "# Remove empty column\n",
        "df = df.drop('national_voteshare_3rd_lo', axis=1)\n",
        "# Formatting dates\n",
        "# If there are date columns, convert them to datetime format\n",
        "df['modeldate'] = pd.to_datetime(df['modeldate'], errors='coerce')  # 'coerce' will handle any errors during conversion\n",
        "df['timestamp'] = pd.to_datetime(df['timestamp'], errors='coerce')\n",
        "\n",
        "#replacing null values with 0 for ease of calculation national turnout\n",
        "df['national_turnout'].fillna(0, inplace=True)\n",
        "df['national_turnout_hi'].fillna(0, inplace=True)\n",
        "df['national_turnout_lo'].fillna(0, inplace=True)\n",
        "print(df.tail())\n",
        "\n",
        "from google.colab import files\n",
        "df.to_csv('Voting.csv')\n",
        "files.download('Voting.csv')\n"
      ],
      "metadata": {
        "id": "dQJv9QqzKilr",
        "colab": {
          "base_uri": "https://localhost:8080/"
        },
        "outputId": "376f5d5f-4c8b-463c-b4a3-1f55ecac1d8e"
      },
      "execution_count": 11,
      "outputs": [
        {
          "output_type": "stream",
          "name": "stdout",
          "text": [
            "<class 'pandas.core.frame.DataFrame'>\n",
            "RangeIndex: 156 entries, 0 to 155\n",
            "Data columns (total 16 columns):\n",
            " #   Column                      Non-Null Count  Dtype  \n",
            "---  ------                      --------------  -----  \n",
            " 0   cycle                       156 non-null    int64  \n",
            " 1   branch                      156 non-null    object \n",
            " 2   model                       156 non-null    object \n",
            " 3   modeldate                   156 non-null    object \n",
            " 4   candidate_inc               156 non-null    object \n",
            " 5   candidate_chal              156 non-null    object \n",
            " 6   nat_voteshare_other_hi      156 non-null    float64\n",
            " 7   national_voteshare_inc_lo   156 non-null    float64\n",
            " 8   national_voteshare_chal_lo  156 non-null    float64\n",
            " 9   national_voteshare_3rd_lo   0 non-null      float64\n",
            " 10  nat_voteshare_other_lo      156 non-null    float64\n",
            " 11  national_turnout            59 non-null     float64\n",
            " 12  national_turnout_hi         59 non-null     float64\n",
            " 13  national_turnout_lo         59 non-null     float64\n",
            " 14  timestamp                   156 non-null    object \n",
            " 15  simulations                 156 non-null    int64  \n",
            "dtypes: float64(8), int64(2), object(6)\n",
            "memory usage: 19.6+ KB\n",
            "None\n",
            "cycle                           0\n",
            "branch                          0\n",
            "model                           0\n",
            "modeldate                       0\n",
            "candidate_inc                   0\n",
            "candidate_chal                  0\n",
            "nat_voteshare_other_hi          0\n",
            "national_voteshare_inc_lo       0\n",
            "national_voteshare_chal_lo      0\n",
            "national_voteshare_3rd_lo     156\n",
            "nat_voteshare_other_lo          0\n",
            "national_turnout               97\n",
            "national_turnout_hi            97\n",
            "national_turnout_lo            97\n",
            "timestamp                       0\n",
            "simulations                     0\n",
            "dtype: int64\n",
            "     cycle     branch       model  modeldate candidate_inc candidate_chal  \\\n",
            "151   2020  President  polls-plus 2020-06-05         Trump          Biden   \n",
            "152   2020  President  polls-plus 2020-06-04         Trump          Biden   \n",
            "153   2020  President  polls-plus 2020-06-03         Trump          Biden   \n",
            "154   2020  President  polls-plus 2020-06-02         Trump          Biden   \n",
            "155   2020  President  polls-plus 2020-06-01         Trump          Biden   \n",
            "\n",
            "     nat_voteshare_other_hi  national_voteshare_inc_lo  \\\n",
            "151                2.035725                   41.62989   \n",
            "152                2.039343                   41.49159   \n",
            "153                2.027426                   41.60196   \n",
            "154                2.049306                   41.44363   \n",
            "155                2.042146                   41.49165   \n",
            "\n",
            "     national_voteshare_chal_lo  nat_voteshare_other_lo  national_turnout  \\\n",
            "151                    47.55882                0.665607               0.0   \n",
            "152                    47.87417                0.661686               0.0   \n",
            "153                    47.85891                0.661136               0.0   \n",
            "154                    47.74026                0.675567               0.0   \n",
            "155                    47.73165                0.675968               0.0   \n",
            "\n",
            "     national_turnout_hi  national_turnout_lo           timestamp  simulations  \n",
            "151                  0.0                  0.0 2020-10-08 11:40:00        40000  \n",
            "152                  0.0                  0.0 2020-10-08 12:03:00        40000  \n",
            "153                  0.0                  0.0 2020-10-08 11:24:00        40000  \n",
            "154                  0.0                  0.0 2020-10-08 11:34:00        40000  \n",
            "155                  0.0                  0.0 2020-10-08 11:53:00        40000  \n"
          ]
        }
      ]
    }
  ]
}