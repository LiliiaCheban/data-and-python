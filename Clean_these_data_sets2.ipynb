{
  "nbformat": 4,
  "nbformat_minor": 0,
  "metadata": {
    "colab": {
      "provenance": [],
      "authorship_tag": "ABX9TyNqaF1CogTsm/cy0l3Jygc5",
      "include_colab_link": true
    },
    "kernelspec": {
      "name": "python3",
      "display_name": "Python 3"
    },
    "language_info": {
      "name": "python"
    }
  },
  "cells": [
    {
      "cell_type": "markdown",
      "metadata": {
        "id": "view-in-github",
        "colab_type": "text"
      },
      "source": [
        "<a href=\"https://colab.research.google.com/github/LiliiaCheban/data-and-python/blob/main/Clean_these_data_sets2.ipynb\" target=\"_parent\"><img src=\"https://colab.research.google.com/assets/colab-badge.svg\" alt=\"Open In Colab\"/></a>"
      ]
    },
    {
      "cell_type": "markdown",
      "source": [
        "Data set 1 - Calorie burning"
      ],
      "metadata": {
        "id": "Q3rWwengtRFl"
      }
    },
    {
      "cell_type": "markdown",
      "source": [
        "unfortunately, the url address is not written completely"
      ],
      "metadata": {
        "id": "cvJpb8BtvAoF"
      }
    },
    {
      "cell_type": "markdown",
      "source": [],
      "metadata": {
        "id": "dgX_oOyUusMc"
      }
    },
    {
      "cell_type": "code",
      "source": [
        " import pandas as pd\n",
        "\n",
        "url = \"https://raw.githubusercontent.com/futureCodersSE/working-with-data/main/Data%20sets/Data%20Cleaning%20Data%20Sets/dirtydata.csv\"\n",
        "df = pd.read_csv(url)\n",
        " #inspect the dataset\n",
        " print(df.head())\n",
        "print(df.info())\n",
        "print(df.describe())\n",
        "#Handling Missing Values\n",
        "# Remove rows with missing values\n",
        "df = df.dropna()\n",
        "\n",
        "# Fill missing values with a specific value or using a strategy\n",
        "df = df.fillna(value=0)  # Replace with 0, choose a suitable value or strategy\n",
        "\n",
        "# Remove columns with all missing values\n",
        "df = df.dropna(axis=1, how='all')\n",
        "\n",
        "from google.colab import files\n",
        "dataframe_name.to_csv('Calorie.csv')\n",
        "files.download('Calorie.csv')"
      ],
      "metadata": {
        "id": "XOeH6Gcetjv7"
      },
      "execution_count": null,
      "outputs": []
    },
    {
      "cell_type": "markdown",
      "source": [
        "Data set 2 - Presidential election voting\n",
        "[ ]\n"
      ],
      "metadata": {
        "id": "185lGcnGKU0I"
      }
    },
    {
      "cell_type": "code",
      "source": [
        "import pandas as pd\n",
        "\n",
        "\n",
        "url = \"https://raw.githubusercontent.com/futureCodersSE/working-with-data/main/Data%20sets/Data%20Cleaning%20Data%20Sets/presDirty.csv\"\n",
        "df = pd.read_csv(url)\n",
        "\n",
        "\n",
        "print(df.head())\n",
        "print(df.info())\n",
        "print(df.describe())\n",
        "\n",
        "# Handling missing values\n",
        "# Let's assume that if there are missing values in the 'president' column, we can drop those rows\n",
        "df = df.dropna(subset=['president'])\n",
        "\n",
        "# Filling missing values\n",
        "# If there are specific columns where it makes sense to fill missing values, use fillna()\n",
        "df['column_name'] = df['column_name'].fillna(value='default_value')\n",
        "\n",
        "# Remove empty columns\n",
        "df = df.dropna(axis=1, how='all')\n",
        "\n",
        "# Formatting dates\n",
        "# If there are date columns, convert them to datetime format\n",
        "df['date_column'] = pd.to_datetime(df['date_column'], errors='coerce')  # 'coerce' will handle any errors during conversion\n",
        "\n",
        "from google.colab import files\n",
        "dataframe_name.to_csv('Voting.csv')\n",
        "files.download('Voting.csv')\n"
      ],
      "metadata": {
        "id": "dQJv9QqzKilr"
      },
      "execution_count": null,
      "outputs": []
    }
  ]
}