{
  "nbformat": 4,
  "nbformat_minor": 0,
  "metadata": {
    "colab": {
      "provenance": [],
      "authorship_tag": "ABX9TyNNHVNF6FGkbDXbXy6ygscr",
      "include_colab_link": true
    },
    "kernelspec": {
      "name": "python3",
      "display_name": "Python 3"
    },
    "language_info": {
      "name": "python"
    }
  },
  "cells": [
    {
      "cell_type": "markdown",
      "metadata": {
        "id": "view-in-github",
        "colab_type": "text"
      },
      "source": [
        "<a href=\"https://colab.research.google.com/github/LiliiaCheban/data-and-python/blob/main/Sorting_and_cleaning.ipynb\" target=\"_parent\"><img src=\"https://colab.research.google.com/assets/colab-badge.svg\" alt=\"Open In Colab\"/></a>"
      ]
    },
    {
      "cell_type": "markdown",
      "source": [
        "Exercise 1 - get data, sort by happiness score\n",
        "Read data from the Excel file on Happiness Data at this link: https://github.com/futureCodersSE/working-with-data/blob/main/Happiness-Data/2015.xlsx?raw=true\n",
        "\n",
        "Display first 5 rows of data\n",
        "\n",
        "The data is currently sorted by Happiness Rank...\n",
        "\n",
        "sort the data by Happiness Score in ascending order\n",
        "display sorted table\n",
        "Test output:\n",
        "The lowest score (displayed first) is 2.839, Togo\n",
        "The highest score (displayed last) is 7.587, Switzerland"
      ],
      "metadata": {
        "id": "PMDdKnZOSRON"
      }
    },
    {
      "cell_type": "markdown",
      "source": [
        "Упражнение 1. Получите данные, отсортируйте их по показателю счастья. Прочтите данные из файла Excel в разделе «Данные о счастье» по этой ссылке: https://github.com/futureCodersSE/working-with-data/blob/main/Happiness-Data/2015.xlsx ?raw=истина\n",
        "\n",
        "Отобразить первые 5 строк данных\n",
        "\n",
        "В настоящее время данные отсортированы по рейтингу счастья...\n",
        "\n",
        "отсортировать данные по показателю счастья в порядке возрастания; отобразить отсортированную таблицу. Результаты теста: Самый низкий балл (отображается первым) — 2,839, Того. Самый высокий балл (отображается последним) — 7,587, Швейцария."
      ],
      "metadata": {
        "id": "1Eq94553TpaF"
      }
    },
    {
      "cell_type": "code",
      "source": [
        "def happiness_sorting():\n",
        "  import pandas as pd\n",
        "  url ='https://github.com/futureCodersSE/working-with-data/blob/main/Happiness-Data/2015.xlsx?raw=true'\n",
        "  df=pd.read_excel(url)\n",
        "  df_nw=df.copy()\n",
        "  print(df_nw.head(5))\n",
        "\n",
        "  print('sort the data by Happiness Score in ascending order''\\n',df_nw.sort_values(by=\"Happiness Score\"))\n",
        "\n",
        "\n",
        "\n",
        "\n",
        "\n",
        "happiness_sorting()"
      ],
      "metadata": {
        "colab": {
          "base_uri": "https://localhost:8080/"
        },
        "id": "xq3Imaw-TrMl",
        "outputId": "fac25090-9d57-45b8-a3ea-1bd2615fb359"
      },
      "execution_count": null,
      "outputs": [
        {
          "output_type": "stream",
          "name": "stdout",
          "text": [
            "       Country          Region  Happiness Rank  Happiness Score  \\\n",
            "0  Switzerland  Western Europe               1            7.587   \n",
            "1      Iceland  Western Europe               2            7.561   \n",
            "2      Denmark  Western Europe               3            7.527   \n",
            "3       Norway  Western Europe               4            7.522   \n",
            "4       Canada   North America               5            7.427   \n",
            "\n",
            "   Standard Error  Economy (GDP per Capita)   Family  \\\n",
            "0         0.03411                   1.39651  1.34951   \n",
            "1         0.04884                   1.30232  1.40223   \n",
            "2         0.03328                   1.32548  1.36058   \n",
            "3         0.03880                   1.45900  1.33095   \n",
            "4         0.03553                   1.32629  1.32261   \n",
            "\n",
            "   Health (Life Expectancy)  Freedom  Trust (Government Corruption)  \\\n",
            "0                   0.94143  0.66557                        0.41978   \n",
            "1                   0.94784  0.62877                        0.14145   \n",
            "2                   0.87464  0.64938                        0.48357   \n",
            "3                   0.88521  0.66973                        0.36503   \n",
            "4                   0.90563  0.63297                        0.32957   \n",
            "\n",
            "   Generosity  Dystopia Residual  \n",
            "0     0.29678            2.51738  \n",
            "1     0.43630            2.70201  \n",
            "2     0.34139            2.49204  \n",
            "3     0.34699            2.46531  \n",
            "4     0.45811            2.45176  \n",
            "sort the data by Happiness Score in ascending order\n",
            "          Country                           Region  Happiness Rank  \\\n",
            "157         Togo               Sub-Saharan Africa             158   \n",
            "156      Burundi               Sub-Saharan Africa             157   \n",
            "155        Syria  Middle East and Northern Africa             156   \n",
            "154        Benin               Sub-Saharan Africa             155   \n",
            "153       Rwanda               Sub-Saharan Africa             154   \n",
            "..           ...                              ...             ...   \n",
            "4         Canada                    North America               5   \n",
            "3         Norway                   Western Europe               4   \n",
            "2        Denmark                   Western Europe               3   \n",
            "1        Iceland                   Western Europe               2   \n",
            "0    Switzerland                   Western Europe               1   \n",
            "\n",
            "     Happiness Score  Standard Error  Economy (GDP per Capita)   Family  \\\n",
            "157            2.839         0.06727                   0.20868  0.13995   \n",
            "156            2.905         0.08658                   0.01530  0.41587   \n",
            "155            3.006         0.05015                   0.66320  0.47489   \n",
            "154            3.340         0.03656                   0.28665  0.35386   \n",
            "153            3.465         0.03464                   0.22208  0.77370   \n",
            "..               ...             ...                       ...      ...   \n",
            "4              7.427         0.03553                   1.32629  1.32261   \n",
            "3              7.522         0.03880                   1.45900  1.33095   \n",
            "2              7.527         0.03328                   1.32548  1.36058   \n",
            "1              7.561         0.04884                   1.30232  1.40223   \n",
            "0              7.587         0.03411                   1.39651  1.34951   \n",
            "\n",
            "     Health (Life Expectancy)  Freedom  Trust (Government Corruption)  \\\n",
            "157                   0.28443  0.36453                        0.10731   \n",
            "156                   0.22396  0.11850                        0.10062   \n",
            "155                   0.72193  0.15684                        0.18906   \n",
            "154                   0.31910  0.48450                        0.08010   \n",
            "153                   0.42864  0.59201                        0.55191   \n",
            "..                        ...      ...                            ...   \n",
            "4                     0.90563  0.63297                        0.32957   \n",
            "3                     0.88521  0.66973                        0.36503   \n",
            "2                     0.87464  0.64938                        0.48357   \n",
            "1                     0.94784  0.62877                        0.14145   \n",
            "0                     0.94143  0.66557                        0.41978   \n",
            "\n",
            "     Generosity  Dystopia Residual  \n",
            "157     0.16681            1.56726  \n",
            "156     0.19727            1.83302  \n",
            "155     0.47179            0.32858  \n",
            "154     0.18260            1.63328  \n",
            "153     0.22628            0.67042  \n",
            "..          ...                ...  \n",
            "4       0.45811            2.45176  \n",
            "3       0.34699            2.46531  \n",
            "2       0.34139            2.49204  \n",
            "1       0.43630            2.70201  \n",
            "0       0.29678            2.51738  \n",
            "\n",
            "[158 rows x 12 columns]\n"
          ]
        }
      ]
    },
    {
      "cell_type": "markdown",
      "source": [
        "Exercise 2 - sort by multiple columns, display the first 5 rows\n",
        "sort the data by Economy (GDP per Capita) and Health (Life Expectancy) in ascending order\n",
        "display the first 5 rows of sorted data"
      ],
      "metadata": {
        "id": "r3mIQQglLSCj"
      }
    },
    {
      "cell_type": "markdown",
      "source": [
        "Упражнение 2. Сортировка по нескольким столбцам, отображение первых 5 строк\n",
        "отсортируйте данные по экономике (ВВП на душу населения) и здоровью (продолжительность жизни) в порядке возрастания\n",
        "отобразить первые 5 строк отсортированных данных"
      ],
      "metadata": {
        "id": "Tv694LVTLTxq"
      }
    },
    {
      "cell_type": "code",
      "source": [
        "def happiness_sorting2():\n",
        "  import pandas as pd\n",
        "  url ='https://github.com/futureCodersSE/working-with-data/blob/main/Happiness-Data/2015.xlsx?raw=true'\n",
        "  df=pd.read_excel(url)\n",
        "  df_nw=df.copy()\n",
        "  print('sort the data by Economy (GDP per Capita) and Health (Life Expectancy) in ascending order''\\n')\n",
        "  print(df_nw.sort_values(by=['Economy (GDP per Capita)', 'Health (Life Expectancy)']).head(5))\n",
        "\n",
        "happiness_sorting2()"
      ],
      "metadata": {
        "colab": {
          "base_uri": "https://localhost:8080/"
        },
        "id": "Gf9zvurZLdzF",
        "outputId": "33ee6d0b-3704-447f-ab47-34a171ec7f0b"
      },
      "execution_count": null,
      "outputs": [
        {
          "output_type": "stream",
          "name": "stdout",
          "text": [
            "sort the data by Economy (GDP per Capita) and Health (Life Expectancy) in ascending order\n",
            "\n",
            "              Country              Region  Happiness Rank  Happiness Score  \\\n",
            "119  Congo (Kinshasa)  Sub-Saharan Africa             120            4.517   \n",
            "156           Burundi  Sub-Saharan Africa             157            2.905   \n",
            "130            Malawi  Sub-Saharan Africa             131            4.292   \n",
            "143             Niger  Sub-Saharan Africa             144            3.845   \n",
            "115           Liberia  Sub-Saharan Africa             116            4.571   \n",
            "\n",
            "     Standard Error  Economy (GDP per Capita)   Family  \\\n",
            "119         0.03680                   0.00000  1.00120   \n",
            "156         0.08658                   0.01530  0.41587   \n",
            "130         0.06130                   0.01604  0.41134   \n",
            "143         0.03602                   0.06940  0.77265   \n",
            "115         0.11068                   0.07120  0.78968   \n",
            "\n",
            "     Health (Life Expectancy)  Freedom  Trust (Government Corruption)  \\\n",
            "119                   0.09806  0.22605                        0.07625   \n",
            "156                   0.22396  0.11850                        0.10062   \n",
            "130                   0.22562  0.43054                        0.06977   \n",
            "143                   0.29707  0.47692                        0.15639   \n",
            "115                   0.34201  0.28531                        0.06232   \n",
            "\n",
            "     Generosity  Dystopia Residual  \n",
            "119     0.24834            2.86712  \n",
            "156     0.19727            1.83302  \n",
            "130     0.33128            2.80791  \n",
            "143     0.19387            1.87877  \n",
            "115     0.24362            2.77729  \n"
          ]
        }
      ]
    },
    {
      "cell_type": "markdown",
      "source": [
        "Exercise 3 - sorting in descending order\n",
        "Sort the data by Freedom and Trust (Government Corruption) in descending order and show the Country and Region only for the last five rows"
      ],
      "metadata": {
        "id": "PhJlw-8IO1Fc"
      }
    },
    {
      "cell_type": "markdown",
      "source": [
        "Упражнение 3 – сортировка по убыванию\n",
        "Отсортируйте данные по свободе и доверию (коррупция в правительстве) в порядке убывания и покажите страну и регион только для последних пяти строк."
      ],
      "metadata": {
        "id": "FyOwSLYoO2W4"
      }
    },
    {
      "cell_type": "code",
      "source": [
        "import pandas as pd\n",
        "url ='https://github.com/futureCodersSE/working-with-data/blob/main/Happiness-Data/2015.xlsx?raw=true'\n",
        "df=pd.read_excel(url)\n",
        "df_nw=df.copy()\n",
        "print('Sort the data by Freedom and Trust (Government Corruption) in descending order ','\\n')\n",
        "print(df_nw.sort_values(by=['Freedom', 'Trust (Government Corruption)'],ascending=False))\n",
        "print('show the Country and Region only for the last five rows','\\n')\n",
        "print(df_nw.sort_values(by=['Freedom', 'Trust (Government Corruption)'],ascending=False)[['Country', 'Region']])\n"
      ],
      "metadata": {
        "colab": {
          "base_uri": "https://localhost:8080/"
        },
        "id": "He3G5wQsO-Go",
        "outputId": "dfc2c470-71dd-4856-edb3-2e6a97bb8f4a"
      },
      "execution_count": null,
      "outputs": [
        {
          "output_type": "stream",
          "name": "stdout",
          "text": [
            "Sort the data by Freedom and Trust (Government Corruption) in descending order  \n",
            "\n",
            "                    Country                           Region  Happiness Rank  \\\n",
            "3                    Norway                   Western Europe               4   \n",
            "0               Switzerland                   Western Europe               1   \n",
            "144                Cambodia                Southeastern Asia             145   \n",
            "7                    Sweden                   Western Europe               8   \n",
            "43               Uzbekistan       Central and Eastern Europe              44   \n",
            "..                      ...                              ...             ...   \n",
            "136                  Angola               Sub-Saharan Africa             137   \n",
            "117                   Sudan               Sub-Saharan Africa             118   \n",
            "95   Bosnia and Herzegovina       Central and Eastern Europe              96   \n",
            "101                  Greece                   Western Europe             102   \n",
            "111                    Iraq  Middle East and Northern Africa             112   \n",
            "\n",
            "     Happiness Score  Standard Error  Economy (GDP per Capita)   Family  \\\n",
            "3              7.522         0.03880                   1.45900  1.33095   \n",
            "0              7.587         0.03411                   1.39651  1.34951   \n",
            "144            3.819         0.05069                   0.46038  0.62736   \n",
            "7              7.364         0.03157                   1.33171  1.28907   \n",
            "43             6.003         0.04361                   0.63244  1.34043   \n",
            "..               ...             ...                       ...      ...   \n",
            "136            4.033         0.04758                   0.75778  0.86040   \n",
            "117            4.550         0.06740                   0.52107  1.01404   \n",
            "95             4.949         0.06913                   0.83223  0.91916   \n",
            "101            4.857         0.05062                   1.15406  0.92933   \n",
            "111            4.677         0.05232                   0.98549  0.81889   \n",
            "\n",
            "     Health (Life Expectancy)  Freedom  Trust (Government Corruption)  \\\n",
            "3                     0.88521  0.66973                        0.36503   \n",
            "0                     0.94143  0.66557                        0.41978   \n",
            "144                   0.61114  0.66246                        0.07247   \n",
            "7                     0.91087  0.65980                        0.43844   \n",
            "43                    0.59772  0.65821                        0.30826   \n",
            "..                        ...      ...                            ...   \n",
            "136                   0.16683  0.10384                        0.07122   \n",
            "117                   0.36878  0.10081                        0.14660   \n",
            "95                    0.79081  0.09245                        0.00227   \n",
            "101                   0.88213  0.07699                        0.01397   \n",
            "111                   0.60237  0.00000                        0.13788   \n",
            "\n",
            "     Generosity  Dystopia Residual  \n",
            "3       0.34699            2.46531  \n",
            "0       0.29678            2.51738  \n",
            "144     0.40359            0.98195  \n",
            "7       0.36262            2.37119  \n",
            "43      0.22837            2.23741  \n",
            "..          ...                ...  \n",
            "136     0.12344            1.94939  \n",
            "117     0.19062            2.20857  \n",
            "95      0.24808            2.06367  \n",
            "101     0.00000            1.80101  \n",
            "111     0.17922            1.95335  \n",
            "\n",
            "[158 rows x 12 columns]\n",
            "show the Country and Region only for the last five rows \n",
            "\n",
            "                    Country                           Region\n",
            "3                    Norway                   Western Europe\n",
            "0               Switzerland                   Western Europe\n",
            "144                Cambodia                Southeastern Asia\n",
            "7                    Sweden                   Western Europe\n",
            "43               Uzbekistan       Central and Eastern Europe\n",
            "..                      ...                              ...\n",
            "136                  Angola               Sub-Saharan Africa\n",
            "117                   Sudan               Sub-Saharan Africa\n",
            "95   Bosnia and Herzegovina       Central and Eastern Europe\n",
            "101                  Greece                   Western Europe\n",
            "111                    Iraq  Middle East and Northern Africa\n",
            "\n",
            "[158 rows x 2 columns]\n"
          ]
        }
      ]
    },
    {
      "cell_type": "markdown",
      "source": [],
      "metadata": {
        "id": "a-zI1V4ITHTZ"
      }
    },
    {
      "cell_type": "markdown",
      "source": [
        "Exercise 4 - check for null values\n",
        "read data from the file housing_in_london_yearly_variables.csv from this link: https://raw.githubusercontent.com/futureCodersSE/working-with-data/main/Data%20sets/housing_in_london_yearly_variables.csv\n",
        "check if any NA values exist in the dataframe and print the result\n",
        "use df.info() to see which columns have null entries (Hint: if the non-null count is less than total entries, column contains missing/NA entries)"
      ],
      "metadata": {
        "id": "FU7G_oysUXbC"
      }
    },
    {
      "cell_type": "markdown",
      "source": [],
      "metadata": {
        "id": "f6g68DVBUZbo"
      }
    },
    {
      "cell_type": "markdown",
      "source": [],
      "metadata": {
        "id": "1nbT12WlTVr_"
      }
    },
    {
      "cell_type": "markdown",
      "source": [
        "Упражнение 4. Проверка нулевых значений\n",
        "прочитайте данные из файла Housing_in_london_yearly_variables.csv по этой ссылке: https://raw.githubusercontent.com/futureCodersSE/working-with-data/main/Data%20sets/housing_in_london_yearly_variables.csv\n",
        "проверьте, существуют ли какие-либо значения NA в кадре данных, и распечатайте результат\n",
        "используйте df.info(), чтобы увидеть, в каких столбцах есть нулевые записи (Подсказка: если количество ненулевых значений меньше общего количества записей, столбец содержит отсутствующие записи/записи NA)"
      ],
      "metadata": {
        "id": "9SeBIVbsU0gD"
      }
    },
    {
      "cell_type": "code",
      "source": [
        "import pandas as pd\n",
        "url ='https://raw.githubusercontent.com/futureCodersSE/working-with-data/main/Data%20sets/housing_in_london_yearly_variables.csv'\n",
        "df=pd.read_csv(url)\n",
        "df_nw=df.copy()\n",
        "print(df_nw.head(7))\n",
        "print('check if any NA values exist in the dataframe','\\n',df.isnull().values.any())\n",
        "print(df_nw.info())\n",
        "print('null entries','\\n',df[\"life_satisfaction\"].isnull().values.any())\n",
        "\n",
        "df_nw1=df_nw.dropna()\n",
        "print(df_nw1.info())\n",
        "\n",
        "\n"
      ],
      "metadata": {
        "colab": {
          "base_uri": "https://localhost:8080/"
        },
        "id": "bz5B7Fd0U4P8",
        "outputId": "eec85676-b3fb-4784-bd10-8dec24191ac6"
      },
      "execution_count": null,
      "outputs": [
        {
          "output_type": "stream",
          "name": "stdout",
          "text": [
            "        code                  area        date  median_salary  \\\n",
            "0  E09000001        city of london  1999-12-01        33020.0   \n",
            "1  E09000002  barking and dagenham  1999-12-01        21480.0   \n",
            "2  E09000003                barnet  1999-12-01        19568.0   \n",
            "3  E09000004                bexley  1999-12-01        18621.0   \n",
            "4  E09000005                 brent  1999-12-01        18532.0   \n",
            "5  E09000006               bromley  1999-12-01        16720.0   \n",
            "6  E09000007                camden  1999-12-01        23677.0   \n",
            "\n",
            "   life_satisfaction mean_salary recycling_pct  population_size  \\\n",
            "0                NaN       48922             0           6581.0   \n",
            "1                NaN       23620             3         162444.0   \n",
            "2                NaN       23128             8         313469.0   \n",
            "3                NaN       21386            18         217458.0   \n",
            "4                NaN       20911             6         260317.0   \n",
            "5                NaN       21293            13         294902.0   \n",
            "6                NaN       30249            13         190003.0   \n",
            "\n",
            "   number_of_jobs  area_size  no_of_houses  borough_flag  \n",
            "0             NaN        NaN           NaN             1  \n",
            "1             NaN        NaN           NaN             1  \n",
            "2             NaN        NaN           NaN             1  \n",
            "3             NaN        NaN           NaN             1  \n",
            "4             NaN        NaN           NaN             1  \n",
            "5             NaN        NaN           NaN             1  \n",
            "6             NaN        NaN           NaN             1  \n",
            "check if any NA values exist in the dataframe \n",
            " True\n",
            "<class 'pandas.core.frame.DataFrame'>\n",
            "RangeIndex: 1071 entries, 0 to 1070\n",
            "Data columns (total 12 columns):\n",
            " #   Column             Non-Null Count  Dtype  \n",
            "---  ------             --------------  -----  \n",
            " 0   code               1071 non-null   object \n",
            " 1   area               1071 non-null   object \n",
            " 2   date               1071 non-null   object \n",
            " 3   median_salary      1049 non-null   float64\n",
            " 4   life_satisfaction  352 non-null    float64\n",
            " 5   mean_salary        1071 non-null   object \n",
            " 6   recycling_pct      860 non-null    object \n",
            " 7   population_size    1018 non-null   float64\n",
            " 8   number_of_jobs     931 non-null    float64\n",
            " 9   area_size          666 non-null    float64\n",
            " 10  no_of_houses       666 non-null    float64\n",
            " 11  borough_flag       1071 non-null   int64  \n",
            "dtypes: float64(6), int64(1), object(5)\n",
            "memory usage: 100.5+ KB\n",
            "None\n",
            "null entries \n",
            " True\n",
            "<class 'pandas.core.frame.DataFrame'>\n",
            "Int64Index: 267 entries, 613 to 1013\n",
            "Data columns (total 12 columns):\n",
            " #   Column             Non-Null Count  Dtype  \n",
            "---  ------             --------------  -----  \n",
            " 0   code               267 non-null    object \n",
            " 1   area               267 non-null    object \n",
            " 2   date               267 non-null    object \n",
            " 3   median_salary      267 non-null    float64\n",
            " 4   life_satisfaction  267 non-null    float64\n",
            " 5   mean_salary        267 non-null    object \n",
            " 6   recycling_pct      267 non-null    object \n",
            " 7   population_size    267 non-null    float64\n",
            " 8   number_of_jobs     267 non-null    float64\n",
            " 9   area_size          267 non-null    float64\n",
            " 10  no_of_houses       267 non-null    float64\n",
            " 11  borough_flag       267 non-null    int64  \n",
            "dtypes: float64(6), int64(1), object(5)\n",
            "memory usage: 27.1+ KB\n",
            "None\n"
          ]
        }
      ]
    },
    {
      "cell_type": "markdown",
      "source": [
        "Exercise 5 - remove null values\n",
        "remove rows with NA values for life_satisfaction (use [ ] even if only one column in list)\n",
        "remove all NA values across whole dataframe"
      ],
      "metadata": {
        "id": "WIbwgRp5baDx"
      }
    },
    {
      "cell_type": "markdown",
      "source": [
        "Упражнение 5. Удаление нулевых значений\n",
        "удалить строки со значениями NA для life_satisfaction (используйте [ ], даже если в списке только один столбец)\n",
        "удалить все значения NA во всем кадре данных"
      ],
      "metadata": {
        "id": "r_zJw6RGbgHa"
      }
    },
    {
      "cell_type": "code",
      "source": [
        "import pandas as pd\n",
        "url ='https://raw.githubusercontent.com/futureCodersSE/working-with-data/main/Data%20sets/housing_in_london_yearly_variables.csv'\n",
        "df=pd.read_csv(url)\n",
        "df_nw=df.copy()\n",
        "\n",
        "\n",
        "print('null entries','\\n',df_nw[\"life_satisfaction\"].isnull().values.any())\n",
        "print('remove null values remove rows with NA values for life_satisfaction','\\n',df_nw.dropna(subset = ['life_satisfaction']))\n",
        "df_nw['life_satisfaction']"
      ],
      "metadata": {
        "colab": {
          "base_uri": "https://localhost:8080/"
        },
        "id": "2UX-DsI6boBW",
        "outputId": "621fbdb1-be6c-4103-f930-880c38b5acc1"
      },
      "execution_count": null,
      "outputs": [
        {
          "output_type": "stream",
          "name": "stdout",
          "text": [
            "null entries \n",
            " True\n",
            "remove null values remove rows with NA values for life_satisfaction \n",
            "            code                  area        date  median_salary  \\\n",
            "613   E09000002  barking and dagenham  2011-12-01        28201.0   \n",
            "614   E09000003                barnet  2011-12-01        30237.0   \n",
            "615   E09000004                bexley  2011-12-01        28638.0   \n",
            "616   E09000005                 brent  2011-12-01        26772.0   \n",
            "617   E09000006               bromley  2011-12-01        28163.0   \n",
            "...         ...                   ...         ...            ...   \n",
            "1010  E12000009            south west  2018-12-01        27956.0   \n",
            "1013  E92000001               england  2018-12-01        29856.0   \n",
            "1017  N92000002      northern ireland  2018-12-01        27101.0   \n",
            "1018  S92000003              scotland  2018-12-01        29289.0   \n",
            "1019  W92000004                 wales  2018-12-01        26353.0   \n",
            "\n",
            "      life_satisfaction mean_salary recycling_pct  population_size  \\\n",
            "613                7.05       33568            30         187029.0   \n",
            "614                7.43       33062            34         357538.0   \n",
            "615                7.42       31812            54         232774.0   \n",
            "616                7.11       29609            37         312245.0   \n",
            "617                7.50       32863            50         310554.0   \n",
            "...                 ...         ...           ...              ...   \n",
            "1010               7.77       32848            50        5599735.0   \n",
            "1013               7.71       37313            44       55977178.0   \n",
            "1017               7.89       31158           NaN        1881641.0   \n",
            "1018               7.69       34604           NaN        5438100.0   \n",
            "1019               7.68       30347           NaN        3138631.0   \n",
            "\n",
            "      number_of_jobs   area_size  no_of_houses  borough_flag  \n",
            "613          54000.0      3780.0       71079.0             1  \n",
            "614         147000.0      8675.0      139346.0             1  \n",
            "615          78000.0      6429.0       95037.0             1  \n",
            "616         115000.0      4323.0      112083.0             1  \n",
            "617         119000.0     15013.0      135036.0             1  \n",
            "...              ...         ...           ...           ...  \n",
            "1010       3011000.0         NaN           NaN             0  \n",
            "1013      30493000.0  13303728.0    24172166.0             0  \n",
            "1017        900000.0         NaN           NaN             0  \n",
            "1018       2861000.0         NaN           NaN             0  \n",
            "1019       1496000.0         NaN           NaN             0  \n",
            "\n",
            "[352 rows x 12 columns]\n"
          ]
        },
        {
          "output_type": "execute_result",
          "data": {
            "text/plain": [
              "0      NaN\n",
              "1      NaN\n",
              "2      NaN\n",
              "3      NaN\n",
              "4      NaN\n",
              "        ..\n",
              "1066   NaN\n",
              "1067   NaN\n",
              "1068   NaN\n",
              "1069   NaN\n",
              "1070   NaN\n",
              "Name: life_satisfaction, Length: 1071, dtype: float64"
            ]
          },
          "metadata": {},
          "execution_count": 41
        }
      ]
    },
    {
      "cell_type": "markdown",
      "source": [
        "Exercise 6 - Removing duplicate entries\n",
        "remove duplicate area entries keeping first instance"
      ],
      "metadata": {
        "id": "cXDhUWrJfc93"
      }
    },
    {
      "cell_type": "markdown",
      "source": [
        "Упражнение 6. Удаление повторяющихся записей\n",
        "удалить повторяющиеся записи области, сохраняя первый экземпляр"
      ],
      "metadata": {
        "id": "c3vfF4uDfp2X"
      }
    },
    {
      "cell_type": "code",
      "source": [
        "import pandas as pd\n",
        "url ='https://raw.githubusercontent.com/futureCodersSE/working-with-data/main/Data%20sets/housing_in_london_yearly_variables.csv'\n",
        "df=pd.read_csv(url)\n",
        "df_nw=df.copy()\n",
        "print(df_nw.columns)\n",
        "df_nw.drop_duplicates(subset = ['area'])\n",
        "print(df_nw[['area','date']])\n"
      ],
      "metadata": {
        "colab": {
          "base_uri": "https://localhost:8080/"
        },
        "id": "kvzjKkzGfsK3",
        "outputId": "4d044ba1-0a70-487b-b06f-73f5ef2a1f4b"
      },
      "execution_count": null,
      "outputs": [
        {
          "output_type": "stream",
          "name": "stdout",
          "text": [
            "Index(['code', 'area', 'date', 'median_salary', 'life_satisfaction',\n",
            "       'mean_salary', 'recycling_pct', 'population_size', 'number_of_jobs',\n",
            "       'area_size', 'no_of_houses', 'borough_flag'],\n",
            "      dtype='object')\n",
            "                      area        date\n",
            "0           city of london  1999-12-01\n",
            "1     barking and dagenham  1999-12-01\n",
            "2                   barnet  1999-12-01\n",
            "3                   bexley  1999-12-01\n",
            "4                    brent  1999-12-01\n",
            "...                    ...         ...\n",
            "1066         great britain  2019-12-01\n",
            "1067     england and wales  2019-12-01\n",
            "1068      northern ireland  2019-12-01\n",
            "1069              scotland  2019-12-01\n",
            "1070                 wales  2019-12-01\n",
            "\n",
            "[1071 rows x 2 columns]\n"
          ]
        }
      ]
    },
    {
      "cell_type": "markdown",
      "source": [
        "Exercise 7 - normalise data set\n",
        "Create a function called normalise_income(df) that will return the values 1, 2 or 3 to represent low income, middle income and high income. If the value in df['median_salary'] is less than 27441 (the median), return 1, otherwise if it is less than 30932 (the upper quartile) return 2 and otherwise return 3.\n",
        "\n",
        "Apply the normalise_income(df) function to the median_salary column.\n",
        "\n",
        "NOTE: this operation will change the original dataframe so if you run it twice, everything in the median_salary column will change to 1 (as it had already been reduced to 1, 2 or 3 - if this happens, run the code in Exercise 4 again to get the original data again from the file."
      ],
      "metadata": {
        "id": "KxbKVmnNhdsf"
      }
    },
    {
      "cell_type": "markdown",
      "source": [
        "Упражнение 7. Нормализация набора данных\n",
        "Создайте функцию с именемnormalise_income(df), которая будет возвращать значения 1, 2 или 3, обозначающие низкий, средний и высокий доход. Если значение в df['median_salary'] меньше 27441 (медиана), верните 1, в противном случае, если оно меньше 30932 (верхний квартиль), верните 2, в противном случае верните 3.\n",
        "\n",
        "Примените функциюnormalise_income(df) к столбцу median_salary.\n",
        "\n",
        "ПРИМЕЧАНИЕ. Эта операция изменит исходный фрейм данных, поэтому, если вы запустите ее дважды, все в столбце median_salary изменится на 1 (так как оно уже было уменьшено до 1, 2 или 3 — если это произойдет, запустите код из упражнения 4 еще раз). чтобы снова получить исходные данные из файла."
      ],
      "metadata": {
        "id": "2syyCtdkhfrt"
      }
    },
    {
      "cell_type": "code",
      "source": [
        "import pandas as pd\n",
        "url = 'https://raw.githubusercontent.com/futureCodersSE/working-with-data/main/Data%20sets/housing_in_london_yearly_variables.csv'\n",
        "df=pd.read_csv(url)\n",
        "def normalise_income(df):\n",
        "   if (df['median_salary'] <= 27441):\n",
        "      return 1\n",
        "   elif (df['median_salary'] >= 27441) & (df['median_salary'] <=30932):\n",
        "      return 2\n",
        "   else:\n",
        "      return 3\n",
        "\n",
        "  # Apply the function to the median salary column in your dataframe\n",
        "df['median_salary'] = df.apply(normalise_income, axis=1)\n",
        "print(df[['median_salary','area']])\n",
        "\n"
      ],
      "metadata": {
        "colab": {
          "base_uri": "https://localhost:8080/"
        },
        "id": "ouvoHJFfBFUv",
        "outputId": "9bf992a6-818c-462e-cefe-1ac0678c6727"
      },
      "execution_count": null,
      "outputs": [
        {
          "output_type": "stream",
          "name": "stdout",
          "text": [
            "      median_salary                  area\n",
            "0                 3        city of london\n",
            "1                 1  barking and dagenham\n",
            "2                 1                barnet\n",
            "3                 1                bexley\n",
            "4                 1                 brent\n",
            "...             ...                   ...\n",
            "1066              2         great britain\n",
            "1067              2     england and wales\n",
            "1068              1      northern ireland\n",
            "1069              2              scotland\n",
            "1070              2                 wales\n",
            "\n",
            "[1071 rows x 2 columns]\n"
          ]
        }
      ]
    },
    {
      "cell_type": "markdown",
      "source": [
        "Exercise 8 - normalise the number of jobs column\n",
        "Using what you have learnt from Exercise 7:\n",
        "\n",
        "use df.describe() to find the median, upper quartile and maximum for the number_of_jobs column\n",
        "create a function called normalise_jobs(df) that will return 1 if the number_of_jobs is below the median, 2 if the number_of_jobs is below the upper quartile or 3 otherwise.\n",
        "normalise the number_of_jobs column by applying the function normalise_jobs."
      ],
      "metadata": {
        "id": "SfDI527-XAhm"
      }
    },
    {
      "cell_type": "markdown",
      "source": [
        "Упражнение 8 – нормализация столбца количества рабочих мест\n",
        "Используя то, что вы узнали из упражнения 7:\n",
        "\n",
        "используйте df.describe(), чтобы найти медиану, верхний квартиль и максимум для столбца Number_of_jobs\n",
        "создайте функцию с именемnormalise_jobs(df), которая будет возвращать 1, если число_заданий ниже медианы, 2, если число_заданий ниже верхнего квартиля, или 3 в противном случае.\n",
        "нормализуйте столбец Number_of_jobs, применив функциюnormalise_jobs."
      ],
      "metadata": {
        "id": "vBgo9SxsXL0U"
      }
    },
    {
      "cell_type": "code",
      "source": [
        "import pandas as pd\n",
        "url = 'https://raw.githubusercontent.com/futureCodersSE/working-with-data/main/Data%20sets/housing_in_london_yearly_variables.csv'\n",
        "df=pd.read_csv(url)\n",
        "\n",
        "med = (df['number_of_jobs'].median())\n",
        "q3 = df['number_of_jobs'].quantile(0.75)\n",
        "def normalise_jobs(df):\n",
        "\n",
        "   if (df['number_of_jobs']) <= med:\n",
        "      return 1\n",
        "   elif (df['number_of_jobs']) <= q3:\n",
        "      return 2\n",
        "   else:\n",
        "      return 3\n",
        "\n",
        "  # Apply the function to the median salary column in your dataframe\n",
        "df['number_of_jobs'] = df.apply(normalise_jobs, axis=1)\n",
        "print('1 if the number_of_jobs is below the median, 2 if the number_of_jobs is below the upper quartile or 3 otherwise')\n",
        "print(df[['number_of_jobs','area']])"
      ],
      "metadata": {
        "colab": {
          "base_uri": "https://localhost:8080/"
        },
        "id": "zhvbnvvKXf1i",
        "outputId": "e60a3567-531c-47e6-8a24-a5a7c46e166f"
      },
      "execution_count": 82,
      "outputs": [
        {
          "output_type": "stream",
          "name": "stdout",
          "text": [
            "1 if the number_of_jobs is below the median, 2 if the number_of_jobs is below the upper quartile or 3 otherwise\n",
            "      number_of_jobs                  area\n",
            "0                  3        city of london\n",
            "1                  3  barking and dagenham\n",
            "2                  3                barnet\n",
            "3                  3                bexley\n",
            "4                  3                 brent\n",
            "...              ...                   ...\n",
            "1066               3         great britain\n",
            "1067               3     england and wales\n",
            "1068               3      northern ireland\n",
            "1069               3              scotland\n",
            "1070               3                 wales\n",
            "\n",
            "[1071 rows x 2 columns]\n"
          ]
        }
      ]
    },
    {
      "cell_type": "markdown",
      "source": [],
      "metadata": {
        "id": "KNobgFUILalN"
      }
    },
    {
      "cell_type": "markdown",
      "source": [
        "xercise 9 - normalise into a new column\n",
        "Create a new function and code to normalise the no_of_houses column BUT this time, instead of assigning the result to df['no_of_houses'] assign it to a new column called df['housing_volume']"
      ],
      "metadata": {
        "id": "wCeogTOtYE9j"
      }
    },
    {
      "cell_type": "markdown",
      "source": [
        "упражнение 9 – нормализовать в новый столбец\n",
        "Создайте новую функцию и код для нормализации столбца no_of_houses, НО на этот раз вместо присвоения результата df['no_of_houses'] присвойте его новому столбцу с именем df['housing_volume']"
      ],
      "metadata": {
        "id": "mS-NsK93YG6L"
      }
    },
    {
      "cell_type": "code",
      "source": [
        "\n",
        "import pandas as pd\n",
        "url = 'https://raw.githubusercontent.com/futureCodersSE/working-with-data/main/Data%20sets/housing_in_london_yearly_variables.csv'\n",
        "df=pd.read_csv(url)\n",
        "\n",
        "print(df['no_of_houses'].describe())\n",
        "\n",
        "med = (df['no_of_houses'].median())\n",
        "q3 = df['no_of_houses'].quantile(0.75)\n",
        "def normalise_no_of_houses(df):\n",
        "\n",
        "   if (df['no_of_houses']) <= med:\n",
        "      return 1\n",
        "   elif (df['no_of_houses']) <= q3:\n",
        "      return 2\n",
        "   else:\n",
        "      return 3\n",
        "\n",
        "  # Apply the function\n",
        "df['no_of_houses'] = df.apply(normalise_no_of_houses, axis=1)\n",
        "df['housing_volume']=df['no_of_houses']\n",
        "print(df[['no_of_houses','housing_volume']])\n",
        "\n",
        "\n"
      ],
      "metadata": {
        "id": "E6o3_ES1YQRZ",
        "colab": {
          "base_uri": "https://localhost:8080/"
        },
        "outputId": "9e219b37-c82a-4a46-f5d7-84fe927e137a"
      },
      "execution_count": 76,
      "outputs": [
        {
          "output_type": "stream",
          "name": "stdout",
          "text": [
            "count    6.660000e+02\n",
            "mean     8.814682e+05\n",
            "std      3.690376e+06\n",
            "min      5.009000e+03\n",
            "25%      8.763550e+04\n",
            "50%      1.024020e+05\n",
            "75%      1.262760e+05\n",
            "max      2.417217e+07\n",
            "Name: no_of_houses, dtype: float64\n",
            "      no_of_houses  housing_volume\n",
            "0                3               3\n",
            "1                3               3\n",
            "2                3               3\n",
            "3                3               3\n",
            "4                3               3\n",
            "...            ...             ...\n",
            "1066             3               3\n",
            "1067             3               3\n",
            "1068             3               3\n",
            "1069             3               3\n",
            "1070             3               3\n",
            "\n",
            "[1071 rows x 2 columns]\n"
          ]
        }
      ]
    },
    {
      "cell_type": "markdown",
      "source": [
        "Exercise 10 - normalise boroughs\n",
        "Normalise the area_size column so that all values below mean are represented as 0 and otherwise are 1. Assign the output to a new column called area_size_normalised.\n",
        "\n",
        "Test output:"
      ],
      "metadata": {
        "id": "aJ5HYAQ4BATS"
      }
    },
    {
      "cell_type": "markdown",
      "source": [
        "Упражнение 10 – нормализация районов\n",
        "Нормализуйте столбец area_size так, чтобы все значения ниже среднего были представлены как 0, а в противном случае — как 1. Назначьте выходные данные новому столбцу с именем area_size_normalized."
      ],
      "metadata": {
        "id": "GlUVeUC_BB6b"
      }
    },
    {
      "cell_type": "code",
      "source": [
        "import pandas as pd\n",
        "url = 'https://raw.githubusercontent.com/futureCodersSE/working-with-data/main/Data%20sets/housing_in_london_yearly_variables.csv'\n",
        "df=pd.read_csv(url)\n",
        "df.info()\n",
        "print(df['area_size'].describe())\n",
        "m=df['area_size'].mean()\n",
        "def normalise_area_size(df):\n",
        "   if df['area_size'] <=m :\n",
        "      return 0\n",
        "\n",
        "   else:\n",
        "      return 1\n",
        "\n",
        "\n",
        "  # Apply the function to the median salary column in your dataframe\n",
        "df['area_size'] = df.apply(normalise_area_size, axis=1)\n",
        "df['area_size_normalized']=df['area_size']\n",
        "print('all values below mean are represented as 1','\\n',df[['area_size','area_size_normalized']])\n"
      ],
      "metadata": {
        "colab": {
          "base_uri": "https://localhost:8080/"
        },
        "id": "jD9RISTcBL8y",
        "outputId": "4f486d04-08b2-4d11-b534-9fab6cdcf461"
      },
      "execution_count": 81,
      "outputs": [
        {
          "output_type": "stream",
          "name": "stdout",
          "text": [
            "<class 'pandas.core.frame.DataFrame'>\n",
            "RangeIndex: 1071 entries, 0 to 1070\n",
            "Data columns (total 12 columns):\n",
            " #   Column             Non-Null Count  Dtype  \n",
            "---  ------             --------------  -----  \n",
            " 0   code               1071 non-null   object \n",
            " 1   area               1071 non-null   object \n",
            " 2   date               1071 non-null   object \n",
            " 3   median_salary      1049 non-null   float64\n",
            " 4   life_satisfaction  352 non-null    float64\n",
            " 5   mean_salary        1071 non-null   object \n",
            " 6   recycling_pct      860 non-null    object \n",
            " 7   population_size    1018 non-null   float64\n",
            " 8   number_of_jobs     931 non-null    float64\n",
            " 9   area_size          666 non-null    float64\n",
            " 10  no_of_houses       666 non-null    float64\n",
            " 11  borough_flag       1071 non-null   int64  \n",
            "dtypes: float64(6), int64(1), object(5)\n",
            "memory usage: 100.5+ KB\n",
            "count    6.660000e+02\n",
            "mean     3.724903e+05\n",
            "std      2.157060e+06\n",
            "min      3.150000e+02\n",
            "25%      2.960000e+03\n",
            "50%      4.323000e+03\n",
            "75%      8.220000e+03\n",
            "max      1.330373e+07\n",
            "Name: area_size, dtype: float64\n",
            "all values below mean are represented as 1 \n",
            "       area_size  area_size_normalized\n",
            "0             1                     1\n",
            "1             1                     1\n",
            "2             1                     1\n",
            "3             1                     1\n",
            "4             1                     1\n",
            "...         ...                   ...\n",
            "1066          1                     1\n",
            "1067          1                     1\n",
            "1068          1                     1\n",
            "1069          1                     1\n",
            "1070          1                     1\n",
            "\n",
            "[1071 rows x 2 columns]\n"
          ]
        }
      ]
    }
  ]
}