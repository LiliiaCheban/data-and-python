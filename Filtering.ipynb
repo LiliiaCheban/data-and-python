{
  "nbformat": 4,
  "nbformat_minor": 0,
  "metadata": {
    "colab": {
      "provenance": [],
      "authorship_tag": "ABX9TyMmy+Kz1whwn0jvLpus0yrP",
      "include_colab_link": true
    },
    "kernelspec": {
      "name": "python3",
      "display_name": "Python 3"
    },
    "language_info": {
      "name": "python"
    }
  },
  "cells": [
    {
      "cell_type": "markdown",
      "metadata": {
        "id": "view-in-github",
        "colab_type": "text"
      },
      "source": [
        "<a href=\"https://colab.research.google.com/github/LiliiaCheban/data-and-python/blob/main/Filtering.ipynb\" target=\"_parent\"><img src=\"https://colab.research.google.com/assets/colab-badge.svg\" alt=\"Open In Colab\"/></a>"
      ]
    },
    {
      "cell_type": "markdown",
      "source": [],
      "metadata": {
        "id": "nSLTPlesECu6"
      }
    },
    {
      "cell_type": "markdown",
      "source": [
        "Data Imports & Table Content\n",
        "In this worksheet you will use data from a dataset in an Excel spreadsheet called public_use-talent-migration.xlsx. This spreadsheet file contains 3 sheets, each with related but different data on migration.\n",
        "\n",
        "Running the code below will create a dataframe from each of the 3 sheets and will display the column names and data types so that you can start to get an idea of what is in the data.\n",
        "\n",
        "You can then use these dataframes in the exercises, rather than keep re-reading the original files. The 3 dataframes will be called:\n",
        "\n",
        "skill_migration\n",
        "industry_migration\n",
        "country_migration"
      ],
      "metadata": {
        "id": "s8-1r712EFyo"
      }
    },
    {
      "cell_type": "markdown",
      "source": [
        "В этом листе вы будете использовать данные из набора данных в электронной таблице Excel под названием public_use-talent-migration.xlsx. Этот файл электронной таблицы содержит 3 листа, каждый из которых содержит связанные, но разные данные о миграции.\n",
        "\n",
        "Выполнение приведенного ниже кода создаст фрейм данных из каждого из трех листов и отобразит имена столбцов и типы данных, чтобы вы могли получить представление о том, что находится в данных.\n",
        "\n",
        "Затем вы можете использовать эти кадры данных в упражнениях, а не перечитывать исходные файлы. 3 фрейма данных будут называться:\n",
        "\n",
        "навык_миграция\n",
        "промышленность_миграция\n",
        "страна_миграция"
      ],
      "metadata": {
        "id": "Mfx-6HEyEHrs"
      }
    },
    {
      "cell_type": "markdown",
      "source": [],
      "metadata": {
        "id": "FeE-5usED-hN"
      }
    },
    {
      "cell_type": "code",
      "execution_count": null,
      "metadata": {
        "id": "EDMKQE23DavY",
        "colab": {
          "base_uri": "https://localhost:8080/",
          "height": 1000
        },
        "outputId": "35dab6b4-a4a2-41cd-f6a5-28c8e4d98932"
      },
      "outputs": [
        {
          "output_type": "stream",
          "name": "stdout",
          "text": [
            "<class 'pandas.core.frame.DataFrame'>\n",
            "RangeIndex: 17617 entries, 0 to 17616\n",
            "Data columns (total 12 columns):\n",
            " #   Column                Non-Null Count  Dtype  \n",
            "---  ------                --------------  -----  \n",
            " 0   country_code          17617 non-null  object \n",
            " 1   country_name          17617 non-null  object \n",
            " 2   wb_income             17617 non-null  object \n",
            " 3   wb_region             17617 non-null  object \n",
            " 4   skill_group_id        17617 non-null  int64  \n",
            " 5   skill_group_category  17617 non-null  object \n",
            " 6   skill_group_name      17617 non-null  object \n",
            " 7   net_per_10K_2015      17617 non-null  float64\n",
            " 8   net_per_10K_2016      17617 non-null  float64\n",
            " 9   net_per_10K_2017      17617 non-null  float64\n",
            " 10  net_per_10K_2018      17617 non-null  float64\n",
            " 11  net_per_10K_2019      17617 non-null  float64\n",
            "dtypes: float64(5), int64(1), object(6)\n",
            "memory usage: 1.6+ MB\n"
          ]
        },
        {
          "output_type": "display_data",
          "data": {
            "text/plain": [
              "None"
            ]
          },
          "metadata": {}
        },
        {
          "output_type": "stream",
          "name": "stdout",
          "text": [
            "<class 'pandas.core.frame.DataFrame'>\n",
            "RangeIndex: 5295 entries, 0 to 5294\n",
            "Data columns (total 13 columns):\n",
            " #   Column              Non-Null Count  Dtype  \n",
            "---  ------              --------------  -----  \n",
            " 0   country_code        5295 non-null   object \n",
            " 1   country_name        5295 non-null   object \n",
            " 2   wb_income           5295 non-null   object \n",
            " 3   wb_region           5295 non-null   object \n",
            " 4   isic_section_index  5295 non-null   object \n",
            " 5   isic_section_name   5295 non-null   object \n",
            " 6   industry_id         5295 non-null   int64  \n",
            " 7   industry_name       5295 non-null   object \n",
            " 8   net_per_10K_2015    5295 non-null   float64\n",
            " 9   net_per_10K_2016    5295 non-null   float64\n",
            " 10  net_per_10K_2017    5295 non-null   float64\n",
            " 11  net_per_10K_2018    5295 non-null   float64\n",
            " 12  net_per_10K_2019    5295 non-null   float64\n",
            "dtypes: float64(5), int64(1), object(7)\n",
            "memory usage: 537.9+ KB\n"
          ]
        },
        {
          "output_type": "display_data",
          "data": {
            "text/plain": [
              "None"
            ]
          },
          "metadata": {}
        },
        {
          "output_type": "stream",
          "name": "stdout",
          "text": [
            "<class 'pandas.core.frame.DataFrame'>\n",
            "RangeIndex: 4148 entries, 0 to 4147\n",
            "Data columns (total 17 columns):\n",
            " #   Column                    Non-Null Count  Dtype  \n",
            "---  ------                    --------------  -----  \n",
            " 0   base_country_code         4148 non-null   object \n",
            " 1   base_country_name         4148 non-null   object \n",
            " 2   base_lat                  4148 non-null   float64\n",
            " 3   base_long                 4148 non-null   float64\n",
            " 4   base_country_wb_income    4148 non-null   object \n",
            " 5   base_country_wb_region    4148 non-null   object \n",
            " 6   target_country_code       4148 non-null   object \n",
            " 7   target_country_name       4148 non-null   object \n",
            " 8   target_lat                4148 non-null   float64\n",
            " 9   target_long               4148 non-null   float64\n",
            " 10  target_country_wb_income  4148 non-null   object \n",
            " 11  target_country_wb_region  4148 non-null   object \n",
            " 12  net_per_10K_2015          4148 non-null   float64\n",
            " 13  net_per_10K_2016          4148 non-null   float64\n",
            " 14  net_per_10K_2017          4148 non-null   float64\n",
            " 15  net_per_10K_2018          4148 non-null   float64\n",
            " 16  net_per_10K_2019          4148 non-null   float64\n",
            "dtypes: float64(9), object(8)\n",
            "memory usage: 551.0+ KB\n"
          ]
        },
        {
          "output_type": "display_data",
          "data": {
            "text/plain": [
              "None"
            ]
          },
          "metadata": {}
        },
        {
          "output_type": "stream",
          "name": "stdout",
          "text": [
            "датафрейм\n"
          ]
        },
        {
          "output_type": "execute_result",
          "data": {
            "text/plain": [
              "Index(['country_code', 'country_name', 'wb_income', 'wb_region',\n",
              "       'skill_group_id', 'skill_group_category', 'skill_group_name',\n",
              "       'net_per_10K_2015', 'net_per_10K_2016', 'net_per_10K_2017',\n",
              "       'net_per_10K_2018', 'net_per_10K_2019'],\n",
              "      dtype='object')"
            ]
          },
          "metadata": {},
          "execution_count": 2
        }
      ],
      "source": [
        "import pandas as pd\n",
        "\n",
        "skill_migration = pd.read_excel('https://github.com/futureCodersSE/working-with-data/blob/main/Data%20sets/public_use-talent-migration.xlsx?raw=true', \"Skill Migration\")\n",
        "industry_migration = pd.read_excel('https://github.com/futureCodersSE/working-with-data/blob/main/Data%20sets/public_use-talent-migration.xlsx?raw=true', \"Industry Migration\")\n",
        "country_migration = pd.read_excel('https://github.com/futureCodersSE/working-with-data/blob/main/Data%20sets/public_use-talent-migration.xlsx?raw=true', \"Country Migration\")\n",
        "\n",
        "def get_summary(df):\n",
        "  display(df.info())\n",
        "\n",
        "get_summary(skill_migration)\n",
        "get_summary(industry_migration)\n",
        "get_summary(country_migration)\n",
        "\n",
        "print('датафрейм')\n",
        "skill_migration.columns\n"
      ]
    },
    {
      "cell_type": "markdown",
      "source": [
        "Exercise 1\n",
        "\n",
        "Write a function that will take the skill_migration dataframe as a parameter and will:\n",
        "\n",
        "filter for the rows where the wb_income contains High income.\n",
        "return the number of rows (length of the dataframe).\n"
      ],
      "metadata": {
        "id": "Yh_VkarWGTTJ"
      }
    },
    {
      "cell_type": "markdown",
      "source": [
        "Упражнение 1\n",
        "\n",
        "Напишите функцию, которая будет принимать фрейм данныхkill_migration в качестве параметра и будет:\n",
        "\n",
        "фильтр для строк, где wb_income содержит Высокий доход.\n",
        "вернуть количество строк (длину кадра данных)."
      ],
      "metadata": {
        "id": "BA8QzQBDGVZ1"
      }
    },
    {
      "cell_type": "code",
      "source": [
        "import pandas as pd\n",
        "skill_migration = pd.read_excel('https://github.com/futureCodersSE/working-with-data/blob/main/Data%20sets/public_use-talent-migration.xlsx?raw=true', \"Skill Migration\")\n",
        "\n",
        "def filter_income(df):\n",
        "  # add code below to find the number of high income countries using the wb_income column\n",
        "   filtered_df = df[df['wb_income'].str.contains('High income', case=False, na=False)]\n",
        "   return len(filtered_df)\n",
        "actual = filter_income(skill_migration)\n",
        "expected = 8904\n",
        "\n",
        "if actual == expected:\n",
        "  print(\"Test passed!\\nExpected: {}\\nActual: {}\".format(expected, actual))\n",
        "else:\n",
        "  print(\"Test failed!\\nExpected: {}\\nActual: {}\".format(expected, actual))\n",
        "#filter_income(skill_migration)"
      ],
      "metadata": {
        "colab": {
          "base_uri": "https://localhost:8080/"
        },
        "id": "w1NC8LQFhXTr",
        "outputId": "e8eb88e4-f554-4ce7-ba39-814e37843228"
      },
      "execution_count": null,
      "outputs": [
        {
          "output_type": "stream",
          "name": "stdout",
          "text": [
            "Test passed!\n",
            "Expected: 8904\n",
            "Actual: 8904\n"
          ]
        }
      ]
    },
    {
      "cell_type": "markdown",
      "source": [
        "Упражнение 2\n",
        "\n",
        "Напишите функцию, которая будет принимать фрейм данныхkill_migration и определенный тип навыков (например, технические навыки) в качестве параметров и будет:\n",
        "\n",
        "фильтр для строк, у которых навык_группа_категория равен данному навыку.\n",
        "верните страну, которая больше всего отображается в столбце Country_name отфильтрованного фрейма данных."
      ],
      "metadata": {
        "id": "1eUXLDbik8Yr"
      }
    },
    {
      "cell_type": "markdown",
      "source": [
        "Exercise 2\n",
        "\n",
        "Write a function that will take the skill_migration dataframe, and a particular type of skill (e.g. Tech skills) as parameters and will:\n",
        "\n",
        "filter for the rows that have a skill_group_category equal to the given skill.\n",
        "return the country that shows up the most in the country_name column of the filtered dataframe."
      ],
      "metadata": {
        "id": "mBehAR17ldXZ"
      }
    },
    {
      "cell_type": "code",
      "source": [
        "import pandas as pd\n",
        "skill_migration = pd.read_excel('https://github.com/futureCodersSE/working-with-data/blob/main/Data%20sets/public_use-talent-migration.xlsx?raw=true', \"Skill Migration\")\n",
        "\n",
        "\n",
        "def filter_skills(df, skill):\n",
        "\n",
        "   filtered_df = df[df['skill_group_category'] == skill]\n",
        "\n",
        "   if filtered_df.empty:\n",
        "       return [ \"No data for the specified skill type.\"]\n",
        "   most_common_country = filtered_df.groupby('country_name').size().idxmax()\n",
        "   return [most_common_country]\n",
        "\n",
        "\n",
        "\n",
        "\n",
        "tests = [\n",
        "    { \"id\": 1, \"actual\": filter_skills(skill_migration, \"Tech Skills\")[0], \"expected\": \"Australia\" },\n",
        "    { \"id\": 2, \"actual\": filter_skills(skill_migration, \"Business Skills\")[0], \"expected\": \"Australia\" },\n",
        "    { \"id\": 3, \"actual\": filter_skills(skill_migration, \"Specialized Industry Skills\")[0], \"expected\": \"United Kingdom\" }\n",
        "]\n",
        "\n",
        "for test in tests:\n",
        "       if test[\"actual\"] == test[\"expected\"]:\n",
        "           print(\"Test {} passed!\\nExpected: {}\\nActual: {}\\n\".format(test[\"id\"], test[\"expected\"], test[\"actual\"]))\n",
        "       else:\n",
        "           print(\"Test {} failed!\\nExpected: {}\\nActual: {}\\n\".format(test[\"id\"], test[\"expected\"], test[\"actual\"]))\n",
        "\n",
        "\n"
      ],
      "metadata": {
        "colab": {
          "base_uri": "https://localhost:8080/"
        },
        "id": "8hjYK3INlgdb",
        "outputId": "03cea61b-b79c-4ac9-c4ac-fe69d5e037fe"
      },
      "execution_count": 9,
      "outputs": [
        {
          "output_type": "stream",
          "name": "stdout",
          "text": [
            "Test 1 passed!\n",
            "Expected: Australia\n",
            "Actual: Australia\n",
            "\n",
            "Test 2 passed!\n",
            "Expected: Australia\n",
            "Actual: Australia\n",
            "\n",
            "Test 3 passed!\n",
            "Expected: United Kingdom\n",
            "Actual: United Kingdom\n",
            "\n"
          ]
        }
      ]
    },
    {
      "cell_type": "markdown",
      "source": [
        "Exercise 3\n",
        "\n",
        "Write a function that will take the skill_migration dataframe as a parameter and will:\n",
        "\n",
        "filter, using two conditions, for the rows where skill_group_id is 2265 and net_per_10K_2019 is greater than -500.\n",
        "sort the rows in ascending order based on net_per_10K_2019\n",
        "return the first 5 rows."
      ],
      "metadata": {
        "id": "dHPEmf7Ahdzh"
      }
    },
    {
      "cell_type": "markdown",
      "source": [
        "Упражнение 3\n",
        "\n",
        "Напишите функцию, которая будет принимать фрейм данныхkill_migration в качестве параметра и будет:\n",
        "\n",
        "фильтруйте с использованием двух условий для строк, где Skill_group_id равен 2265, а net_per_10K_2019 больше -500.\n",
        "отсортируйте строки в порядке возрастания на основе net_per_10K_2019\n",
        "верните первые 5 строк."
      ],
      "metadata": {
        "id": "aP2PSGdzhfOq"
      }
    },
    {
      "cell_type": "markdown",
      "source": [],
      "metadata": {
        "id": "cnkpir5KDhME"
      }
    },
    {
      "cell_type": "code",
      "source": [
        "import pandas as pd\n",
        "skill_migration = pd.read_excel('https://github.com/futureCodersSE/working-with-data/blob/main/Data%20sets/public_use-talent-migration.xlsx?raw=true', \"Skill Migration\")\n",
        "\n",
        "def filter_skill_id(df):\n",
        "\n",
        "   # add code below to find all rows that the skill id 2265 with greater than -500 migration and return the first 5 rows when\n",
        "   # добавьте код ниже, чтобы найти все строки, для которых идентификатор навыка 2265 имеет миграцию более -500, и вернуть первые 5 строк при сортировке в порядке net_per_10K_2019\n",
        "     filtered_df = df[(df['skill_group_id'] == 2265) & (df['net_per_10K_2019'] > -500)].sort_values('net_per_10K_2019', ascending=True).head(5)\n",
        "     return filtered_df\n",
        "\n",
        "\n",
        "#run test to see if you are getting the correct first row and only returning 5 items\n",
        "#запустите тест, чтобы убедиться, что вы получаете правильную первую строку и возвращаете только 5 элементов\n",
        "filtered_df = filter_skill_id(skill_migration)\n",
        "actual1 = filtered_df.index[0]\n",
        "expected1 = 14550\n",
        "actual2 = len(filtered_df)\n",
        "expected2 = 5\n",
        "\n",
        "if actual1 == expected1 and actual2 == expected2:\n",
        "    print(\"Test passed!\\nExpected: {} & {}\\nActual: {} & {}\".format(expected1, expected2, actual1, actual2))\n",
        "else:\n",
        "      print(\"Test failed!\\nExpected: {} & {}\\nActual: {} & {}\".format(expected1, expected2, actual1, actual2))\n"
      ],
      "metadata": {
        "id": "NjP_XIBUhld_",
        "colab": {
          "base_uri": "https://localhost:8080/"
        },
        "outputId": "f6ba7142-11bc-4e86-f535-e4c7626334d3"
      },
      "execution_count": null,
      "outputs": [
        {
          "output_type": "stream",
          "name": "stdout",
          "text": [
            "Test passed!\n",
            "Expected: 14550 & 5\n",
            "Actual: 14550 & 5\n"
          ]
        }
      ]
    },
    {
      "cell_type": "markdown",
      "source": [
        "Exercise 4\n",
        "\n",
        "Write a function that will take the country_migration dataframe and an amount of net per 10K migrations as parameters and will:\n",
        "\n",
        "filter for all rows with a net_per_10K_2019 less than amount\n",
        "\n",
        "return the number of rows."
      ],
      "metadata": {
        "id": "oLv8K1d2baHU"
      }
    },
    {
      "cell_type": "markdown",
      "source": [
        "Упражнение 4\n",
        "\n",
        "Напишите функцию, которая будет принимать в качестве параметров кадр данных Country_migration и количество чистых за 10 тысяч миграций и будет:\n",
        "\n",
        "фильтр для всех строк с суммой net_per_10K_2019 меньше\n",
        "вернуть количество строк."
      ],
      "metadata": {
        "id": "g-oS8Pp_bezY"
      }
    },
    {
      "cell_type": "code",
      "source": [
        "import pandas as pd\n",
        "country_migration = pd.read_excel('https://github.com/futureCodersSE/working-with-data/blob/main/Data%20sets/public_use-talent-migration.xlsx?raw=true', \"Country Migration\")\n",
        "def filter_net_per_10k(df, amount):\n",
        "# add code below to find all the rows where the net_per_10K_2019 is less than the `amount` parameter\n",
        "# добавьте код ниже, чтобы найти все строки, в которых net_per_10K_2019 меньше параметра `amount`\n",
        "  filtered_df=(df[df['net_per_10K_2019'] < amount].shape[0])\n",
        "  return filtered_df\n",
        "  print( len(filtered_data))\n",
        "\n",
        "  #run test to see if you are getting the correct first row and only returning 5 items\n",
        "  #запустите тест, чтобы убедиться, что вы получаете правильную первую строку и возвращаете только 5 элементов\n",
        "tests = [\n",
        "    { \"id\": 1, \"actual\": filter_net_per_10k(country_migration, 100), \"expected\": 4148 },\n",
        "    { \"id\": 2, \"actual\": filter_net_per_10k(country_migration, 0), \"expected\": 1980 },\n",
        "    { \"id\": 3, \"actual\": filter_net_per_10k(country_migration, -100), \"expected\": 0 }\n",
        "]\n",
        "\n",
        "for test in tests:\n",
        "  if test[\"actual\"] == test[\"expected\"]:\n",
        "    print(\"Test {} passed!\\nExpected: {}\\nActual: {}\\n\".format(test[\"id\"], test[\"expected\"], test[\"actual\"]))\n",
        "  else:\n",
        "    print(\"Test {} failed!\\nExpected: {}\\nActual: {}\\n\".format(test[\"id\"], test[\"expected\"],  test[\"actual\"]))\n"
      ],
      "metadata": {
        "id": "851QcCQEbi5n",
        "colab": {
          "base_uri": "https://localhost:8080/"
        },
        "outputId": "ce38d601-24e8-4c56-93ad-6dabb2d91a39"
      },
      "execution_count": null,
      "outputs": [
        {
          "output_type": "stream",
          "name": "stdout",
          "text": [
            "Test 1 passed!\n",
            "Expected: 4148\n",
            "Actual: 4148\n",
            "\n",
            "Test 2 passed!\n",
            "Expected: 1980\n",
            "Actual: 1980\n",
            "\n",
            "Test 3 passed!\n",
            "Expected: 0\n",
            "Actual: 0\n",
            "\n"
          ]
        }
      ]
    },
    {
      "cell_type": "markdown",
      "source": [
        "Exercise 5\n",
        "\n",
        "Write a function that will take the country_migration dataframe as a parameter and will:\n",
        "\n",
        "filter for all rows where both net_per_10K_2015 and net_per_10K_2016 values are greater than 50.\n",
        "return the number of rows"
      ],
      "metadata": {
        "id": "Sor2EDV8ggLG"
      }
    },
    {
      "cell_type": "markdown",
      "source": [
        "Упражнение 5\n",
        "\n",
        "Напишите функцию, которая будет принимать фрейм данных Country_migration в качестве параметра и будет:\n",
        "\n",
        "фильтр для всех строк, где значения net_per_10K_2015 и net_per_10K_2016 больше 50.\n",
        "вернуть количество строк"
      ],
      "metadata": {
        "id": "jaVEuc78gn6m"
      }
    },
    {
      "cell_type": "code",
      "source": [
        "import pandas as pd\n",
        "country_migration = pd.read_excel('https://github.com/futureCodersSE/working-with-data/blob/main/Data%20sets/public_use-talent-migration.xlsx?raw=true', \"Country Migration\")\n",
        "def filter_two_net(df):\n",
        "  # add code below to find rows which have migration in 2015 & 2016 greater than 50\n",
        "  # добавьте код ниже, чтобы найти строки, в которых миграция в 2015 и 2016 годах превышает 50\n",
        "    df_filtered = df[(df['net_per_10K_2015'] > 50) & (df['net_per_10K_2016'] > 50)]\n",
        "    return len(df_filtered)\n",
        "\n",
        "#run test to see if you are getting the correct length of rows\n",
        "#запустите тест, чтобы убедиться, что вы получаете правильную длину строк\n",
        "actual = filter_two_net(country_migration)\n",
        "expected = 3\n",
        "\n",
        "if actual == expected:\n",
        "  print(\"Test passed!\\nExpected: {}\\nActual: {}\".format(expected, actual))\n",
        "else:\n",
        "  print(\"Test failed!\\nExpected: {}\\nActual: {}\".format(expected, actual))\n",
        "\n",
        "\n",
        "\n"
      ],
      "metadata": {
        "id": "p4QeigLOgr3R",
        "colab": {
          "base_uri": "https://localhost:8080/"
        },
        "outputId": "30c6ca62-e6af-4f81-8910-6dfd0a39ffb1"
      },
      "execution_count": null,
      "outputs": [
        {
          "output_type": "stream",
          "name": "stdout",
          "text": [
            "Test passed!\n",
            "Expected: 3\n",
            "Actual: 3\n"
          ]
        }
      ]
    },
    {
      "cell_type": "markdown",
      "source": [
        "Exercise 6\n",
        "\n",
        "Write a function that will take the country_migration dataframe as a parameter and will:\n",
        "\n",
        "filter for all migrations from countries with Low Income to countries with Upper Middle Incomeand within the same region ( base_country_wb_region is the same as target_country_wb_region)\n",
        "display the number of rows."
      ],
      "metadata": {
        "id": "OOoqJ2vyhGgm"
      }
    },
    {
      "cell_type": "markdown",
      "source": [
        "Упражнение 6\n",
        "\n",
        "Напишите функцию, которая будет принимать фрейм данных Country_migration в качестве параметра и будет:\n",
        "\n",
        "фильтр для всех миграций из стран с низким доходом в страны с доходом выше среднего и в пределах одного региона ( base_country_wb_region совпадает с target_country_wb_region)\n",
        "отображение количества строк."
      ],
      "metadata": {
        "id": "Kbg0ZGYGhPf7"
      }
    },
    {
      "cell_type": "code",
      "source": [
        "import pandas as pd\n",
        "country_migration = pd.read_excel('https://github.com/futureCodersSE/working-with-data/blob/main/Data%20sets/public_use-talent-migration.xlsx?raw=true', \"Country Migration\")\n",
        "\n",
        "\n",
        "def filter_two_income(df):\n",
        "\n",
        "  # add code below to find all rows of migration from low income to upper middle income and where migration was to the same region\n",
        "# добавьте код ниже, чтобы найти все строки миграции от уровня с низким доходом до уровня дохода выше среднего,\n",
        "# а также места миграции в один и тот же регион.\n",
        "    low_income_countries = df[df['base_country_wb_income'] == 'Low income']\n",
        "    high_income_countries = df[df['base_country_wb_income'].isin(['Upper middle income', 'High income'])]\n",
        "\n",
        "    filtered_df = pd.merge(low_income_countries, high_income_countries,\n",
        "                           how='inner',\n",
        "                           left_on='target_country_wb_region',\n",
        "                           right_on='base_country_wb_region')\n",
        "    print(\"Количество строк после фильтрации:\", len(filtered_df))\n",
        "\n",
        "    return filtered_df\n",
        "\n",
        "\n",
        "result_df = filter_two_income(country_migration)\n",
        "\n",
        "\n",
        "actual = len(result_df)\n",
        "expected = 15\n",
        "\n",
        "if actual == expected:\n",
        "  print(\"Test passed!\\nExpected: {}\\nActual: {}\".format(expected, actual))\n",
        "else:\n",
        "  print(\"Test failed!\\nExpected: {}\\nActual: {}\".format(expected, actual))"
      ],
      "metadata": {
        "id": "9kfwi36dhawa",
        "colab": {
          "base_uri": "https://localhost:8080/"
        },
        "outputId": "7e18b45c-8b79-4411-c239-be84c60e5911"
      },
      "execution_count": 16,
      "outputs": [
        {
          "output_type": "stream",
          "name": "stdout",
          "text": [
            "Количество строк после фильтрации: 0\n",
            "Test failed!\n",
            "Expected: 15\n",
            "Actual: 0\n"
          ]
        }
      ]
    },
    {
      "cell_type": "markdown",
      "source": [
        "Exercise 7\n",
        "\n",
        "Write a function that will take the industry_migration dataframe as a parameter and will:\n",
        "\n",
        "filter for all rows which have a isic_section_index of M and the industry_name, Biotechnology\n",
        "return the number of rows."
      ],
      "metadata": {
        "id": "WZboRyuehney"
      }
    },
    {
      "cell_type": "markdown",
      "source": [
        "Упражнение 7\n",
        "\n",
        "Напишите функцию, которая будет принимать кадр данных Industry_migration в качестве параметра и будет:\n",
        "\n",
        "фильтр для всех строк, у которых isic_section_index имеет значение M и название отрасли, Биотехнология\n",
        "вернуть количество строк."
      ],
      "metadata": {
        "id": "P_m-tCH1ht3Y"
      }
    },
    {
      "cell_type": "code",
      "source": [
        "import pandas as pd\n",
        "industry_migration = pd.read_excel('https://github.com/futureCodersSE/working-with-data/blob/main/Data%20sets/public_use-talent-migration.xlsx?raw=true', \"Industry Migration\")\n",
        "#industry_migration.head(2)\n",
        " # add code below to find all the rows from biotechnology industry with isic section index of M\n",
        "\n",
        "def filter_industry(df):\n",
        "    df_filtered = df[(df['isic_section_index'] == 'M') & (df['industry_name'] == 'Biotechnology')]\n",
        "    return len(df_filtered)\n",
        " #run test to see if you are getting the correct length of rows\n",
        "actual = filter_industry(industry_migration)\n",
        "expected = 32\n",
        "\n",
        "if actual == expected:\n",
        "  print(\"Test passed!\\nExpected: {}\\nActual: {}\".format(expected, actual))\n",
        "else:\n",
        "  print(\"Test failed!\\nExpected: {}\\nActual: {}\".format(expected, actual))\n",
        "\n"
      ],
      "metadata": {
        "id": "zNwYW3vzh0HG",
        "colab": {
          "base_uri": "https://localhost:8080/"
        },
        "outputId": "32c6b434-c8d6-48d5-ac11-30a0832b5b04"
      },
      "execution_count": null,
      "outputs": [
        {
          "output_type": "stream",
          "name": "stdout",
          "text": [
            "Test passed!\n",
            "Expected: 32\n",
            "Actual: 32\n"
          ]
        }
      ]
    },
    {
      "cell_type": "markdown",
      "source": [
        "Exercise 8\n",
        "\n",
        "Write a function that will take the industry_migration dataframe as a parameter and will:\n",
        "\n",
        "filter for all rows with industry_name of Computer Software that have a wb_income of Low income.\n",
        "return the filtered dataframe"
      ],
      "metadata": {
        "id": "0wW8ejl_iE5v"
      }
    },
    {
      "cell_type": "code",
      "source": [
        "import pandas as pd\n",
        "industry_migration = pd.read_excel('https://github.com/futureCodersSE/working-with-data/blob/main/Data%20sets/public_use-talent-migration.xlsx?raw=true', \"Industry Migration\")\n",
        "def filter_industry_income(df):\n",
        "  df_filtered = df[(df['industry_name'] == 'Computer Software') & (df['wb_income'] == 'Low income')]\n",
        "\n",
        "  return df_filtered\n",
        "  #run test to see if you are getting the correct first row and only returning 1 item\n",
        "filtered_df = filter_industry_income(industry_migration)\n",
        "actual1 = filtered_df.index[0]\n",
        "expected1 = 3699\n",
        "actual2 = len(filtered_df)\n",
        "expected2 = 1\n",
        "\n",
        "if actual1 == expected1 and actual2 == expected2:\n",
        "  print(\"Test passed!\\nExpected: {} & {}\\nActual: {} & {}\".format(expected1, expected2, actual1, actual2))\n",
        "else:\n",
        "  print(\"Test failed!\\nExpected: {} & {}\\nActual: {} & {}\".format(expected1, expected2, actual1, actual2))"
      ],
      "metadata": {
        "id": "-Yl8A-HTiOur",
        "colab": {
          "base_uri": "https://localhost:8080/"
        },
        "outputId": "bb86017b-193f-46a9-f539-f94fc8fe6796"
      },
      "execution_count": null,
      "outputs": [
        {
          "output_type": "stream",
          "name": "stdout",
          "text": [
            "Test passed!\n",
            "Expected: 3699 & 1\n",
            "Actual: 3699 & 1\n"
          ]
        }
      ]
    },
    {
      "cell_type": "markdown",
      "source": [
        "Exercise 9\n",
        "\n",
        "Write a function that will take the industry_migration dataframe as a parameter and will:\n",
        "\n",
        "filter for all rows with country_name of United States or United Kingdom and a isic_section_index of M\n",
        "return the average of net_per_10K_2015."
      ],
      "metadata": {
        "id": "xsdwroFBina9"
      }
    },
    {
      "cell_type": "markdown",
      "source": [
        "Напишите функцию, которая будет принимать кадр данных Industry_migration в качестве параметра и будет:\n",
        "\n",
        "Фильтр для всех строк с именем страны, равным США или Великобритании, и значением isic_section_index, равным M, возвращает среднее значение net_per_10K_2015."
      ],
      "metadata": {
        "id": "hywj0WqQ9bAa"
      }
    },
    {
      "cell_type": "code",
      "source": [
        "import pandas as pd\n",
        "industry_migration = pd.read_excel('https://github.com/futureCodersSE/working-with-data/blob/main/Data%20sets/public_use-talent-migration.xlsx?raw=true', \"Industry Migration\")\n",
        "def filter_country(df):\n",
        "  # add code below to find all USA and UK rows which have ISIC of M and return mean migration in 2015\n",
        "\n",
        "\n",
        "   filtered_df = df[(df['country_name'].isin(['USA', 'United Kingdom'])) & (df['isic_section_index'] == 'M')]\n",
        "   avg = filtered_df['net_per_10K_2015'].mean()\n",
        "   print(\"With index M filtered data:\\n\", filtered_df)\n",
        "   return avg\n",
        "\n",
        "  #run test to see if you are getting the correct average\n",
        "actual = round(filter_country(industry_migration), 2)\n",
        "expected = 47.28\n",
        "\n",
        "if actual == expected:\n",
        "  print(\"Test passed!\\nExpected: {}\\nActual: {}\".format(expected, actual))\n",
        "else:\n",
        "  print(\"Test failed!\\nExpected: {}\\nActual: {}\".format(expected, actual))"
      ],
      "metadata": {
        "id": "4_ImydVpior-",
        "colab": {
          "base_uri": "https://localhost:8080/"
        },
        "outputId": "adba79ef-e36d-4c74-f442-dcc738ae6e23"
      },
      "execution_count": 28,
      "outputs": [
        {
          "output_type": "stream",
          "name": "stdout",
          "text": [
            "With index M filtered data:\n",
            "      country_code    country_name    wb_income              wb_region  \\\n",
            "1981           gb  United Kingdom  High income  Europe & Central Asia   \n",
            "1982           gb  United Kingdom  High income  Europe & Central Asia   \n",
            "1983           gb  United Kingdom  High income  Europe & Central Asia   \n",
            "1984           gb  United Kingdom  High income  Europe & Central Asia   \n",
            "1988           gb  United Kingdom  High income  Europe & Central Asia   \n",
            "2019           gb  United Kingdom  High income  Europe & Central Asia   \n",
            "2022           gb  United Kingdom  High income  Europe & Central Asia   \n",
            "2040           gb  United Kingdom  High income  Europe & Central Asia   \n",
            "2045           gb  United Kingdom  High income  Europe & Central Asia   \n",
            "2049           gb  United Kingdom  High income  Europe & Central Asia   \n",
            "2053           gb  United Kingdom  High income  Europe & Central Asia   \n",
            "2054           gb  United Kingdom  High income  Europe & Central Asia   \n",
            "2064           gb  United Kingdom  High income  Europe & Central Asia   \n",
            "2065           gb  United Kingdom  High income  Europe & Central Asia   \n",
            "2066           gb  United Kingdom  High income  Europe & Central Asia   \n",
            "2072           gb  United Kingdom  High income  Europe & Central Asia   \n",
            "2075           gb  United Kingdom  High income  Europe & Central Asia   \n",
            "2077           gb  United Kingdom  High income  Europe & Central Asia   \n",
            "2088           gb  United Kingdom  High income  Europe & Central Asia   \n",
            "2099           gb  United Kingdom  High income  Europe & Central Asia   \n",
            "2100           gb  United Kingdom  High income  Europe & Central Asia   \n",
            "2104           gb  United Kingdom  High income  Europe & Central Asia   \n",
            "\n",
            "     isic_section_index                                 isic_section_name  \\\n",
            "1981                  M  Professional scientific and technical activities   \n",
            "1982                  M  Professional scientific and technical activities   \n",
            "1983                  M  Professional scientific and technical activities   \n",
            "1984                  M  Professional scientific and technical activities   \n",
            "1988                  M  Professional scientific and technical activities   \n",
            "2019                  M  Professional scientific and technical activities   \n",
            "2022                  M  Professional scientific and technical activities   \n",
            "2040                  M  Professional scientific and technical activities   \n",
            "2045                  M  Professional scientific and technical activities   \n",
            "2049                  M  Professional scientific and technical activities   \n",
            "2053                  M  Professional scientific and technical activities   \n",
            "2054                  M  Professional scientific and technical activities   \n",
            "2064                  M  Professional scientific and technical activities   \n",
            "2065                  M  Professional scientific and technical activities   \n",
            "2066                  M  Professional scientific and technical activities   \n",
            "2072                  M  Professional scientific and technical activities   \n",
            "2075                  M  Professional scientific and technical activities   \n",
            "2077                  M  Professional scientific and technical activities   \n",
            "2088                  M  Professional scientific and technical activities   \n",
            "2099                  M  Professional scientific and technical activities   \n",
            "2100                  M  Professional scientific and technical activities   \n",
            "2104                  M  Professional scientific and technical activities   \n",
            "\n",
            "      industry_id                         industry_name  net_per_10K_2015  \\\n",
            "1981            9                          Law Practice             39.32   \n",
            "1982           10                        Legal Services             26.79   \n",
            "1983           11                 Management Consulting            150.48   \n",
            "1984           12                         Biotechnology            150.24   \n",
            "1988           16                            Veterinary            105.47   \n",
            "2019           47                            Accounting             69.26   \n",
            "2022           50               Architecture & Planning            243.07   \n",
            "2040           70                              Research            122.52   \n",
            "2045           76                      Executive Office             16.66   \n",
            "2049           80               Marketing & Advertising             92.95   \n",
            "2053           84                  Information Services            107.67   \n",
            "2054           86                Environmental Services             56.75   \n",
            "2064           97                       Market Research            115.36   \n",
            "2065           98     Public Relations & Communications             51.64   \n",
            "2066           99                                Design            112.30   \n",
            "2072          105      Professional Training & Coaching             40.40   \n",
            "2075          108            Translation & Localization             84.33   \n",
            "2077          110                       Events Services             60.85   \n",
            "2088          123                Outsourcing/Offshoring             23.16   \n",
            "2099          135  Mechanical or Industrial Engineering             41.45   \n",
            "2100          136                           Photography              6.29   \n",
            "2104          140                        Graphic Design             35.68   \n",
            "\n",
            "      net_per_10K_2016  net_per_10K_2017  net_per_10K_2018  net_per_10K_2019  \n",
            "1981             15.05              7.03             10.21              7.10  \n",
            "1982             32.73             15.80             28.46              3.47  \n",
            "1983             98.48             58.23             44.55             12.46  \n",
            "1984            142.46            107.24             84.05             26.84  \n",
            "1988            189.89            131.01            153.10             97.59  \n",
            "2019             54.42             27.39             37.10             56.06  \n",
            "2022            139.42             63.64             49.00              7.21  \n",
            "2040             95.97             79.46            102.54             89.10  \n",
            "2045              2.42             44.05              7.24             19.45  \n",
            "2049             55.19             24.50             38.53             24.59  \n",
            "2053             75.13             60.80             48.34             19.40  \n",
            "2054             38.79             40.92             20.76              7.79  \n",
            "2064             83.77             53.37             44.99              7.48  \n",
            "2065             -9.78             26.65             17.86             -5.97  \n",
            "2066             58.36             46.01             28.47              7.25  \n",
            "2072             45.34             33.70             36.20             21.89  \n",
            "2075            126.10             13.38             84.89             50.55  \n",
            "2077             29.60             46.69             72.86             48.71  \n",
            "2088             41.28             19.36             38.21             59.98  \n",
            "2099             34.37              4.26              7.88              0.69  \n",
            "2100             31.67              2.03             10.85             12.77  \n",
            "2104             41.76             -3.76            -29.50             -5.32  \n",
            "Test failed!\n",
            "Expected: 47.28\n",
            "Actual: 79.67\n"
          ]
        }
      ]
    },
    {
      "cell_type": "markdown",
      "source": [
        "Exercise 10\n",
        "\n",
        "Write a function that will take the country_migration dataframe and a base region as paramters and will:\n",
        "\n",
        "filter for all migrations to Upper Middle Income and High Income regions (target_country_wb_income) from the given region (base_country_wb_region)"
      ],
      "metadata": {
        "id": "uCZfiIMHjmws"
      }
    },
    {
      "cell_type": "markdown",
      "source": [
        "Напишите функцию, которая будет принимать фрейм данных Country_migration и базовый регион в качестве параметров и будет:\n",
        "\n",
        "фильтр для всех миграций в регионы с доходом выше среднего и высоким уровнем дохода (target_country_wb_income) из данного региона (base_country_wb_region)"
      ],
      "metadata": {
        "id": "qpKABJRLCRcK"
      }
    },
    {
      "cell_type": "code",
      "source": [
        "import pandas as pd\n",
        "country_migration = pd.read_excel('https://github.com/futureCodersSE/working-with-data/blob/main/Data%20sets/public_use-talent-migration.xlsx?raw=true', \"Country Migration\")\n",
        "def filter_migrations(df, region):\n",
        "    print(\"Уникальные значения региона в DataFrame:\\n\", df['base_country_wb_region'].unique())\n",
        "    print(\"Уникальные значения дохода в DataFrame:\\n\", df['target_country_wb_income'].unique())\n",
        "    filtered_df = df[(df['base_country_wb_region'] == region) &\n",
        "                     (df['target_country_wb_income'].isin(['Upper middle income', 'High income']))]\n",
        "    print(\"Отфильтрованные данные:\\n\", filtered_df)\n",
        "    print(\"THERE ARE NOT Unique countries in filtered data:\\n\", filtered_df['target_country_name'].unique())\n",
        "    return filtered_df\n",
        "\n",
        "  # run test to see if you are getting the correct result\n",
        "actual = len(filter_migrations(country_migration, \"Middle East & North Africa\"))\n",
        "expected = 432\n",
        "if actual == expected:\n",
        "  print(\"Test passed!\\nExpected: {}\\nActual: {}\".format(expected, actual))\n",
        "else:\n",
        "      print(\"Test failed!\\nExpected: {}\\nActual: {}\".format(expected, actual))"
      ],
      "metadata": {
        "id": "beh-4yO-jrEz",
        "colab": {
          "base_uri": "https://localhost:8080/"
        },
        "outputId": "96aef26f-3742-4a21-83df-a3246f28a1b0"
      },
      "execution_count": 27,
      "outputs": [
        {
          "output_type": "stream",
          "name": "stdout",
          "text": [
            "Уникальные значения региона в DataFrame:\n",
            " ['Middle East & North Africa' 'South Asia' 'Europe & Central Asia'\n",
            " 'Sub-Saharan Africa' 'Latin America & Caribbean' 'East Asia & Pacific'\n",
            " 'North America']\n",
            "Уникальные значения дохода в DataFrame:\n",
            " ['Low Income' 'Upper Middle Income' 'Lower Middle Income' 'High Income']\n",
            "Отфильтрованные данные:\n",
            " Empty DataFrame\n",
            "Columns: [base_country_code, base_country_name, base_lat, base_long, base_country_wb_income, base_country_wb_region, target_country_code, target_country_name, target_lat, target_long, target_country_wb_income, target_country_wb_region, net_per_10K_2015, net_per_10K_2016, net_per_10K_2017, net_per_10K_2018, net_per_10K_2019]\n",
            "Index: []\n",
            "THERE ARE NOT Unique countries in filtered data:\n",
            " []\n",
            "Test failed!\n",
            "Expected: 432\n",
            "Actual: 0\n"
          ]
        }
      ]
    },
    {
      "cell_type": "code",
      "source": [],
      "metadata": {
        "id": "ywLtXjM1kAAQ"
      },
      "execution_count": null,
      "outputs": []
    }
  ]
}