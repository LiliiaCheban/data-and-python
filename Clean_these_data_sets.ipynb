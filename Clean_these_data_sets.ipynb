{
  "nbformat": 4,
  "nbformat_minor": 0,
  "metadata": {
    "colab": {
      "provenance": [],
      "authorship_tag": "ABX9TyOy0Zv9enSgkX4nJmfKnNgj",
      "include_colab_link": true
    },
    "kernelspec": {
      "name": "python3",
      "display_name": "Python 3"
    },
    "language_info": {
      "name": "python"
    }
  },
  "cells": [
    {
      "cell_type": "markdown",
      "metadata": {
        "id": "view-in-github",
        "colab_type": "text"
      },
      "source": [
        "<a href=\"https://colab.research.google.com/github/LiliiaCheban/data-and-python/blob/main/Clean_these_data_sets.ipynb\" target=\"_parent\"><img src=\"https://colab.research.google.com/assets/colab-badge.svg\" alt=\"Open In Colab\"/></a>"
      ]
    },
    {
      "cell_type": "markdown",
      "source": [
        "Data set 1 - Calorie burning"
      ],
      "metadata": {
        "id": "Q3rWwengtRFl"
      }
    },
    {
      "cell_type": "markdown",
      "source": [
        "unfortunately, the url address is not written completely"
      ],
      "metadata": {
        "id": "cvJpb8BtvAoF"
      }
    },
    {
      "cell_type": "markdown",
      "source": [],
      "metadata": {
        "id": "dgX_oOyUusMc"
      }
    },
    {
      "cell_type": "code",
      "source": [
        "import pandas as pd\n",
        "url = \"https://raw.githubusercontent.com/futureCodersSE/working-with-data/main/Data%20sets/Data%20Cleaning%2"
      ],
      "metadata": {
        "id": "XOeH6Gcetjv7"
      },
      "execution_count": null,
      "outputs": []
    }
  ]
}