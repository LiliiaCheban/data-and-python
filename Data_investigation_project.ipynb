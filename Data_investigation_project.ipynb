{
  "nbformat": 4,
  "nbformat_minor": 0,
  "metadata": {
    "colab": {
      "provenance": [],
      "authorship_tag": "ABX9TyNJspTHyQsLArb+/Oax6sWI",
      "include_colab_link": true
    },
    "kernelspec": {
      "name": "python3",
      "display_name": "Python 3"
    },
    "language_info": {
      "name": "python"
    }
  },
  "cells": [
    {
      "cell_type": "markdown",
      "metadata": {
        "id": "view-in-github",
        "colab_type": "text"
      },
      "source": [
        "<a href=\"https://colab.research.google.com/github/LiliiaCheban/data-and-python/blob/main/Data_investigation_project.ipynb\" target=\"_parent\"><img src=\"https://colab.research.google.com/assets/colab-badge.svg\" alt=\"Open In Colab\"/></a>"
      ]
    },
    {
      "cell_type": "markdown",
      "source": [
        "Use what you have learnt so far about reading data files and displaying rows, columns, unique values, etc, to investigate and produce some printed information from this data set: https://raw.githubusercontent.com/futureCodersSE/working-with-data/main/Data%20sets/housing_in_london_yearly_variables.csv"
      ],
      "metadata": {
        "id": "XaVt1AermCOc"
      }
    },
    {
      "cell_type": "code",
      "execution_count": 12,
      "metadata": {
        "id": "u5ikqEr0l_kd",
        "colab": {
          "base_uri": "https://localhost:8080/"
        },
        "outputId": "cc59f9b4-e1d1-4908-cd74-c924ec14e4e3"
      },
      "outputs": [
        {
          "output_type": "stream",
          "name": "stdout",
          "text": [
            "size_file (1071, 12)\n",
            "first row         code            area        date  median_salary  life_satisfaction  \\\n",
            "0  E09000001  city of london  1999-12-01        33020.0                NaN   \n",
            "\n",
            "  mean_salary recycling_pct  population_size  number_of_jobs  area_size  \\\n",
            "0       48922             0           6581.0             NaN        NaN   \n",
            "\n",
            "   no_of_houses  borough_flag  \n",
            "0           NaN             1  \n",
            "2 first rows of colomn area 0          city of london\n",
            "1    barking and dagenham\n",
            "Name: area, dtype: object\n",
            "unique name area ['city of london' 'barking and dagenham' 'barnet' 'bexley' 'brent'\n",
            " 'bromley' 'camden' 'croydon' 'ealing' 'enfield' 'greenwich' 'hackney'\n",
            " 'hammersmith and fulham' 'haringey' 'harrow' 'havering' 'hillingdon'\n",
            " 'hounslow' 'islington' 'kensington and chelsea' 'kingston upon thames'\n",
            " 'lambeth' 'lewisham' 'merton' 'newham' 'redbridge' 'richmond upon thames'\n",
            " 'southwark' 'sutton' 'tower hamlets' 'waltham forest' 'wandsworth'\n",
            " 'westminster' 'north east' 'north west' 'yorkshire and the humber'\n",
            " 'east midlands' 'west midlands' 'east' 'london' 'south east' 'south west'\n",
            " 'inner london' 'outer london' 'england' 'united kingdom' 'great britain'\n",
            " 'england and wales' 'northern ireland' 'scotland' 'wales']\n"
          ]
        }
      ],
      "source": [
        "import pandas as pd\n",
        "url = 'https://raw.githubusercontent.com/futureCodersSE/working-with-data/main/Data%20sets/housing_in_london_yearly_variables.csv'\n",
        "df = pd.read_csv(url)\n",
        "df\n",
        "sh=df.shape\n",
        "print('size_file',sh)\n",
        "a=df.head(1)\n",
        "print('first row',a)\n",
        "b=df['area'].iloc[0:2]\n",
        "print('2 first rows of colomn area', b )\n",
        "c=df['area'].unique()\n",
        "print('unique name area', c)\n",
        "\n",
        "\n"
      ]
    }
  ]
}