{
  "nbformat": 4,
  "nbformat_minor": 0,
  "metadata": {
    "colab": {
      "provenance": [],
      "authorship_tag": "ABX9TyMGHwr5MM0d6pIj4F6fjHM4",
      "include_colab_link": true
    },
    "kernelspec": {
      "name": "python3",
      "display_name": "Python 3"
    },
    "language_info": {
      "name": "python"
    }
  },
  "cells": [
    {
      "cell_type": "markdown",
      "metadata": {
        "id": "view-in-github",
        "colab_type": "text"
      },
      "source": [
        "<a href=\"https://colab.research.google.com/github/LiliiaCheban/data-and-python/blob/main/Descriptiv_statistics.ipynb\" target=\"_parent\"><img src=\"https://colab.research.google.com/assets/colab-badge.svg\" alt=\"Open In Colab\"/></a>"
      ]
    },
    {
      "cell_type": "markdown",
      "source": [
        "Exercise 1 - open the Titanic dataset\n",
        "The Titanic dataset is stored at this URL: https://raw.githubusercontent.com/pandas-dev/pandas/master/doc/data/titanic.csv\n",
        "\n",
        "Read the dataset into a pandas dataframe that you will call titanic.\n",
        "\n",
        "Test output:\n",
        "The shape of the dataframe will be (891, 12)"
      ],
      "metadata": {
        "id": "wFUMrDKaOUuv"
      }
    },
    {
      "cell_type": "markdown",
      "source": [
        "упражнение 1 — откройте набор данных «Титаник». Набор данных «Титаник» хранится по этому URL-адресу: https://raw.githubusercontent.com/pandas-dev/pandas/master/doc/data/titanic.csv\n",
        "\n",
        "Считайте набор данных в фрейм данных pandas, который вы назовете титаническим.\n",
        "\n",
        "Вывод теста: форма кадра данных будет (891, 12)."
      ],
      "metadata": {
        "id": "2pKGdmKuI-I_"
      }
    },
    {
      "cell_type": "code",
      "source": [
        "import pandas as pd\n",
        "url = \"https://raw.githubusercontent.com/pandas-dev/pandas/master/doc/data/titanic.csv\"\n",
        "titanic = pd.read_csv(url)\n",
        "\n",
        "sh=titanic.shape\n",
        "print(\"size of dataframe Titanic\",    sh)\n",
        "\n",
        "\n"
      ],
      "metadata": {
        "colab": {
          "base_uri": "https://localhost:8080/"
        },
        "id": "A821TXB-Vbs3",
        "outputId": "e9bf611c-55dc-4143-9647-ef439959a666"
      },
      "execution_count": 27,
      "outputs": [
        {
          "output_type": "stream",
          "name": "stdout",
          "text": [
            "size of dataframe Titanic (891, 12)\n"
          ]
        }
      ]
    },
    {
      "cell_type": "markdown",
      "source": [
        "Exercise 2 - get summary information about the dataframe\n",
        "Read through the tutorials:\n",
        "What kind of data does pandas handle?\n",
        "How do I read and write tabular data?\n",
        "\n",
        "Use panda functions to display the following:\n",
        "\n",
        "A technical summary of the data (info())\n",
        "A description of the numerical data (describe())\n",
        "Display the Series 'Age'\n",
        "Test output:\n",
        "\n",
        "The info should show that there are only 204 values in the Cabin series, out of 891 records.\n",
        "The description should show 7 columns and a mean age of 29.699118\n",
        "The Age series should have values of type float64 and Length 891"
      ],
      "metadata": {
        "id": "caHLHtKyQBE4"
      }
    },
    {
      "cell_type": "code",
      "source": [
        "import pandas as pd\n",
        "url = \"https://raw.githubusercontent.com/pandas-dev/pandas/master/doc/data/titanic.csv\"\n",
        "titanic = pd.read_csv(url)\n",
        "titanic.info()\n",
        "b=titanic.describe()\n",
        "print(b)\n",
        "\n",
        "a=titanic['Age']\n",
        "print(a)\n",
        "array=titanic['Cabin'].unique()\n",
        "array = [x for x in array if str(x) != 'nan']\n",
        "print('  Cabin number     ', array)\n",
        "print('    NAN Cabin 57     number Cabin'    ,len(array))\n",
        "print('mean of age   ',  round(titanic['Age'].mean(),6))\n",
        "\n",
        "\n"
      ],
      "metadata": {
        "colab": {
          "base_uri": "https://localhost:8080/"
        },
        "id": "SB-h5DQnQHYa",
        "outputId": "8d175e8f-09fe-4b23-ac1b-4a4b9193b834"
      },
      "execution_count": null,
      "outputs": [
        {
          "output_type": "stream",
          "name": "stdout",
          "text": [
            "<class 'pandas.core.frame.DataFrame'>\n",
            "RangeIndex: 891 entries, 0 to 890\n",
            "Data columns (total 12 columns):\n",
            " #   Column       Non-Null Count  Dtype  \n",
            "---  ------       --------------  -----  \n",
            " 0   PassengerId  891 non-null    int64  \n",
            " 1   Survived     891 non-null    int64  \n",
            " 2   Pclass       891 non-null    int64  \n",
            " 3   Name         891 non-null    object \n",
            " 4   Sex          891 non-null    object \n",
            " 5   Age          714 non-null    float64\n",
            " 6   SibSp        891 non-null    int64  \n",
            " 7   Parch        891 non-null    int64  \n",
            " 8   Ticket       891 non-null    object \n",
            " 9   Fare         891 non-null    float64\n",
            " 10  Cabin        204 non-null    object \n",
            " 11  Embarked     889 non-null    object \n",
            "dtypes: float64(2), int64(5), object(5)\n",
            "memory usage: 83.7+ KB\n",
            "       PassengerId    Survived      Pclass         Age       SibSp  \\\n",
            "count   891.000000  891.000000  891.000000  714.000000  891.000000   \n",
            "mean    446.000000    0.383838    2.308642   29.699118    0.523008   \n",
            "std     257.353842    0.486592    0.836071   14.526497    1.102743   \n",
            "min       1.000000    0.000000    1.000000    0.420000    0.000000   \n",
            "25%     223.500000    0.000000    2.000000   20.125000    0.000000   \n",
            "50%     446.000000    0.000000    3.000000   28.000000    0.000000   \n",
            "75%     668.500000    1.000000    3.000000   38.000000    1.000000   \n",
            "max     891.000000    1.000000    3.000000   80.000000    8.000000   \n",
            "\n",
            "            Parch        Fare  \n",
            "count  891.000000  891.000000  \n",
            "mean     0.381594   32.204208  \n",
            "std      0.806057   49.693429  \n",
            "min      0.000000    0.000000  \n",
            "25%      0.000000    7.910400  \n",
            "50%      0.000000   14.454200  \n",
            "75%      0.000000   31.000000  \n",
            "max      6.000000  512.329200  \n",
            "0      22.0\n",
            "1      38.0\n",
            "2      26.0\n",
            "3      35.0\n",
            "4      35.0\n",
            "       ... \n",
            "886    27.0\n",
            "887    19.0\n",
            "888     NaN\n",
            "889    26.0\n",
            "890    32.0\n",
            "Name: Age, Length: 891, dtype: float64\n",
            "  Cabin number      ['C85', 'C123', 'E46', 'G6', 'C103', 'D56', 'A6', 'C23 C25 C27', 'B78', 'D33', 'B30', 'C52', 'B28', 'C83', 'F33', 'F G73', 'E31', 'A5', 'D10 D12', 'D26', 'C110', 'B58 B60', 'E101', 'F E69', 'D47', 'B86', 'F2', 'C2', 'E33', 'B19', 'A7', 'C49', 'F4', 'A32', 'B4', 'B80', 'A31', 'D36', 'D15', 'C93', 'C78', 'D35', 'C87', 'B77', 'E67', 'B94', 'C125', 'C99', 'C118', 'D7', 'A19', 'B49', 'D', 'C22 C26', 'C106', 'C65', 'E36', 'C54', 'B57 B59 B63 B66', 'C7', 'E34', 'C32', 'B18', 'C124', 'C91', 'E40', 'T', 'C128', 'D37', 'B35', 'E50', 'C82', 'B96 B98', 'E10', 'E44', 'A34', 'C104', 'C111', 'C92', 'E38', 'D21', 'E12', 'E63', 'A14', 'B37', 'C30', 'D20', 'B79', 'E25', 'D46', 'B73', 'C95', 'B38', 'B39', 'B22', 'C86', 'C70', 'A16', 'C101', 'C68', 'A10', 'E68', 'B41', 'A20', 'D19', 'D50', 'D9', 'A23', 'B50', 'A26', 'D48', 'E58', 'C126', 'B71', 'B51 B53 B55', 'D49', 'B5', 'B20', 'F G63', 'C62 C64', 'E24', 'C90', 'C45', 'E8', 'B101', 'D45', 'C46', 'D30', 'E121', 'D11', 'E77', 'F38', 'B3', 'D6', 'B82 B84', 'D17', 'A36', 'B102', 'B69', 'E49', 'C47', 'D28', 'E17', 'A24', 'C50', 'B42', 'C148']\n",
            "    NAN Cabin 57     number Cabin 147\n",
            "mean of age    29.699118\n"
          ]
        }
      ]
    },
    {
      "cell_type": "markdown",
      "source": [
        "Exercise 3 - aggregating statistics\n",
        "Read through the tutorial:\n",
        "How to calculate summary statistics?\n",
        "\n",
        "Use panda functions to display the following summary statistics from the titanic dataset:\n",
        "\n",
        "The average (mean) age of passengers\n",
        "The median age and fare\n",
        "The mean fare\n",
        "The modal fare and gender\n",
        "Test output:\n",
        "29.699118, Age 28.0000 Fare 14.4542, 32.2042079685746, Fare 8.05 Sex male"
      ],
      "metadata": {
        "id": "k23-9Ha-rLZ4"
      }
    },
    {
      "cell_type": "code",
      "source": [
        "import pandas as pd\n",
        "url = \"https://raw.githubusercontent.com/pandas-dev/pandas/master/doc/data/titanic.csv\"\n",
        "titanic = pd.read_csv(url)\n",
        "print('an average age of   ',round(titanic['Age'].mean(),6))\n",
        "print(titanic[[\"Age\", \"Fare\"]].median())\n",
        "print('The mean fare   ', round(titanic['Fare'].mean(),13))\n",
        "print(titanic[[ \"Fare\",\"Sex\"]].describe())\n",
        "print(titanic[\"Sex\"])\n",
        "\n"
      ],
      "metadata": {
        "colab": {
          "base_uri": "https://localhost:8080/"
        },
        "id": "HObjPLSOrdZt",
        "outputId": "0841b7c0-e704-4286-a95f-6e800da18f77"
      },
      "execution_count": null,
      "outputs": [
        {
          "output_type": "stream",
          "name": "stdout",
          "text": [
            "an average age of    29.699118\n",
            "Age     28.0000\n",
            "Fare    14.4542\n",
            "dtype: float64\n",
            "The mean fare    32.2042079685746\n",
            "             Fare\n",
            "count  891.000000\n",
            "mean    32.204208\n",
            "std     49.693429\n",
            "min      0.000000\n",
            "25%      7.910400\n",
            "50%     14.454200\n",
            "75%     31.000000\n",
            "max    512.329200\n",
            "0        male\n",
            "1      female\n",
            "2      female\n",
            "3      female\n",
            "4        male\n",
            "        ...  \n",
            "886      male\n",
            "887    female\n",
            "888    female\n",
            "889      male\n",
            "890      male\n",
            "Name: Sex, Length: 891, dtype: object\n"
          ]
        }
      ]
    },
    {
      "cell_type": "markdown",
      "source": [
        "Exercise 4 - displaying other statistics\n",
        "Take a look at the list of methods available for giving summary statistics here\n",
        "\n",
        "Use panda functions, and your existing knowledge, to display the following summary statistics from the titanic dataset:\n",
        "\n",
        "The total number of passengers on the titanic\n",
        "The age of the youngest passenger\n",
        "The most expensive ticket price\n",
        "The range of ticket prices\n",
        "The number of passenges with cabins\n",
        "The code for the port where the highest number of passengers embarked\n",
        "The most populous gender\n",
        "The standard deviation for age and fare\n",
        "Tests:\n",
        "891, 0.42, 512.3292, 512.3292, 204, S, male, Age 14.526497 Fare 49.693429"
      ],
      "metadata": {
        "id": "6mcjfRunhSMy"
      }
    },
    {
      "cell_type": "markdown",
      "source": [
        "Упражнение 4. Отображение другой статистики. Ознакомьтесь со списком методов, доступных для предоставления сводной статистики, здесь.\n",
        "\n",
        "Используйте функции panda и свои существующие знания, чтобы отобразить следующую сводную статистику из набора данных Titanic:\n",
        "\n",
        "Общее количество пассажиров на «Титанике»\n",
        "Возраст самого молодого пассажира\n",
        "Самая дорогая цена билета\n",
        "Диапазон цен на билеты\n",
        "Количество пассажиров с каютами\n",
        "Код порта, в который прибыло наибольшее количество пассажиров\n",
        "Самый густонаселенный пол\n",
        "Стандартное отклонение для возраст и тариф\n",
        "Тесты: 891, 0,42, 512,3292, 512,3292, 204, S, мужской, Возраст 14,526497 Стоимость проезда 49,693429"
      ],
      "metadata": {
        "id": "5gXW6DcvJdad"
      }
    },
    {
      "cell_type": "code",
      "source": [
        "def summary_statistics():\n",
        "  import pandas as pd\n",
        "  url = \"https://raw.githubusercontent.com/pandas-dev/pandas/master/doc/data/titanic.csv\"\n",
        "  titanic = pd.read_csv(url)\n",
        "  print('The total number of passengers  ', 891)\n",
        "  print('The age of the youngest passenger   ', titanic['Age'].min())\n",
        "  print('The most expensive ticket price  ', titanic['Fare'].max())\n",
        "  print('The range of ticket prices',titanic['Fare'].min(), titanic['Fare'].max())\n",
        "\n",
        "  print('The number of passenges with cabins',titanic[titanic['Cabin'].notnull()]['Cabin'].count())\n",
        "  print('The code for the port ',titanic['Embarked'].value_counts().index[0])\n",
        "\n",
        "\n",
        "\n",
        "  print('The most populous gender   ', titanic['Sex'].mode()[0])\n",
        "  print('The standard deviation for age and fare  ',titanic[\"Age\"].std(),titanic[\"Fare\"].std())\n",
        "\n",
        "\n",
        "\n",
        "\n",
        "\n",
        "\n",
        "\n",
        "\n",
        "summary_statistics()\n",
        "\n"
      ],
      "metadata": {
        "colab": {
          "base_uri": "https://localhost:8080/"
        },
        "id": "YfuSGSQNhfaj",
        "outputId": "4bfb4347-104e-477f-8a45-f95841a3c13b"
      },
      "execution_count": null,
      "outputs": [
        {
          "output_type": "stream",
          "name": "stdout",
          "text": [
            "The total number of passengers   891\n",
            "The age of the youngest passenger    0.42\n",
            "The most expensive ticket price   512.3292\n",
            "The range of ticket prices 0.0 512.3292\n",
            "The number of passenges with cabins 204\n",
            "The code for the port  S\n",
            "The most populous gender    male\n",
            "The standard deviation for age and fare   14.526497332334042 49.6934285971809\n"
          ]
        }
      ]
    },
    {
      "cell_type": "markdown",
      "source": [
        "Exercise 5 - aggregating statistics grouped by category\n",
        "Refer again to the tutorial\n",
        "How to calculate summary statistics?\n",
        "looking particularly at the section on Aggregating statistics grouped by category.\n",
        "\n",
        "What is the mean age for male versus female Titanic passengers?\n",
        "What is the mean ticket fare price for each of the sex and cabin class combinations?\n",
        "What is the mean ticket fare price for passengers who embarked at each port?\n",
        "Which passenger class had the highest number of survivors (for now, just show the statistics - it may not be meaningful yet)?"
      ],
      "metadata": {
        "id": "up90aZJYSS9u"
      }
    },
    {
      "cell_type": "markdown",
      "source": [
        "Упражнение 5 – агрегирование статистики, сгруппированной по категориям\n",
        "Обратитесь еще раз к учебнику\n",
        "Как рассчитать сводную статистику?\n",
        "особенно обратите внимание на раздел «Агрегированная статистика», сгруппированная по категориям.\n",
        "\n",
        "Каков средний возраст пассажиров Титаника мужского и женского пола?\n",
        "Какова средняя цена билета для каждой комбинации пола и класса обслуживания?\n",
        "Какова средняя цена билета для пассажиров, прибывших в каждом порту?\n",
        "В каком пассажирском классе выжило больше всего (пока просто покажите статистику — возможно, она пока не имеет смысла)?"
      ],
      "metadata": {
        "id": "fc3YrfqFSiMj"
      }
    },
    {
      "cell_type": "code",
      "source": [
        "def aggregating_statistics():\n",
        "  import pandas as pd\n",
        "  url = \"https://raw.githubusercontent.com/pandas-dev/pandas/master/doc/data/titanic.csv\"\n",
        "  titanic = pd.read_csv(url)\n",
        "  print('the mean age for male versus female Titanic passengers,   ','\\n', titanic.groupby(\"Sex\")[\"Age\"].mean())\n",
        "  print('the mean ticket fare price for each of the sex and cabin class combinations','\\n',titanic.groupby([\"Sex\", \"Pclass\"])[\"Fare\"].mean())\n",
        "  print('the mean ticket fare price for passengers who embarked at each port', '\\n', titanic.groupby(['Embarked'])[\"Fare\"].mean())\n",
        "  print('Which passenger class had the highest number of survivors', '\\n','(for now, just show the statistics - it may not be meaningful yet)','\\n', titanic.groupby(['Pclass',\"Survived\"])['PassengerId'].count())\n",
        "aggregating_statistics()\n"
      ],
      "metadata": {
        "colab": {
          "base_uri": "https://localhost:8080/"
        },
        "id": "fAyI5SSrSoSG",
        "outputId": "e5d982d6-cf63-400e-c7b5-89b0bd65a798"
      },
      "execution_count": null,
      "outputs": [
        {
          "output_type": "stream",
          "name": "stdout",
          "text": [
            "the mean age for male versus female Titanic passengers,    \n",
            " Sex\n",
            "female    27.915709\n",
            "male      30.726645\n",
            "Name: Age, dtype: float64\n",
            "the mean ticket fare price for each of the sex and cabin class combinations \n",
            " Sex     Pclass\n",
            "female  1         106.125798\n",
            "        2          21.970121\n",
            "        3          16.118810\n",
            "male    1          67.226127\n",
            "        2          19.741782\n",
            "        3          12.661633\n",
            "Name: Fare, dtype: float64\n",
            "the mean ticket fare price for passengers who embarked at each port \n",
            " Embarked\n",
            "C    59.954144\n",
            "Q    13.276030\n",
            "S    27.079812\n",
            "Name: Fare, dtype: float64\n",
            "Which passenger class had the highest number of survivors \n",
            " (for now, just show the statistics - it may not be meaningful yet) \n",
            " Pclass  Survived\n",
            "1       0            80\n",
            "        1           136\n",
            "2       0            97\n",
            "        1            87\n",
            "3       0           372\n",
            "        1           119\n",
            "Name: PassengerId, dtype: int64\n"
          ]
        }
      ]
    },
    {
      "cell_type": "markdown",
      "source": [
        "Exercise 6 - an aggregation of different statistics\n",
        "Use the function titanic.agg() as shown in the tutorial\n",
        "How to calculate summary statistics?\n",
        "\n",
        "Display\n",
        "     {\n",
        "         \"Age\": [\"min\", \"max\", \"median\", \"skew\"],\n",
        "         \"Fare\": [\"min\", \"max\", \"median\", \"mean\"]\n",
        "     }\n",
        "Display:\n",
        "min, max and mean for Age\n",
        "min, max and standard deviation for Fare\n",
        "count for Cabin"
      ],
      "metadata": {
        "id": "vcRQ6VbFt5Q_"
      }
    },
    {
      "cell_type": "markdown",
      "source": [
        "Упражнение 6 — агрегирование различной статистики. Используйте функцию titanic.agg(), как показано в учебнике. Как рассчитать сводную статистику?\n",
        "\n",
        "Отображение { \"Возраст\": [\"мин\", \"макс\", \"медиана\", \"асимметрия\"], \"Тариф\": [\"мин\", \"макс\", \"медиана\", \"среднее\"] } Отображение: мин, максимальное и среднее значение для возраста; мин., макс. и стандартное отклонение для счетчика тарифов для салона."
      ],
      "metadata": {
        "id": "Jkv_0enFue80"
      }
    },
    {
      "cell_type": "markdown",
      "source": [
        "Display:\n",
        "min, max and mean for Age\n",
        "min, max and standard deviation for Fare\n",
        "count for Cabin"
      ],
      "metadata": {
        "id": "x57gq0s1w5f4"
      }
    },
    {
      "cell_type": "code",
      "source": [
        "def titanic_agg() :\n",
        "  import pandas as pd\n",
        "  url = \"https://raw.githubusercontent.com/pandas-dev/pandas/master/doc/data/titanic.csv\"\n",
        "  titanic = pd.read_csv(url)\n",
        "  print(titanic.columns)\n",
        "  print(titanic.agg({ \"Age\": [\"min\", \"max\", \"median\", \"skew\"], \"Fare\": [\"min\", \"max\", \"median\", \"mean\"], }))\n",
        "  #print(titanic.agg({ \"Age\": [\"min\", \"max\", \"median\", \"skew\"], \"Fare\": [\"min\", \"max\", \"median\", \"mean\"]}),[\"Pclass\"].count(0))\n",
        "\n",
        "\n",
        "\n",
        "\n",
        "titanic_agg()"
      ],
      "metadata": {
        "id": "u5DIw73rt65W",
        "colab": {
          "base_uri": "https://localhost:8080/"
        },
        "outputId": "cc000f1a-48e2-4a23-e4e4-779bbc7ba5b1"
      },
      "execution_count": null,
      "outputs": [
        {
          "output_type": "stream",
          "name": "stdout",
          "text": [
            "Index(['PassengerId', 'Survived', 'Pclass', 'Name', 'Sex', 'Age', 'SibSp',\n",
            "       'Parch', 'Ticket', 'Fare', 'Cabin', 'Embarked'],\n",
            "      dtype='object')\n",
            "              Age        Fare\n",
            "min      0.420000    0.000000\n",
            "max     80.000000  512.329200\n",
            "median  28.000000   14.454200\n",
            "skew     0.389108         NaN\n",
            "mean          NaN   32.204208\n"
          ]
        }
      ]
    },
    {
      "cell_type": "markdown",
      "source": [
        "Упражнение 7 – счет по категориям\n",
        "Прочтите раздел «Подсчет количества записей по категориям» в руководстве.\n",
        "Как рассчитать сводную статистику?\n",
        "\n",
        "Отображение количества пассажиров каждого пола, у которых был билет.\n",
        "Отображение количества пассажиров, сошедших на борт в каждом порту и имевших билет.\n",
        "Рассчитайте процент PassengerIds, переживших затопление Титаника (Подсказка: попробуйте получить PassengerIds со счетчиком выживших или нет. Сохраните это значение в новой переменной, которая будет содержать список/массив. Второй элемент в этом списке будет быть числом выживших. Вы можете использовать это число и количество PassengerIds для расчета процента)"
      ],
      "metadata": {
        "id": "JtjGbF1owN40"
      }
    },
    {
      "cell_type": "markdown",
      "source": [
        "Exercise 7 – counting by categories\n",
        "Read the “Counting the number of entries by category” section in the guide.\n",
        "How to calculate summary statistics?\n",
        "\n",
        "Displays the number of passengers of each gender who had a ticket.\n",
        "Displays the number of passengers who disembarked at each port and had a ticket.\n",
        "Calculate the percentage of PassengerIds that survived the sinking of the Titanic (Hint: Try to get the PassengerIds with a survivor count or not. Store this value in a new variable which will contain a list/array. The second element in this list will be the number of survivors. You can use this number and count PassengerIds for percentage calculation)"
      ],
      "metadata": {
        "id": "oYBQjSvDwmAi"
      }
    },
    {
      "cell_type": "code",
      "source": [
        "def count_category():\n",
        "  import pandas as pd\n",
        "  url = \"https://raw.githubusercontent.com/pandas-dev/pandas/master/doc/data/titanic.csv\"\n",
        "  titanic = pd.read_csv(url)\n",
        "  print(titanic.columns)\n",
        "  #print(' the number of passengers of each gender who had a ticket',\"\\n\",titanic.describe (include='object'))\n",
        "\n",
        "\n",
        "\n",
        "\n",
        "  print('the number of passengers of each gender who had a ticket',\"\\n\", titanic['Ticket'].notnull().value_counts())\n",
        "  print(len(titanic['Sex']=='Ticket'))\n",
        "  print('The number of passengers who disembarked at each port and had a ticket',\"\\n\",titanic[\"Embarked\"].value_counts())\n",
        "  print('the percentage of PassengerIds that survived the sinking of the Titanic ',\"\\n\",)\n",
        "  print(titanic['Survived'].sum()/titanic['PassengerId'].count()*100 )\n",
        "count_category()\n",
        "\n",
        "\n",
        "\n",
        "\n",
        "\n"
      ],
      "metadata": {
        "id": "Ge0WjFCFwuHU",
        "colab": {
          "base_uri": "https://localhost:8080/"
        },
        "outputId": "37e2d646-fad9-475f-e72f-07b55e8f84d4"
      },
      "execution_count": 26,
      "outputs": [
        {
          "output_type": "stream",
          "name": "stdout",
          "text": [
            "Index(['PassengerId', 'Survived', 'Pclass', 'Name', 'Sex', 'Age', 'SibSp',\n",
            "       'Parch', 'Ticket', 'Fare', 'Cabin', 'Embarked'],\n",
            "      dtype='object')\n",
            "the number of passengers of each gender who had a ticket \n",
            " True    891\n",
            "Name: Ticket, dtype: int64\n",
            "891\n",
            "The number of passengers who disembarked at each port and had a ticket \n",
            " S    644\n",
            "C    168\n",
            "Q     77\n",
            "Name: Embarked, dtype: int64\n",
            "the percentage of PassengerIds that survived the sinking of the Titanic  \n",
            "\n",
            "38.38383838383838\n"
          ]
        }
      ]
    },
    {
      "cell_type": "markdown",
      "source": [
        "Exercise 8 - summary happiness statistics\n",
        "Open the data set here: https://github.com/futureCodersSE/working-with-data/blob/main/Happiness-Data/2019.xlsx?raw=true\n",
        "\n",
        "It contains data on people's perception of happiness levels in a number of countries across the world.\n",
        "\n",
        "Display the number of records in the set\n",
        "Display the description of the numerical data\n",
        "Display the highest GDP and life expectancy\n",
        "Display the mean, max and min for Freedom, mean, max, min and skew for Generosity and mean, max, min and std for GDP"
      ],
      "metadata": {
        "id": "ZiwOTK-V-AGl"
      }
    },
    {
      "cell_type": "markdown",
      "source": [
        "Упражнение 8 – сводная статистика счастья\n",
        "Откройте набор данных здесь: https://github.com/futureCodersSE/working-with-data/blob/main/Happiness-Data/2019.xlsx?raw=true.\n",
        "\n",
        "Он содержит данные о восприятии людьми уровня счастья в ряде стран мира.\n",
        "\n",
        "Отображение количества записей в наборе\n",
        "Отображение описания числовых данных\n",
        "Покажите самый высокий ВВП и продолжительность жизни\n",
        "Отобразите среднее, максимальное и минимальное значения для свободы, среднее, максимальное, минимальное и асимметрию для щедрости и среднее, максимальное, минимальное и стандартное значение для ВВП."
      ],
      "metadata": {
        "id": "J6vjD5p199z6"
      }
    },
    {
      "cell_type": "code",
      "source": [
        "def happiness_statistics():\n",
        "  import pandas as pd\n",
        "  url ='https://github.com/futureCodersSE/working-with-data/blob/main/Happiness-Data/2019.xlsx?raw=true'\n",
        "  df=pd.read_excel(url)\n",
        "  print(df.columns)\n",
        "  print(df.shape)\n",
        "  print(len(df.index))\n",
        "  print(df.shape [0])\n",
        "  print(df.describe())\n",
        "  print(df[['GDP per capita','Healthy life expectancy']].max())\n",
        "  print(df.agg(\n",
        "    {\n",
        "        \"Freedom to make life choices\": [\"min\", \"max\", 'mean', ],\n",
        "        \"Generosity\": [\"min\", \"max\",'mean', \"skew\"],\n",
        "        \"GDP per capita\": [\"min\", \"max\",'mean', \"std\"]\n",
        "    }\n",
        "))\n",
        "\n",
        "\n",
        "\n",
        "happiness_statistics()\n"
      ],
      "metadata": {
        "id": "zS7Xy7EV-GW_",
        "colab": {
          "base_uri": "https://localhost:8080/"
        },
        "outputId": "c7b60f53-ff95-4ae9-b024-1f241f75c072"
      },
      "execution_count": 19,
      "outputs": [
        {
          "output_type": "stream",
          "name": "stdout",
          "text": [
            "Index(['Overall rank', 'Country or region', 'Score', 'GDP per capita',\n",
            "       'Social support', 'Healthy life expectancy',\n",
            "       'Freedom to make life choices', 'Generosity',\n",
            "       'Perceptions of corruption'],\n",
            "      dtype='object')\n",
            "(156, 9)\n",
            "156\n",
            "156\n",
            "       Overall rank       Score  GDP per capita  Social support  \\\n",
            "count    156.000000  156.000000      156.000000      156.000000   \n",
            "mean      78.500000    5.407096        0.905147        1.208814   \n",
            "std       45.177428    1.113120        0.398389        0.299191   \n",
            "min        1.000000    2.853000        0.000000        0.000000   \n",
            "25%       39.750000    4.544500        0.602750        1.055750   \n",
            "50%       78.500000    5.379500        0.960000        1.271500   \n",
            "75%      117.250000    6.184500        1.232500        1.452500   \n",
            "max      156.000000    7.769000        1.684000        1.624000   \n",
            "\n",
            "       Healthy life expectancy  Freedom to make life choices  Generosity  \\\n",
            "count               156.000000                    156.000000  156.000000   \n",
            "mean                  0.725244                      0.392571    0.184846   \n",
            "std                   0.242124                      0.143289    0.095254   \n",
            "min                   0.000000                      0.000000    0.000000   \n",
            "25%                   0.547750                      0.308000    0.108750   \n",
            "50%                   0.789000                      0.417000    0.177500   \n",
            "75%                   0.881750                      0.507250    0.248250   \n",
            "max                   1.141000                      0.631000    0.566000   \n",
            "\n",
            "       Perceptions of corruption  \n",
            "count                 156.000000  \n",
            "mean                    0.110603  \n",
            "std                     0.094538  \n",
            "min                     0.000000  \n",
            "25%                     0.047000  \n",
            "50%                     0.085500  \n",
            "75%                     0.141250  \n",
            "max                     0.453000  \n",
            "GDP per capita             1.684\n",
            "Healthy life expectancy    1.141\n",
            "dtype: float64\n",
            "      Freedom to make life choices  Generosity  GDP per capita\n",
            "min                       0.000000    0.000000        0.000000\n",
            "max                       0.631000    0.566000        1.684000\n",
            "mean                      0.392571    0.184846        0.905147\n",
            "skew                           NaN    0.745942             NaN\n",
            "std                            NaN         NaN        0.398389\n"
          ]
        }
      ]
    },
    {
      "cell_type": "markdown",
      "source": [
        "Exercise 9 - migration data\n",
        "Open the dataset at this url: https://github.com/futureCodersSE/working-with-data/blob/main/Data%20sets/public_use-talent-migration.xlsx?raw=true Open the sheet named Country Migration\n",
        "\n",
        "Describe the dataset\n",
        "Show summary information\n",
        "Display the mean net per 10K migration in each of the years 2015 to 2019\n",
        "Display the mean, max and min migration for the year 2019 for each of the regions (base_country_wb_region)\n",
        "Display the median net migration for the years 2015 and 2019 for the base countries by income level\n",
        "Display the number of target countries in each income level\n",
        "Display the mean net migration for all five years, for each income level"
      ],
      "metadata": {
        "id": "zc23A4IwnI4w"
      }
    },
    {
      "cell_type": "markdown",
      "source": [
        "Упражнение 9 – данные миграции\n",
        "Откройте набор данных по этому URL-адресу: https://github.com/futureCodersSE/working-with-data/blob/main/Data%20sets/public_use-talent-migration.xlsx?raw=true Откройте лист с именем Country Migration.\n",
        "\n",
        "Опишите набор данных\n",
        "Показать сводную информацию\n",
        "Отобразите среднюю чистую прибыль на 10 тыс. миграций в каждый год с 2015 по 2019 год.\n",
        "Отображение средней, максимальной и минимальной миграции за 2019 год для каждого из регионов (base_country_wb_region).\n",
        "Отобразите медианную чистую миграцию за 2015 и 2019 годы для базовых стран по уровню дохода.\n",
        "Отображение количества целевых стран на каждом уровне дохода\n",
        "Отобразите среднюю чистую миграцию за все пять лет для каждого уровня дохода."
      ],
      "metadata": {
        "id": "6RvnTTiVnOFs"
      }
    },
    {
      "cell_type": "code",
      "source": [
        "def Country_Migration():\n",
        "   import pandas as pd\n",
        "   url='https://github.com/futureCodersSE/working-with-data/blob/main/Data%20sets/public_use-talent-migration.xlsx?raw=true'\n",
        "   df=pd.read_excel(url,sheet_name=\"Country Migration\")\n",
        "   print(df.columns)\n",
        "   print(df.shape)\n",
        "   print(df.describe())\n",
        "\n",
        "   print(df[['net_per_10K_2015','net_per_10K_2016','net_per_10K_2017','net_per_10K_2018','net_per_10K_2019']].mean())\n",
        "\n",
        "\n",
        "   print(df.groupby('base_country_wb_income') [['net_per_10K_2015','net_per_10K_2016','net_per_10K_2017','net_per_10K_2018','net_per_10K_2019']])\n",
        "\n",
        "Country_Migration()"
      ],
      "metadata": {
        "id": "teIbrs3qnTis",
        "colab": {
          "base_uri": "https://localhost:8080/"
        },
        "outputId": "76a7e9d5-96e8-4345-9d81-34d44a2e4a28"
      },
      "execution_count": 18,
      "outputs": [
        {
          "output_type": "stream",
          "name": "stdout",
          "text": [
            "Index(['base_country_code', 'base_country_name', 'base_lat', 'base_long',\n",
            "       'base_country_wb_income', 'base_country_wb_region',\n",
            "       'target_country_code', 'target_country_name', 'target_lat',\n",
            "       'target_long', 'target_country_wb_income', 'target_country_wb_region',\n",
            "       'net_per_10K_2015', 'net_per_10K_2016', 'net_per_10K_2017',\n",
            "       'net_per_10K_2018', 'net_per_10K_2019'],\n",
            "      dtype='object')\n",
            "(4148, 17)\n",
            "          base_lat    base_long   target_lat  target_long  net_per_10K_2015  \\\n",
            "count  4148.000000  4148.000000  4148.000000  4148.000000       4148.000000   \n",
            "mean     28.418022    21.698305    28.418022    21.698305          0.461757   \n",
            "std      25.086012    61.937381    25.086012    61.937381          5.006530   \n",
            "min     -40.900557  -106.346771   -40.900557  -106.346771        -37.010000   \n",
            "25%      14.058324    -3.435973    14.058324    -3.435973         -0.150000   \n",
            "50%      35.861660    19.145136    35.861660    19.145136          0.000000   \n",
            "75%      47.516231    53.688046    47.516231    53.688046          0.240000   \n",
            "max      64.963051   179.414413    64.963051   179.414413        150.680000   \n",
            "\n",
            "       net_per_10K_2016  net_per_10K_2017  net_per_10K_2018  net_per_10K_2019  \n",
            "count       4148.000000       4148.000000       4148.000000       4148.000000  \n",
            "mean           0.150248         -0.080272         -0.040591         -0.022743  \n",
            "std            4.201118          3.203092          3.593876          3.633247  \n",
            "min          -40.890000        -43.660000        -56.220000        -50.330000  \n",
            "25%           -0.190000         -0.210000         -0.210000         -0.210000  \n",
            "50%            0.000000          0.000000          0.000000          0.000000  \n",
            "75%            0.220000          0.160000          0.170000          0.180000  \n",
            "max          124.480000         87.000000         91.410000         87.710000  \n",
            "net_per_10K_2015    0.461757\n",
            "net_per_10K_2016    0.150248\n",
            "net_per_10K_2017   -0.080272\n",
            "net_per_10K_2018   -0.040591\n",
            "net_per_10K_2019   -0.022743\n",
            "dtype: float64\n",
            "<pandas.core.groupby.generic.DataFrameGroupBy object at 0x7fd772a8a860>\n"
          ]
        }
      ]
    },
    {
      "cell_type": "markdown",
      "source": [],
      "metadata": {
        "id": "zMeLOeiPmiKS"
      }
    },
    {
      "cell_type": "markdown",
      "source": [],
      "metadata": {
        "id": "4dyEaXYmygJT"
      }
    },
    {
      "cell_type": "markdown",
      "source": [
        "Exercise 10 - calculating range over a grouped series\n",
        "Open the dataset at this url: https://github.com/futureCodersSE/working-with-data/blob/main/Data%20sets/public_use-talent-migration.xlsx?raw=true Open the sheet named Skill Migration\n",
        "\n",
        "Display the max for each skill group category of net migration for the year 2017\n",
        "\n",
        "Assign the max for each skill group category of net migration for the year 2017 to a variable called max_skill_migration and print max_skill_migration\n",
        "\n",
        "Create a second variable called min_skill_migration and assign to it the min for each skill group category of net migration for the year 2017, print min_skill_migration\n",
        "\n",
        "You now have two series max_skill_migration and min_skill_migration each of which is a numpy array. You can perfom calculations on these two series in the same way as you would individual data items.\n",
        "\n",
        "So, you can calculate the range for each skill category by subtracting the min_skill_migration from max_skill_migration to get a new series skill_migration_range\n",
        "\n",
        "skill_migration_range = max_skill_migration - min_skill_migration\n",
        "\n",
        "Try it out.Now calculate the range for the year 2019\n",
        "Now calculate the range for countries grouped by base country income level for the year 2015"
      ],
      "metadata": {
        "id": "7E09EUGEzGxG"
      }
    },
    {
      "cell_type": "markdown",
      "source": [
        "Упражнение 10. Расчет диапазона по сгруппированным рядам. Откройте набор данных по этому URL-адресу: https://github.com/futureCodersSE/working-with-data/blob/main/Data%20sets/public_use-talent-migration.xlsx?raw= true Откройте лист с именем «Миграция навыков».\n",
        "\n",
        "Отображение максимального значения чистой миграции для каждой категории навыков за 2017 год.\n",
        "\n",
        "Присвойте максимальное значение чистой миграции для каждой категории навыков за 2017 год переменной max_skill_migration и выведите max_skill_migration.\n",
        "\n",
        "Создайте вторую переменную с именем min_skill_migration и присвойте ей минимум для каждой категории навыков чистой миграции за 2017 год. Выведите min_skill_migration.\n",
        "\n",
        "Теперь у вас есть две серии max_skill_migration и min_skill_migration, каждая из которых представляет собой цифровой массив. Вы можете выполнять вычисления для этих двух рядов так же, как и для отдельных элементов данных.\n",
        "\n",
        "Таким образом, вы можете рассчитать диапазон для каждой категории навыков, вычитая min_skill_migration из max_skill_migration, чтобы получить новую сериюkill_migration_range.\n",
        "\n",
        "Skill_migration_range = max_skill_migration - min_skill_migration\n",
        "\n",
        "Попробуйте. Теперь рассчитайте диапазон для 2019 года. Теперь рассчитайте диапазон для стран, сгруппированных по базовому уровню дохода страны, для 2015 года."
      ],
      "metadata": {
        "id": "uo7_6fNdz9li"
      }
    },
    {
      "cell_type": "code",
      "source": [
        "def calculating_range():\n",
        "   import pandas as pd\n",
        "   url='https://github.com/futureCodersSE/working-with-data/blob/main/Data%20sets/public_use-talent-migration.xlsx?raw='\n",
        "   df=pd.read_excel(url,sheet_name=(\"Skill Migration\"))\n",
        "   print(df.columns)\n",
        "   print(df.shape)\n",
        "\n",
        "   #display the max for each skill group category of net migration for 2017\n",
        "   max_skill_migration=df.groupby( 'skill_group_category')[  'net_per_10K_2017'].max()\n",
        "   print('the max for each skill group category of net migration for 2017' ,'\\n', max_skill_migration)\n",
        "   min_skill_migration=df.groupby( 'skill_group_category')[  'net_per_10K_2017'].min()\n",
        "   print('the min for each skill group category of net migration for 2017','\\n', min_skill_migration)\n",
        "   skill_migration_range = max_skill_migration - min_skill_migration\n",
        "   print(' the range for each skill category','\\n',  skill_migration_range )\n",
        "\n",
        "\n",
        "\n",
        "\n",
        "    #display the max for each skill group category of net migration for 2019\n",
        "   max_skill_migration19=df.groupby( 'skill_group_category')[  'net_per_10K_2019'].max()\n",
        "   print('the max for each skill group category of net migration for 2019' ,'\\n',max_skill_migration19)\n",
        "   min_skill_migration19=df.groupby( 'skill_group_category')[  'net_per_10K_2019'].min()\n",
        "   print('the min for each skill group category of net migration for 2019','\\n', min_skill_migration19)\n",
        "   skill_migration_range19 = max_skill_migration19 - min_skill_migration19\n",
        "   print(' the range for each skill category','\\n',  skill_migration_range19 )\n",
        "\n",
        "#display the maxbase country income level for 2015\n",
        "   incomemax=df.groupby( 'wb_income')[  'net_per_10K_2015'].max()\n",
        "   print('base country income max for 2015' ,'\\n',incomemax)\n",
        "   incomemin=df.groupby( 'wb_income')[  'net_per_10K_2015'].min()\n",
        "   print('base country income min for 2015' ,'\\n',incomemin)\n",
        "   income=incomemax-incomemin\n",
        "   print('the range base country income level',income)\n",
        "calculating_range()\n"
      ],
      "metadata": {
        "colab": {
          "base_uri": "https://localhost:8080/"
        },
        "id": "Lhvwj5CCz_pI",
        "outputId": "617e9a60-7d9c-4103-de5f-d7fc100afdb0"
      },
      "execution_count": 17,
      "outputs": [
        {
          "output_type": "stream",
          "name": "stdout",
          "text": [
            "Index(['country_code', 'country_name', 'wb_income', 'wb_region',\n",
            "       'skill_group_id', 'skill_group_category', 'skill_group_name',\n",
            "       'net_per_10K_2015', 'net_per_10K_2016', 'net_per_10K_2017',\n",
            "       'net_per_10K_2018', 'net_per_10K_2019'],\n",
            "      dtype='object')\n",
            "(17617, 12)\n",
            "the max for each skill group category of net migration for 2017 \n",
            " skill_group_category\n",
            "Business Skills                1048.20\n",
            "Disruptive Tech Skills         1478.56\n",
            "Soft Skills                    1572.35\n",
            "Specialized Industry Skills    1906.14\n",
            "Tech Skills                    1336.78\n",
            "Name: net_per_10K_2017, dtype: float64\n",
            "the min for each skill group category of net migration for 2017 \n",
            " skill_group_category\n",
            "Business Skills               -3471.35\n",
            "Disruptive Tech Skills        -2646.19\n",
            "Soft Skills                   -2542.23\n",
            "Specialized Industry Skills   -6604.67\n",
            "Tech Skills                   -6060.98\n",
            "Name: net_per_10K_2017, dtype: float64\n",
            " the range for each skill category \n",
            " skill_group_category\n",
            "Business Skills                4519.55\n",
            "Disruptive Tech Skills         4124.75\n",
            "Soft Skills                    4114.58\n",
            "Specialized Industry Skills    8510.81\n",
            "Tech Skills                    7397.76\n",
            "Name: net_per_10K_2017, dtype: float64\n",
            "the max for each skill group category of net migration for 2019 \n",
            " skill_group_category\n",
            "Business Skills                1901.99\n",
            "Disruptive Tech Skills         1256.50\n",
            "Soft Skills                    1506.43\n",
            "Specialized Industry Skills    1311.73\n",
            "Tech Skills                    1316.44\n",
            "Name: net_per_10K_2019, dtype: float64\n",
            "the min for each skill group category of net migration for 2019 \n",
            " skill_group_category\n",
            "Business Skills               -2641.97\n",
            "Disruptive Tech Skills        -2395.31\n",
            "Soft Skills                   -4022.04\n",
            "Specialized Industry Skills   -2724.71\n",
            "Tech Skills                   -2108.01\n",
            "Name: net_per_10K_2019, dtype: float64\n",
            " the range for each skill category \n",
            " skill_group_category\n",
            "Business Skills                4543.96\n",
            "Disruptive Tech Skills         3651.81\n",
            "Soft Skills                    5528.47\n",
            "Specialized Industry Skills    4036.44\n",
            "Tech Skills                    3424.45\n",
            "Name: net_per_10K_2019, dtype: float64\n",
            "base country income max for 2015 \n",
            " wb_income\n",
            "High income            1799.39\n",
            "Low income             2824.97\n",
            "Lower middle income    1289.63\n",
            "Upper middle income    1008.05\n",
            "Name: net_per_10K_2015, dtype: float64\n",
            "base country income min for 2015 \n",
            " wb_income\n",
            "High income           -2447.11\n",
            "Low income            -1731.45\n",
            "Lower middle income    -858.73\n",
            "Upper middle income   -3037.38\n",
            "Name: net_per_10K_2015, dtype: float64\n",
            "the range base country income level wb_income\n",
            "High income            4246.50\n",
            "Low income             4556.42\n",
            "Lower middle income    2148.36\n",
            "Upper middle income    4045.43\n",
            "Name: net_per_10K_2015, dtype: float64\n"
          ]
        }
      ]
    }
  ]
}